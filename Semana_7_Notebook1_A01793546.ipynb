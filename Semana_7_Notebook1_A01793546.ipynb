{
  "nbformat": 4,
  "nbformat_minor": 0,
  "metadata": {
    "colab": {
      "provenance": [],
      "collapsed_sections": [],
      "authorship_tag": "ABX9TyN1gh+7KgMJ0AHd1msm0B4W",
      "include_colab_link": true
    },
    "kernelspec": {
      "name": "python3",
      "display_name": "Python 3"
    },
    "language_info": {
      "name": "python"
    }
  },
  "cells": [
    {
      "cell_type": "markdown",
      "metadata": {
        "id": "view-in-github",
        "colab_type": "text"
      },
      "source": [
        "<a href=\"https://colab.research.google.com/github/PosgradoMNA/actividades-de-aprendizaje-A01793546-Ariel-Corral-Leon/blob/main/Semana_7_Notebook1_A01793546.ipynb\" target=\"_parent\"><img src=\"https://colab.research.google.com/assets/colab-badge.svg\" alt=\"Open In Colab\"/></a>"
      ]
    },
    {
      "cell_type": "markdown",
      "source": [
        "![tec.jpeg](data:image/jpeg;base64,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)\n",
        "\n",
        "\n",
        "#**Maestría en Inteligencia Artificial Aplicada**\n",
        "##**Curso: Ciencia y analítica de datos**\n",
        "###Tecnológico de Monterrey\n",
        "###Dr. María de la Paz Rico Fernández\n",
        "\n",
        "\n",
        "## **Adtividad de la Semana 7 Notebook 1**\n",
        "###**Actividad Semanal -- 7 Regresiones #1 & #2**\n"
      ],
      "metadata": {
        "id": "N9ovlXD_mBTh"
      }
    },
    {
      "cell_type": "markdown",
      "source": [
        "# Ejercicio 1\n",
        "\n",
        "Utiliza la base de datos de \n",
        "https://www.kaggle.com/vinicius150987/manufacturing-cost\n",
        "\n",
        "Suponga que trabaja como consultor de una empresa de nueva creación que busca desarrollar un modelo para estimar el costo de los bienes vendidos a medida que varían el volumen de producción (número de unidades producidas). La startup recopiló datos y le pidió que desarrollara un modelo para predecir su costo frente a la cantidad de unidades vendidas."
      ],
      "metadata": {
        "id": "AFmRitXrnyPO"
      }
    },
    {
      "cell_type": "code",
      "source": [
        "#Librerias\n",
        "import pandas as pd\n",
        "import numpy as np\n",
        "import matplotlib.pyplot as plt\n",
        "import seaborn as sns\n",
        "from sklearn import metrics\n",
        "from sklearn.metrics import r2_score\n",
        "from sklearn.linear_model import Ridge\n",
        "from sklearn.linear_model import LinearRegression, Lasso, Ridge, ElasticNet\n",
        "from sklearn.preprocessing import PolynomialFeatures\n",
        "from sklearn.metrics import mean_squared_error, mean_absolute_percentage_error,  make_scorer, mean_absolute_error \n",
        "from sklearn.preprocessing import MinMaxScaler\n",
        "from sklearn.preprocessing import power_transform\n",
        "from sklearn.model_selection import RepeatedKFold, RepeatedStratifiedKFold\n",
        "from sklearn.model_selection import cross_val_score\n",
        "from sklearn.preprocessing import StandardScaler\n",
        "from sklearn.pipeline import Pipeline\n",
        "from sklearn.model_selection import train_test_split, GridSearchCV, cross_validate"
      ],
      "metadata": {
        "id": "Su0vt7Cun8Dr"
      },
      "execution_count": 1,
      "outputs": []
    },
    {
      "cell_type": "code",
      "execution_count": 2,
      "metadata": {
        "colab": {
          "base_uri": "https://localhost:8080/",
          "height": 206
        },
        "id": "4TMKelcBlHCZ",
        "outputId": "7d65c632-a4f3-4539-9eb4-96486a3466ba"
      },
      "outputs": [
        {
          "output_type": "execute_result",
          "data": {
            "text/plain": [
              "   Number of Units  Manufacturing Cost\n",
              "0         1.000000           95.066056\n",
              "1         1.185994           96.531750\n",
              "2         1.191499           73.661311\n",
              "3         1.204771           95.566843\n",
              "4         1.298773           98.777013"
            ],
            "text/html": [
              "\n",
              "  <div id=\"df-feaceaeb-d600-4110-8fdb-7e732243fccc\">\n",
              "    <div class=\"colab-df-container\">\n",
              "      <div>\n",
              "<style scoped>\n",
              "    .dataframe tbody tr th:only-of-type {\n",
              "        vertical-align: middle;\n",
              "    }\n",
              "\n",
              "    .dataframe tbody tr th {\n",
              "        vertical-align: top;\n",
              "    }\n",
              "\n",
              "    .dataframe thead th {\n",
              "        text-align: right;\n",
              "    }\n",
              "</style>\n",
              "<table border=\"1\" class=\"dataframe\">\n",
              "  <thead>\n",
              "    <tr style=\"text-align: right;\">\n",
              "      <th></th>\n",
              "      <th>Number of Units</th>\n",
              "      <th>Manufacturing Cost</th>\n",
              "    </tr>\n",
              "  </thead>\n",
              "  <tbody>\n",
              "    <tr>\n",
              "      <th>0</th>\n",
              "      <td>1.000000</td>\n",
              "      <td>95.066056</td>\n",
              "    </tr>\n",
              "    <tr>\n",
              "      <th>1</th>\n",
              "      <td>1.185994</td>\n",
              "      <td>96.531750</td>\n",
              "    </tr>\n",
              "    <tr>\n",
              "      <th>2</th>\n",
              "      <td>1.191499</td>\n",
              "      <td>73.661311</td>\n",
              "    </tr>\n",
              "    <tr>\n",
              "      <th>3</th>\n",
              "      <td>1.204771</td>\n",
              "      <td>95.566843</td>\n",
              "    </tr>\n",
              "    <tr>\n",
              "      <th>4</th>\n",
              "      <td>1.298773</td>\n",
              "      <td>98.777013</td>\n",
              "    </tr>\n",
              "  </tbody>\n",
              "</table>\n",
              "</div>\n",
              "      <button class=\"colab-df-convert\" onclick=\"convertToInteractive('df-feaceaeb-d600-4110-8fdb-7e732243fccc')\"\n",
              "              title=\"Convert this dataframe to an interactive table.\"\n",
              "              style=\"display:none;\">\n",
              "        \n",
              "  <svg xmlns=\"http://www.w3.org/2000/svg\" height=\"24px\"viewBox=\"0 0 24 24\"\n",
              "       width=\"24px\">\n",
              "    <path d=\"M0 0h24v24H0V0z\" fill=\"none\"/>\n",
              "    <path d=\"M18.56 5.44l.94 2.06.94-2.06 2.06-.94-2.06-.94-.94-2.06-.94 2.06-2.06.94zm-11 1L8.5 8.5l.94-2.06 2.06-.94-2.06-.94L8.5 2.5l-.94 2.06-2.06.94zm10 10l.94 2.06.94-2.06 2.06-.94-2.06-.94-.94-2.06-.94 2.06-2.06.94z\"/><path d=\"M17.41 7.96l-1.37-1.37c-.4-.4-.92-.59-1.43-.59-.52 0-1.04.2-1.43.59L10.3 9.45l-7.72 7.72c-.78.78-.78 2.05 0 2.83L4 21.41c.39.39.9.59 1.41.59.51 0 1.02-.2 1.41-.59l7.78-7.78 2.81-2.81c.8-.78.8-2.07 0-2.86zM5.41 20L4 18.59l7.72-7.72 1.47 1.35L5.41 20z\"/>\n",
              "  </svg>\n",
              "      </button>\n",
              "      \n",
              "  <style>\n",
              "    .colab-df-container {\n",
              "      display:flex;\n",
              "      flex-wrap:wrap;\n",
              "      gap: 12px;\n",
              "    }\n",
              "\n",
              "    .colab-df-convert {\n",
              "      background-color: #E8F0FE;\n",
              "      border: none;\n",
              "      border-radius: 50%;\n",
              "      cursor: pointer;\n",
              "      display: none;\n",
              "      fill: #1967D2;\n",
              "      height: 32px;\n",
              "      padding: 0 0 0 0;\n",
              "      width: 32px;\n",
              "    }\n",
              "\n",
              "    .colab-df-convert:hover {\n",
              "      background-color: #E2EBFA;\n",
              "      box-shadow: 0px 1px 2px rgba(60, 64, 67, 0.3), 0px 1px 3px 1px rgba(60, 64, 67, 0.15);\n",
              "      fill: #174EA6;\n",
              "    }\n",
              "\n",
              "    [theme=dark] .colab-df-convert {\n",
              "      background-color: #3B4455;\n",
              "      fill: #D2E3FC;\n",
              "    }\n",
              "\n",
              "    [theme=dark] .colab-df-convert:hover {\n",
              "      background-color: #434B5C;\n",
              "      box-shadow: 0px 1px 3px 1px rgba(0, 0, 0, 0.15);\n",
              "      filter: drop-shadow(0px 1px 2px rgba(0, 0, 0, 0.3));\n",
              "      fill: #FFFFFF;\n",
              "    }\n",
              "  </style>\n",
              "\n",
              "      <script>\n",
              "        const buttonEl =\n",
              "          document.querySelector('#df-feaceaeb-d600-4110-8fdb-7e732243fccc button.colab-df-convert');\n",
              "        buttonEl.style.display =\n",
              "          google.colab.kernel.accessAllowed ? 'block' : 'none';\n",
              "\n",
              "        async function convertToInteractive(key) {\n",
              "          const element = document.querySelector('#df-feaceaeb-d600-4110-8fdb-7e732243fccc');\n",
              "          const dataTable =\n",
              "            await google.colab.kernel.invokeFunction('convertToInteractive',\n",
              "                                                     [key], {});\n",
              "          if (!dataTable) return;\n",
              "\n",
              "          const docLinkHtml = 'Like what you see? Visit the ' +\n",
              "            '<a target=\"_blank\" href=https://colab.research.google.com/notebooks/data_table.ipynb>data table notebook</a>'\n",
              "            + ' to learn more about interactive tables.';\n",
              "          element.innerHTML = '';\n",
              "          dataTable['output_type'] = 'display_data';\n",
              "          await google.colab.output.renderOutput(dataTable, element);\n",
              "          const docLink = document.createElement('div');\n",
              "          docLink.innerHTML = docLinkHtml;\n",
              "          element.appendChild(docLink);\n",
              "        }\n",
              "      </script>\n",
              "    </div>\n",
              "  </div>\n",
              "  "
            ]
          },
          "metadata": {},
          "execution_count": 2
        }
      ],
      "source": [
        "path = 'https://raw.githubusercontent.com/marypazrf/bdd/main/EconomiesOfScale.csv'\n",
        "df = pd.read_csv(path)\n",
        "df.head()"
      ]
    },
    {
      "cell_type": "code",
      "source": [
        "X = df[['Number of Units']]\n",
        "y = df['Manufacturing Cost']"
      ],
      "metadata": {
        "id": "X4yi4nLhoP-Q"
      },
      "execution_count": 3,
      "outputs": []
    },
    {
      "cell_type": "code",
      "source": [
        "plt.plot(X,y,'b.')\n",
        "plt.xlabel('# of Units')\n",
        "plt.ylabel('Manufacturing Cost')\n",
        "plt.title('Relation between Unit Prod vs Mfg Cost')\n",
        "plt.grid(True)"
      ],
      "metadata": {
        "colab": {
          "base_uri": "https://localhost:8080/",
          "height": 295
        },
        "id": "FQxkaqjCoaSA",
        "outputId": "f48b6716-471a-46c4-b9a7-36adf76658ba"
      },
      "execution_count": 4,
      "outputs": [
        {
          "output_type": "display_data",
          "data": {
            "text/plain": [
              "<Figure size 432x288 with 1 Axes>"
            ],
            "image/png": "[encoded data removed]"
          },
          "metadata": {
            "needs_background": "light"
          }
        }
      ]
    },
    {
      "cell_type": "code",
      "source": [
        "X_train, X_test, y_train, y_test = train_test_split(X, y, test_size = 0.1, random_state = 101)\n",
        "lista_para_mae =[]\n",
        "lista_para_r2 =[]\n",
        "linear_reg = LinearRegression(fit_intercept=True)\n",
        "linear_reg.fit(X_train, y_train)\n",
        "X_para_regresion = X_test \n",
        "y_para_regresion = linear_reg.predict(X_para_regresion)\n",
        "plt.scatter(X_train, y_train)\n",
        "plt.plot(X_para_regresion, y_para_regresion, \"r-\", linewidth=3, label=\"Predicciones\")\n",
        "plt.xlabel('# of Units [X]')\n",
        "plt.ylabel('Manufacturing Cost [Y]')\n",
        "plt.title('Relation between Unit Prod vs Mfg Cost')\n",
        "plt.grid(True)\n",
        "plt.legend(loc=\"upper right\", fontsize=10)"
      ],
      "metadata": {
        "colab": {
          "base_uri": "https://localhost:8080/",
          "height": 313
        },
        "id": "GsjOCJ0ooeJ5",
        "outputId": "71df0703-98da-4747-c8c3-ffd266088df6"
      },
      "execution_count": 5,
      "outputs": [
        {
          "output_type": "execute_result",
          "data": {
            "text/plain": [
              "<matplotlib.legend.Legend at 0x7fb6fa100cd0>"
            ]
          },
          "metadata": {},
          "execution_count": 5
        },
        {
          "output_type": "display_data",
          "data": {
            "text/plain": [
              "<Figure size 432x288 with 1 Axes>"
            ],
            "image/png": "[encoded data removed]"
          },
          "metadata": {
            "needs_background": "light"
          }
        }
      ]
    },
    {
      "cell_type": "code",
      "source": [
        "#identificando la ecuacion\n",
        "linear_reg.coef_, linear_reg.intercept_\n",
        "\n",
        "#$\\hat{y} = {slope}}X + {intercept}\n",
        "#La descripcion de la ecuaci[on]\n",
        "print('Nuestro modelo es: Y =', linear_reg.coef_,'X + ', linear_reg.intercept_)\n",
        "\n",
        "mae_regresion_lineal_simple = metrics.mean_absolute_error(y_test,y_para_regresion)\n",
        "lista_para_mae.append(mae_regresion_lineal_simple)\n",
        "r2_regresion_lineal_simple = r2_score(y_test,y_para_regresion)\n",
        "lista_para_r2.append(r2_regresion_lineal_simple)\n",
        "\n",
        "# calculando los posibles errores\n",
        "print()\n",
        "print('Su MAE {Error Medio Absoluto}: ', round(metrics.mean_absolute_error(y_test,y_para_regresion),2))\n",
        "print()\n",
        "print('Su RMSE {Error Medio Cuadrado}: ', round(np.sqrt(metrics.mean_squared_error(y_test, y_para_regresion)),2))\n",
        "\n",
        "#calculando la r cuadrada\n",
        "print()\n",
        "print('R2_score: ', round(r2_score(y_test,y_para_regresion)),2)"
      ],
      "metadata": {
        "colab": {
          "base_uri": "https://localhost:8080/"
        },
        "id": "XSZolgdVpJmZ",
        "outputId": "309c55d2-eb29-42bf-9c42-7a49485b6d3a"
      },
      "execution_count": 6,
      "outputs": [
        {
          "output_type": "stream",
          "name": "stdout",
          "text": [
            "Nuestro modelo es: Y = [-5.98882699] X +  66.83650741226988\n",
            "\n",
            "Su MAE {Error Medio Absoluto}:  5.01\n",
            "\n",
            "Su RMSE {Error Medio Cuadrado}:  7.11\n",
            "\n",
            "R2_score:  1 2\n"
          ]
        }
      ]
    },
    {
      "cell_type": "code",
      "source": [
        "Caract_Poly = PolynomialFeatures(degree=2, include_bias=False) #Aqui tenemos que crear las caracteristicas, revisar porque el grado es 2, porque queremos ajustar a un polinomio de segundo raro\n",
        "#Lo de arriba lo que hace es que los datos originales los va a ir elevando al cuadrado, porque le pusimos 2, pero si juera mas, pues nos va haciendo la potencia\n",
        "X_polinomial = Caract_Poly.fit_transform(X_train)\n",
        "print(\"Input\",Caract_Poly.n_input_features_)\n",
        "print(\"Ouput\",Caract_Poly.n_output_features_)\n",
        "print(\"Powersn\",Caract_Poly.powers_)\n",
        "\n",
        "regresion_lineal_poli = LinearRegression(fit_intercept=True) #Creamos una \n",
        "regresion_lineal_poli.fit(X_polinomial, y_train)\n",
        "regresion_lineal_poli.coef_, regresion_lineal_poli.intercept_"
      ],
      "metadata": {
        "colab": {
          "base_uri": "https://localhost:8080/"
        },
        "id": "Jgmj1e_ssCoh",
        "outputId": "ea597c01-40b8-4713-eac0-70c4bea07592"
      },
      "execution_count": 7,
      "outputs": [
        {
          "output_type": "stream",
          "name": "stdout",
          "text": [
            "Input 1\n",
            "Ouput 2\n",
            "Powersn [[1]\n",
            " [2]]\n"
          ]
        },
        {
          "output_type": "stream",
          "name": "stderr",
          "text": [
            "/usr/local/lib/python3.7/dist-packages/sklearn/utils/deprecation.py:103: FutureWarning: The attribute `n_input_features_` was deprecated in version 1.0 and will be removed in 1.2.\n",
            "  warnings.warn(msg, category=FutureWarning)\n"
          ]
        },
        {
          "output_type": "execute_result",
          "data": {
            "text/plain": [
              "(array([-16.40638102,   1.13136095]), 88.80179909112496)"
            ]
          },
          "metadata": {},
          "execution_count": 7
        }
      ]
    },
    {
      "cell_type": "code",
      "source": [
        "X_polinomial_test = Caract_Poly.fit_transform(X_test)\n",
        "X_polinomial_test.shape"
      ],
      "metadata": {
        "colab": {
          "base_uri": "https://localhost:8080/"
        },
        "id": "kzuX7TNvs0UU",
        "outputId": "8de7cb78-a3c4-4681-8af9-54900d53fd6d"
      },
      "execution_count": 8,
      "outputs": [
        {
          "output_type": "execute_result",
          "data": {
            "text/plain": [
              "(100, 2)"
            ]
          },
          "metadata": {},
          "execution_count": 8
        }
      ]
    },
    {
      "cell_type": "code",
      "source": [
        "y_con_regresion_poli = regresion_lineal_poli.predict(X_polinomial_test)\n",
        "y_con_regresion_poli.shape"
      ],
      "metadata": {
        "colab": {
          "base_uri": "https://localhost:8080/"
        },
        "id": "Nx_z6x4Ws6eL",
        "outputId": "dab1cbb5-a572-48c8-8749-9f853263c352"
      },
      "execution_count": 9,
      "outputs": [
        {
          "output_type": "execute_result",
          "data": {
            "text/plain": [
              "(100,)"
            ]
          },
          "metadata": {},
          "execution_count": 9
        }
      ]
    },
    {
      "cell_type": "code",
      "source": [
        "# graficando las predicciones\n",
        "order = np.argsort(X_test.values.ravel())  \n",
        "\n",
        "sortedXPoly = X_test.values.ravel()[order]  \n",
        "sortedYPoly = y_test.values.ravel()[order]\n",
        "sorted_predicPoly = y_con_regresion_poli[order]\n",
        "\n",
        "plt.plot(X, y, \"b.\")\n",
        "plt.plot(sortedXPoly, sorted_predicPoly, \"r-\", linewidth=3, label=\"Predicciones\")\n",
        "plt.xlabel('# of Units [X]')\n",
        "plt.ylabel('Manufacturing Cost [Y]')\n",
        "plt.title('Relation between Unit Prod vs Mfg Cost')\n",
        "plt.grid(True)\n",
        "plt.legend(loc=\"upper right\", fontsize=10)"
      ],
      "metadata": {
        "colab": {
          "base_uri": "https://localhost:8080/",
          "height": 313
        },
        "id": "9aMh6RY7tI6J",
        "outputId": "9715e6d1-99cd-4e7f-f187-89f546e98b95"
      },
      "execution_count": 10,
      "outputs": [
        {
          "output_type": "execute_result",
          "data": {
            "text/plain": [
              "<matplotlib.legend.Legend at 0x7fb6fa02bf90>"
            ]
          },
          "metadata": {},
          "execution_count": 10
        },
        {
          "output_type": "display_data",
          "data": {
            "text/plain": [
              "<Figure size 432x288 with 1 Axes>"
            ],
            "image/png": "[encoded data removed]"
          },
          "metadata": {
            "needs_background": "light"
          }
        }
      ]
    },
    {
      "cell_type": "code",
      "source": [
        "#Estableciendo nuevo modelo\n",
        "\n",
        "print('El nuevo modelo : Y = ', round(regresion_lineal_poli.coef_[1],2),'X^2 +', round(regresion_lineal_poli.coef_[0],2),'X +',round(regresion_lineal_poli.intercept_,2))\n",
        "print()\n",
        "mae_regresion_lineal_multiple = metrics.mean_absolute_error(y_test,y_con_regresion_poli)\n",
        "lista_para_mae.append(mae_regresion_lineal_multiple) #Ojo con los corchetes y los parentesis, en el ppend debe de ser con parentesis, pero en la deficnion es con corchetes para no hacer tuplas, \n",
        "r2_regresion_lineal_multiple = r2_score(y_test,y_con_regresion_poli)\n",
        "lista_para_r2.append(r2_regresion_lineal_multiple)\n",
        "\n",
        "metric_mae = metrics.mean_absolute_error(y_test, y_con_regresion_poli)\n",
        "#mae_list.append(mae) esto no, eso es del compa;ero que nos los paso, no sean copiones\n",
        "r2Score = r2_score(y_test, y_con_regresion_poli)\n",
        "#r2_list.append(r2Score) esto tampoco, es del metodo avanzado del compa;ero\n",
        "print('Su MAE {Error Medio Absoluto}: ', round(metric_mae,2))\n",
        "print()\n",
        "print('Su RMSE {Error Medio Cuadrado}: ', round(np.sqrt(metrics.mean_squared_error(y_test, y_con_regresion_poli)),2))\n",
        "print()\n",
        "print('R2_score: ',round(r2Score, 2))"
      ],
      "metadata": {
        "colab": {
          "base_uri": "https://localhost:8080/"
        },
        "id": "p46_JlLFtcra",
        "outputId": "209c2055-cf6d-4dad-a6d4-8275779ebe6a"
      },
      "execution_count": 11,
      "outputs": [
        {
          "output_type": "stream",
          "name": "stdout",
          "text": [
            "El nuevo modelo : Y =  1.13 X^2 + -16.41 X + 88.8\n",
            "\n",
            "Su MAE {Error Medio Absoluto}:  4.38\n",
            "\n",
            "Su RMSE {Error Medio Cuadrado}:  5.83\n",
            "\n",
            "R2_score:  0.74\n"
          ]
        }
      ]
    },
    {
      "cell_type": "code",
      "source": [
        "mi_ridge = Ridge(alpha=5.0,fit_intercept=True) # el 5  es recomendacion de los que ya probaron, pero le pueden poner lo que sea para hacer prueba\n",
        "mi_ridge.fit(X_train, y_train)\n",
        "X_para_ridge = X_test  #Aqui recordemos que se hace con los de prueba, no con los de entrenamiento\n",
        "y_para_ridge = mi_ridge.predict(X_para_ridge)\n",
        "plt.scatter(X_train, y_train)\n",
        "plt.plot(X_para_ridge, y_para_ridge, \"r-\", linewidth=3, label=\"Predicciones\")\n",
        "plt.xlabel('# of Units [X]')\n",
        "plt.ylabel('Manufacturing Cost [Y]')\n",
        "plt.title('Relation between Unit Prod vs Mfg Cost')\n",
        "plt.grid(True)\n",
        "plt.legend(loc=\"upper right\", fontsize=10)"
      ],
      "metadata": {
        "colab": {
          "base_uri": "https://localhost:8080/",
          "height": 313
        },
        "id": "YLLyBNKWvwWG",
        "outputId": "854251b4-554f-4cf6-900e-91c450dc1e51"
      },
      "execution_count": 12,
      "outputs": [
        {
          "output_type": "execute_result",
          "data": {
            "text/plain": [
              "<matplotlib.legend.Legend at 0x7fb6f9fba110>"
            ]
          },
          "metadata": {},
          "execution_count": 12
        },
        {
          "output_type": "display_data",
          "data": {
            "text/plain": [
              "<Figure size 432x288 with 1 Axes>"
            ],
            "image/png": "[encoded data removed]"
          },
          "metadata": {
            "needs_background": "light"
          }
        }
      ]
    },
    {
      "cell_type": "markdown",
      "source": [
        "**Podemos observar como Ridge realiza una compensación mucho mas fuerte generando una predicción mas limitadas**"
      ],
      "metadata": {
        "id": "u2JfuGGp0xB0"
      }
    },
    {
      "cell_type": "code",
      "source": [
        "#metricas del ridge\n",
        "\n",
        "mae_ridge = metrics.mean_absolute_error(y_test,y_para_ridge)\n",
        "lista_para_mae.append(mae_ridge) #Ojo con los corchetes y los parentesis, en el ppend debe de ser con parentesis, pero en la deficnion es con corchetes para no hacer tuplas, \n",
        "r2_ridge= r2_score(y_test,y_para_ridge)\n",
        "lista_para_r2.append(r2_ridge)\n",
        "\n",
        "metrica_mae_ridge = metrics.mean_absolute_error(y_test, y_para_ridge)\n",
        "r2Score = r2_score(y_test, y_para_ridge)\n",
        "print('Error medio Absoluto (MAE):', metrica_mae_ridge)\n",
        "print()\n",
        "print('Root Mean Squared Error:', np.sqrt(metrics.mean_squared_error(y_test, y_para_ridge)))\n",
        "print()\n",
        "print('r2_score',r2Score)\n",
        "print()\n",
        "#La ecuacion\n",
        "\n",
        "print('El modelo es: Y =', mi_ridge.coef_,'X +', mi_ridge.intercept_)\n"
      ],
      "metadata": {
        "colab": {
          "base_uri": "https://localhost:8080/"
        },
        "id": "jN0pjfctzIn1",
        "outputId": "11794df2-9fe1-4c51-9d53-0117e15b52f0"
      },
      "execution_count": 13,
      "outputs": [
        {
          "output_type": "stream",
          "name": "stdout",
          "text": [
            "Error medio Absoluto (MAE): 5.0162057389928325\n",
            "\n",
            "Root Mean Squared Error: 7.1111119498200965\n",
            "\n",
            "r2_score 0.6113903530239646\n",
            "\n",
            "El modelo es: Y = [-5.97003397] X + 66.75243237759665\n"
          ]
        }
      ]
    },
    {
      "cell_type": "code",
      "source": [
        "#Ahora vamos con el lasso\n",
        "#class sklearn.linear_model.Lasso(alpha=1.0, *, fit_intercept=True, normalize='deprecated', precompute=False, copy_X=True, max_iter=1000, tol=0.0001, warm_start=False, positive=False, random_state=None, selection='cyclic')[source]\n",
        "\n",
        "mi_lasso = Lasso(alpha=5.0,fit_intercept=True) # el 5  es recomendacion de los que ya probaron, pero le pueden poner lo que sea para hacer prueba\n",
        "mi_lasso.fit(X_train, y_train)\n",
        "X_para_lasso = X_test  #Aqui recordemos que se hace con los de prueba, no con los de entrenamiento\n",
        "y_para_lasso = mi_lasso.predict(X_para_ridge)\n",
        "plt.scatter(X_train, y_train)\n",
        "plt.plot(X_para_lasso, y_para_lasso, \"r-\", linewidth=2, label=\"Predicciones\")\n",
        "plt.xlabel('# of Units [X]')\n",
        "plt.ylabel('Manufacturing Cost [Y]')\n",
        "plt.title('Relation between Unit Prod vs Mfg Cost')\n",
        "plt.grid(True)\n",
        "plt.legend(loc=\"upper right\", fontsize=10)\n",
        "\n",
        "#El lasso castiga mas a las coeficientes de las variables, en comparacion con el ridge"
      ],
      "metadata": {
        "colab": {
          "base_uri": "https://localhost:8080/",
          "height": 313
        },
        "id": "DdH9AvmEzNVU",
        "outputId": "e49b7855-e31b-4306-c2f2-8bc10045c060"
      },
      "execution_count": 14,
      "outputs": [
        {
          "output_type": "execute_result",
          "data": {
            "text/plain": [
              "<matplotlib.legend.Legend at 0x7fb6f9f32e50>"
            ]
          },
          "metadata": {},
          "execution_count": 14
        },
        {
          "output_type": "display_data",
          "data": {
            "text/plain": [
              "<Figure size 432x288 with 1 Axes>"
            ],
            "image/png": "[encoded data removed]"
          },
          "metadata": {
            "needs_background": "light"
          }
        }
      ]
    },
    {
      "cell_type": "markdown",
      "source": [
        "**Podemos ver como lasso realiza una compensación mucho mas fuerte generando una predicción mas limitada a comparación a la Ridge**"
      ],
      "metadata": {
        "id": "DBjEpJKQ0ey8"
      }
    },
    {
      "cell_type": "code",
      "source": [
        "#Las metricas del lasso\n",
        "\n",
        "mae_lasso = metrics.mean_absolute_error(y_test,y_para_lasso)\n",
        "lista_para_mae.append(mae_lasso) #Ojo con los corchetes y los parentesis, en el ppend debe de ser con parentesis, pero en la deficnion es con corchetes para no hacer tuplas, \n",
        "r2_lasso= r2_score(y_test,y_para_lasso)\n",
        "lista_para_r2.append(r2_lasso)\n",
        "\n",
        "\n",
        "metrica_mae_lasso = metrics.mean_absolute_error(y_test, y_para_lasso)\n",
        "r2Score = r2_score(y_test, y_para_lasso)\n",
        "print('Error medio Absoluto (MAE):', round(metrica_mae_lasso,2))\n",
        "print()\n",
        "print('Root Mean Squared Error:', round(np.sqrt(metrics.mean_squared_error(y_test, y_para_lasso)),2))\n",
        "print()\n",
        "print('r2_score',round(r2Score,2))\n",
        "print()\n",
        "#La ecuacion\n",
        "\n",
        "print('El modelo es: Y =', mi_lasso.coef_,'X +', mi_lasso.intercept_)"
      ],
      "metadata": {
        "colab": {
          "base_uri": "https://localhost:8080/"
        },
        "id": "MwDvnOaFzRUK",
        "outputId": "68a97f28-7046-4d4b-cb35-338f2ea2ee98"
      },
      "execution_count": 15,
      "outputs": [
        {
          "output_type": "stream",
          "name": "stdout",
          "text": [
            "Error medio Absoluto (MAE): 5.68\n",
            "\n",
            "Root Mean Squared Error: 8.41\n",
            "\n",
            "r2_score 0.46\n",
            "\n",
            "El modelo es: Y = [-3.15572458] X + 54.16195119377413\n"
          ]
        }
      ]
    },
    {
      "cell_type": "code",
      "source": [
        "print(lista_para_mae)\n",
        "print(lista_para_r2)"
      ],
      "metadata": {
        "colab": {
          "base_uri": "https://localhost:8080/"
        },
        "id": "UKcaGir9zvtr",
        "outputId": "f6536d04-e5a5-4e33-becd-0e8fa3dbdcf8"
      },
      "execution_count": 16,
      "outputs": [
        {
          "output_type": "stream",
          "name": "stdout",
          "text": [
            "[5.013587781954963, 4.3833025759681075, 5.0162057389928325, 5.681207654677401]\n",
            "[0.6116251549562579, 0.7385501224942537, 0.6113903530239646, 0.456505036516648]\n"
          ]
        }
      ]
    },
    {
      "cell_type": "code",
      "source": [
        "#Grafico de mae\n",
        "nombres=list()\n",
        "nombres.append('RL')\n",
        "nombres.append('RLP')\n",
        "nombres.append('Ridge')\n",
        "nombres.append('Lasso')\n",
        "\n",
        "plt.bar(nombres, lista_para_mae,color ='blue', width = 0.4)\n",
        "plt.show()"
      ],
      "metadata": {
        "colab": {
          "base_uri": "https://localhost:8080/",
          "height": 265
        },
        "id": "Bh5fhQndzyaw",
        "outputId": "c185452a-195b-4ff6-dd2f-e98804a88ea1"
      },
      "execution_count": 17,
      "outputs": [
        {
          "output_type": "display_data",
          "data": {
            "text/plain": [
              "<Figure size 432x288 with 1 Axes>"
            ],
            "image/png": "[encoded data removed]"
          },
          "metadata": {
            "needs_background": "light"
          }
        }
      ]
    },
    {
      "cell_type": "code",
      "source": [
        "#Grafico de r cuadrada\n",
        "nombres=list()\n",
        "nombres.append('RL')\n",
        "nombres.append('RLP')\n",
        "nombres.append('Ridge')\n",
        "nombres.append('Lasso')\n",
        "\n",
        "plt.bar(nombres, lista_para_r2,color ='red', width = 0.4)\n",
        "plt.show()"
      ],
      "metadata": {
        "colab": {
          "base_uri": "https://localhost:8080/",
          "height": 265
        },
        "id": "AACGenySz3SF",
        "outputId": "252a9365-f982-45af-c81c-00539fbc018e"
      },
      "execution_count": 18,
      "outputs": [
        {
          "output_type": "display_data",
          "data": {
            "text/plain": [
              "<Figure size 432x288 with 1 Axes>"
            ],
            "image/png": "[encoded data removed]"
          },
          "metadata": {
            "needs_background": "light"
          }
        }
      ]
    },
    {
      "cell_type": "code",
      "source": [
        "residuo_regresion_simple=y_para_regresion - y_test\n",
        "residuo_regresion_poliforme= y_con_regresion_poli - y_test\n",
        "residuo_ridge=y_para_ridge - y_test\n",
        "residuo_lasso=y_para_lasso - y_test\n",
        "lista_residuos= [residuo_regresion_simple,residuo_regresion_poliforme,residuo_ridge,residuo_lasso]\n",
        "nombres=list()\n",
        "nombres.append('Lineal')\n",
        "nombres.append('Polinomial')\n",
        "nombres.append('Ridge')\n",
        "nombres.append('LAso')\n",
        "\n",
        "#grafica del MAE (de los cuatro métodos)\n",
        "sns.set(rc={'figure.figsize':(9,6)})\n",
        "\n",
        "plt.boxplot(lista_residuos, labels=nombres, showmeans=True)\n",
        "plt.show()"
      ],
      "metadata": {
        "colab": {
          "base_uri": "https://localhost:8080/",
          "height": 377
        },
        "id": "wmfUJUbP3V1f",
        "outputId": "9df3d97b-9ef0-4566-b902-717c8a01f2f2"
      },
      "execution_count": 19,
      "outputs": [
        {
          "output_type": "display_data",
          "data": {
            "text/plain": [
              "<Figure size 648x432 with 1 Axes>"
            ],
            "image/png": "[encoded data removed]"
          },
          "metadata": {}
        }
      ]
    },
    {
      "cell_type": "markdown",
      "source": [
        "#Ejercicio 2\n",
        "Realiza la regresión polinomial de los siguientes datos:"
      ],
      "metadata": {
        "id": "K8BFHk6A39K9"
      }
    },
    {
      "cell_type": "code",
      "source": [
        "df = pd.read_csv('https://raw.githubusercontent.com/marypazrf/bdd/main/kc_house_data.csv')\n",
        "df.sample(10)"
      ],
      "metadata": {
        "colab": {
          "base_uri": "https://localhost:8080/",
          "height": 456
        },
        "id": "Wgr0V7kI39_-",
        "outputId": "6ad9c810-8aef-43bd-b616-701a62662ed4"
      },
      "execution_count": 20,
      "outputs": [
        {
          "output_type": "execute_result",
          "data": {
            "text/plain": [
              "               id             date      price  bedrooms  bathrooms  \\\n",
              "10599  7312400075  20141216T000000   422500.0         2       1.00   \n",
              "8410   3625059140  20140507T000000   515000.0         3       1.75   \n",
              "12205  8605900060  20140603T000000   545000.0         3       1.75   \n",
              "3099   5360200054  20141002T000000   247500.0         3       2.00   \n",
              "3765   5113400535  20140507T000000   750000.0         3       2.75   \n",
              "4720   8074200100  20141015T000000   266000.0         3       1.50   \n",
              "10383  9144300060  20150430T000000   350000.0         3       1.00   \n",
              "1983    434000030  20141219T000000   555000.0         3       2.00   \n",
              "13256  1954700410  20140801T000000  2546000.0         4       3.00   \n",
              "11915  1773100310  20150423T000000   464950.0         4       2.50   \n",
              "\n",
              "       sqft_living  sqft_lot  floors  waterfront  view  ...  grade  \\\n",
              "10599          910      4800     1.0           0     0  ...      7   \n",
              "8410          1580      9147     1.0           0     1  ...      7   \n",
              "12205         1810      3000     1.5           0     0  ...      7   \n",
              "3099          1530      8749     1.0           0     0  ...      7   \n",
              "3765          2520      5401     1.0           0     0  ...      7   \n",
              "4720          1120      8250     1.0           0     0  ...      7   \n",
              "10383         1250      9786     1.0           0     0  ...      7   \n",
              "1983          2080      7020     1.0           0     0  ...      7   \n",
              "13256         4190      8805     2.5           0     2  ...      9   \n",
              "11915         1640      6000     2.0           0     0  ...      7   \n",
              "\n",
              "       sqft_above  sqft_basement  yr_built  yr_renovated  zipcode      lat  \\\n",
              "10599         910              0      1923             0    98126  47.5536   \n",
              "8410         1210            370      1967             0    98008  47.6069   \n",
              "12205        1810              0      1903             0    98107  47.6599   \n",
              "3099         1530              0      1995             0    98023  47.2974   \n",
              "3765         1360           1160      1946             0    98119  47.6452   \n",
              "4720         1120              0      1957             0    98056  47.4905   \n",
              "10383        1250              0      1969             0    98072  47.7622   \n",
              "1983         1040           1040      1951             0    98115  47.6768   \n",
              "13256        3490            700      1928             0    98112  47.6181   \n",
              "11915        1640              0      2011             0    98106  47.5590   \n",
              "\n",
              "          long  sqft_living15  sqft_lot15  \n",
              "10599 -122.377           1450        5000  \n",
              "8410  -122.112           2600       23564  \n",
              "12205 -122.363           1140        3000  \n",
              "3099  -122.372           1750        8749  \n",
              "3765  -122.373           1800        5036  \n",
              "4720  -122.179           1320        8400  \n",
              "10383 -122.163           1660        9621  \n",
              "1983  -122.285           1920        7000  \n",
              "13256 -122.284           3780        8558  \n",
              "11915 -122.365           1640        4800  \n",
              "\n",
              "[10 rows x 21 columns]"
            ],
            "text/html": [
              "\n",
              "  <div id=\"df-2f1d93f4-0c38-4a01-89ca-709358cdc15d\">\n",
              "    <div class=\"colab-df-container\">\n",
              "      <div>\n",
              "<style scoped>\n",
              "    .dataframe tbody tr th:only-of-type {\n",
              "        vertical-align: middle;\n",
              "    }\n",
              "\n",
              "    .dataframe tbody tr th {\n",
              "        vertical-align: top;\n",
              "    }\n",
              "\n",
              "    .dataframe thead th {\n",
              "        text-align: right;\n",
              "    }\n",
              "</style>\n",
              "<table border=\"1\" class=\"dataframe\">\n",
              "  <thead>\n",
              "    <tr style=\"text-align: right;\">\n",
              "      <th></th>\n",
              "      <th>id</th>\n",
              "      <th>date</th>\n",
              "      <th>price</th>\n",
              "      <th>bedrooms</th>\n",
              "      <th>bathrooms</th>\n",
              "      <th>sqft_living</th>\n",
              "      <th>sqft_lot</th>\n",
              "      <th>floors</th>\n",
              "      <th>waterfront</th>\n",
              "      <th>view</th>\n",
              "      <th>...</th>\n",
              "      <th>grade</th>\n",
              "      <th>sqft_above</th>\n",
              "      <th>sqft_basement</th>\n",
              "      <th>yr_built</th>\n",
              "      <th>yr_renovated</th>\n",
              "      <th>zipcode</th>\n",
              "      <th>lat</th>\n",
              "      <th>long</th>\n",
              "      <th>sqft_living15</th>\n",
              "      <th>sqft_lot15</th>\n",
              "    </tr>\n",
              "  </thead>\n",
              "  <tbody>\n",
              "    <tr>\n",
              "      <th>10599</th>\n",
              "      <td>7312400075</td>\n",
              "      <td>20141216T000000</td>\n",
              "      <td>422500.0</td>\n",
              "      <td>2</td>\n",
              "      <td>1.00</td>\n",
              "      <td>910</td>\n",
              "      <td>4800</td>\n",
              "      <td>1.0</td>\n",
              "      <td>0</td>\n",
              "      <td>0</td>\n",
              "      <td>...</td>\n",
              "      <td>7</td>\n",
              "      <td>910</td>\n",
              "      <td>0</td>\n",
              "      <td>1923</td>\n",
              "      <td>0</td>\n",
              "      <td>98126</td>\n",
              "      <td>47.5536</td>\n",
              "      <td>-122.377</td>\n",
              "      <td>1450</td>\n",
              "      <td>5000</td>\n",
              "    </tr>\n",
              "    <tr>\n",
              "      <th>8410</th>\n",
              "      <td>3625059140</td>\n",
              "      <td>20140507T000000</td>\n",
              "      <td>515000.0</td>\n",
              "      <td>3</td>\n",
              "      <td>1.75</td>\n",
              "      <td>1580</td>\n",
              "      <td>9147</td>\n",
              "      <td>1.0</td>\n",
              "      <td>0</td>\n",
              "      <td>1</td>\n",
              "      <td>...</td>\n",
              "      <td>7</td>\n",
              "      <td>1210</td>\n",
              "      <td>370</td>\n",
              "      <td>1967</td>\n",
              "      <td>0</td>\n",
              "      <td>98008</td>\n",
              "      <td>47.6069</td>\n",
              "      <td>-122.112</td>\n",
              "      <td>2600</td>\n",
              "      <td>23564</td>\n",
              "    </tr>\n",
              "    <tr>\n",
              "      <th>12205</th>\n",
              "      <td>8605900060</td>\n",
              "      <td>20140603T000000</td>\n",
              "      <td>545000.0</td>\n",
              "      <td>3</td>\n",
              "      <td>1.75</td>\n",
              "      <td>1810</td>\n",
              "      <td>3000</td>\n",
              "      <td>1.5</td>\n",
              "      <td>0</td>\n",
              "      <td>0</td>\n",
              "      <td>...</td>\n",
              "      <td>7</td>\n",
              "      <td>1810</td>\n",
              "      <td>0</td>\n",
              "      <td>1903</td>\n",
              "      <td>0</td>\n",
              "      <td>98107</td>\n",
              "      <td>47.6599</td>\n",
              "      <td>-122.363</td>\n",
              "      <td>1140</td>\n",
              "      <td>3000</td>\n",
              "    </tr>\n",
              "    <tr>\n",
              "      <th>3099</th>\n",
              "      <td>5360200054</td>\n",
              "      <td>20141002T000000</td>\n",
              "      <td>247500.0</td>\n",
              "      <td>3</td>\n",
              "      <td>2.00</td>\n",
              "      <td>1530</td>\n",
              "      <td>8749</td>\n",
              "      <td>1.0</td>\n",
              "      <td>0</td>\n",
              "      <td>0</td>\n",
              "      <td>...</td>\n",
              "      <td>7</td>\n",
              "      <td>1530</td>\n",
              "      <td>0</td>\n",
              "      <td>1995</td>\n",
              "      <td>0</td>\n",
              "      <td>98023</td>\n",
              "      <td>47.2974</td>\n",
              "      <td>-122.372</td>\n",
              "      <td>1750</td>\n",
              "      <td>8749</td>\n",
              "    </tr>\n",
              "    <tr>\n",
              "      <th>3765</th>\n",
              "      <td>5113400535</td>\n",
              "      <td>20140507T000000</td>\n",
              "      <td>750000.0</td>\n",
              "      <td>3</td>\n",
              "      <td>2.75</td>\n",
              "      <td>2520</td>\n",
              "      <td>5401</td>\n",
              "      <td>1.0</td>\n",
              "      <td>0</td>\n",
              "      <td>0</td>\n",
              "      <td>...</td>\n",
              "      <td>7</td>\n",
              "      <td>1360</td>\n",
              "      <td>1160</td>\n",
              "      <td>1946</td>\n",
              "      <td>0</td>\n",
              "      <td>98119</td>\n",
              "      <td>47.6452</td>\n",
              "      <td>-122.373</td>\n",
              "      <td>1800</td>\n",
              "      <td>5036</td>\n",
              "    </tr>\n",
              "    <tr>\n",
              "      <th>4720</th>\n",
              "      <td>8074200100</td>\n",
              "      <td>20141015T000000</td>\n",
              "      <td>266000.0</td>\n",
              "      <td>3</td>\n",
              "      <td>1.50</td>\n",
              "      <td>1120</td>\n",
              "      <td>8250</td>\n",
              "      <td>1.0</td>\n",
              "      <td>0</td>\n",
              "      <td>0</td>\n",
              "      <td>...</td>\n",
              "      <td>7</td>\n",
              "      <td>1120</td>\n",
              "      <td>0</td>\n",
              "      <td>1957</td>\n",
              "      <td>0</td>\n",
              "      <td>98056</td>\n",
              "      <td>47.4905</td>\n",
              "      <td>-122.179</td>\n",
              "      <td>1320</td>\n",
              "      <td>8400</td>\n",
              "    </tr>\n",
              "    <tr>\n",
              "      <th>10383</th>\n",
              "      <td>9144300060</td>\n",
              "      <td>20150430T000000</td>\n",
              "      <td>350000.0</td>\n",
              "      <td>3</td>\n",
              "      <td>1.00</td>\n",
              "      <td>1250</td>\n",
              "      <td>9786</td>\n",
              "      <td>1.0</td>\n",
              "      <td>0</td>\n",
              "      <td>0</td>\n",
              "      <td>...</td>\n",
              "      <td>7</td>\n",
              "      <td>1250</td>\n",
              "      <td>0</td>\n",
              "      <td>1969</td>\n",
              "      <td>0</td>\n",
              "      <td>98072</td>\n",
              "      <td>47.7622</td>\n",
              "      <td>-122.163</td>\n",
              "      <td>1660</td>\n",
              "      <td>9621</td>\n",
              "    </tr>\n",
              "    <tr>\n",
              "      <th>1983</th>\n",
              "      <td>434000030</td>\n",
              "      <td>20141219T000000</td>\n",
              "      <td>555000.0</td>\n",
              "      <td>3</td>\n",
              "      <td>2.00</td>\n",
              "      <td>2080</td>\n",
              "      <td>7020</td>\n",
              "      <td>1.0</td>\n",
              "      <td>0</td>\n",
              "      <td>0</td>\n",
              "      <td>...</td>\n",
              "      <td>7</td>\n",
              "      <td>1040</td>\n",
              "      <td>1040</td>\n",
              "      <td>1951</td>\n",
              "      <td>0</td>\n",
              "      <td>98115</td>\n",
              "      <td>47.6768</td>\n",
              "      <td>-122.285</td>\n",
              "      <td>1920</td>\n",
              "      <td>7000</td>\n",
              "    </tr>\n",
              "    <tr>\n",
              "      <th>13256</th>\n",
              "      <td>1954700410</td>\n",
              "      <td>20140801T000000</td>\n",
              "      <td>2546000.0</td>\n",
              "      <td>4</td>\n",
              "      <td>3.00</td>\n",
              "      <td>4190</td>\n",
              "      <td>8805</td>\n",
              "      <td>2.5</td>\n",
              "      <td>0</td>\n",
              "      <td>2</td>\n",
              "      <td>...</td>\n",
              "      <td>9</td>\n",
              "      <td>3490</td>\n",
              "      <td>700</td>\n",
              "      <td>1928</td>\n",
              "      <td>0</td>\n",
              "      <td>98112</td>\n",
              "      <td>47.6181</td>\n",
              "      <td>-122.284</td>\n",
              "      <td>3780</td>\n",
              "      <td>8558</td>\n",
              "    </tr>\n",
              "    <tr>\n",
              "      <th>11915</th>\n",
              "      <td>1773100310</td>\n",
              "      <td>20150423T000000</td>\n",
              "      <td>464950.0</td>\n",
              "      <td>4</td>\n",
              "      <td>2.50</td>\n",
              "      <td>1640</td>\n",
              "      <td>6000</td>\n",
              "      <td>2.0</td>\n",
              "      <td>0</td>\n",
              "      <td>0</td>\n",
              "      <td>...</td>\n",
              "      <td>7</td>\n",
              "      <td>1640</td>\n",
              "      <td>0</td>\n",
              "      <td>2011</td>\n",
              "      <td>0</td>\n",
              "      <td>98106</td>\n",
              "      <td>47.5590</td>\n",
              "      <td>-122.365</td>\n",
              "      <td>1640</td>\n",
              "      <td>4800</td>\n",
              "    </tr>\n",
              "  </tbody>\n",
              "</table>\n",
              "<p>10 rows × 21 columns</p>\n",
              "</div>\n",
              "      <button class=\"colab-df-convert\" onclick=\"convertToInteractive('df-2f1d93f4-0c38-4a01-89ca-709358cdc15d')\"\n",
              "              title=\"Convert this dataframe to an interactive table.\"\n",
              "              style=\"display:none;\">\n",
              "        \n",
              "  <svg xmlns=\"http://www.w3.org/2000/svg\" height=\"24px\"viewBox=\"0 0 24 24\"\n",
              "       width=\"24px\">\n",
              "    <path d=\"M0 0h24v24H0V0z\" fill=\"none\"/>\n",
              "    <path d=\"M18.56 5.44l.94 2.06.94-2.06 2.06-.94-2.06-.94-.94-2.06-.94 2.06-2.06.94zm-11 1L8.5 8.5l.94-2.06 2.06-.94-2.06-.94L8.5 2.5l-.94 2.06-2.06.94zm10 10l.94 2.06.94-2.06 2.06-.94-2.06-.94-.94-2.06-.94 2.06-2.06.94z\"/><path d=\"M17.41 7.96l-1.37-1.37c-.4-.4-.92-.59-1.43-.59-.52 0-1.04.2-1.43.59L10.3 9.45l-7.72 7.72c-.78.78-.78 2.05 0 2.83L4 21.41c.39.39.9.59 1.41.59.51 0 1.02-.2 1.41-.59l7.78-7.78 2.81-2.81c.8-.78.8-2.07 0-2.86zM5.41 20L4 18.59l7.72-7.72 1.47 1.35L5.41 20z\"/>\n",
              "  </svg>\n",
              "      </button>\n",
              "      \n",
              "  <style>\n",
              "    .colab-df-container {\n",
              "      display:flex;\n",
              "      flex-wrap:wrap;\n",
              "      gap: 12px;\n",
              "    }\n",
              "\n",
              "    .colab-df-convert {\n",
              "      background-color: #E8F0FE;\n",
              "      border: none;\n",
              "      border-radius: 50%;\n",
              "      cursor: pointer;\n",
              "      display: none;\n",
              "      fill: #1967D2;\n",
              "      height: 32px;\n",
              "      padding: 0 0 0 0;\n",
              "      width: 32px;\n",
              "    }\n",
              "\n",
              "    .colab-df-convert:hover {\n",
              "      background-color: #E2EBFA;\n",
              "      box-shadow: 0px 1px 2px rgba(60, 64, 67, 0.3), 0px 1px 3px 1px rgba(60, 64, 67, 0.15);\n",
              "      fill: #174EA6;\n",
              "    }\n",
              "\n",
              "    [theme=dark] .colab-df-convert {\n",
              "      background-color: #3B4455;\n",
              "      fill: #D2E3FC;\n",
              "    }\n",
              "\n",
              "    [theme=dark] .colab-df-convert:hover {\n",
              "      background-color: #434B5C;\n",
              "      box-shadow: 0px 1px 3px 1px rgba(0, 0, 0, 0.15);\n",
              "      filter: drop-shadow(0px 1px 2px rgba(0, 0, 0, 0.3));\n",
              "      fill: #FFFFFF;\n",
              "    }\n",
              "  </style>\n",
              "\n",
              "      <script>\n",
              "        const buttonEl =\n",
              "          document.querySelector('#df-2f1d93f4-0c38-4a01-89ca-709358cdc15d button.colab-df-convert');\n",
              "        buttonEl.style.display =\n",
              "          google.colab.kernel.accessAllowed ? 'block' : 'none';\n",
              "\n",
              "        async function convertToInteractive(key) {\n",
              "          const element = document.querySelector('#df-2f1d93f4-0c38-4a01-89ca-709358cdc15d');\n",
              "          const dataTable =\n",
              "            await google.colab.kernel.invokeFunction('convertToInteractive',\n",
              "                                                     [key], {});\n",
              "          if (!dataTable) return;\n",
              "\n",
              "          const docLinkHtml = 'Like what you see? Visit the ' +\n",
              "            '<a target=\"_blank\" href=https://colab.research.google.com/notebooks/data_table.ipynb>data table notebook</a>'\n",
              "            + ' to learn more about interactive tables.';\n",
              "          element.innerHTML = '';\n",
              "          dataTable['output_type'] = 'display_data';\n",
              "          await google.colab.output.renderOutput(dataTable, element);\n",
              "          const docLink = document.createElement('div');\n",
              "          docLink.innerHTML = docLinkHtml;\n",
              "          element.appendChild(docLink);\n",
              "        }\n",
              "      </script>\n",
              "    </div>\n",
              "  </div>\n",
              "  "
            ]
          },
          "metadata": {},
          "execution_count": 20
        }
      ]
    },
    {
      "cell_type": "code",
      "source": [
        "df.describe()"
      ],
      "metadata": {
        "colab": {
          "base_uri": "https://localhost:8080/",
          "height": 364
        },
        "id": "bvdNyCXl4BJp",
        "outputId": "5049f51b-f333-4b6a-b621-6d6ebcd548e0"
      },
      "execution_count": 21,
      "outputs": [
        {
          "output_type": "execute_result",
          "data": {
            "text/plain": [
              "                 id         price      bedrooms     bathrooms   sqft_living  \\\n",
              "count  2.161300e+04  2.161300e+04  21613.000000  21613.000000  21613.000000   \n",
              "mean   4.580302e+09  5.400881e+05      3.370842      2.114757   2079.899736   \n",
              "std    2.876566e+09  3.671272e+05      0.930062      0.770163    918.440897   \n",
              "min    1.000102e+06  7.500000e+04      0.000000      0.000000    290.000000   \n",
              "25%    2.123049e+09  3.219500e+05      3.000000      1.750000   1427.000000   \n",
              "50%    3.904930e+09  4.500000e+05      3.000000      2.250000   1910.000000   \n",
              "75%    7.308900e+09  6.450000e+05      4.000000      2.500000   2550.000000   \n",
              "max    9.900000e+09  7.700000e+06     33.000000      8.000000  13540.000000   \n",
              "\n",
              "           sqft_lot        floors    waterfront          view     condition  \\\n",
              "count  2.161300e+04  21613.000000  21613.000000  21613.000000  21613.000000   \n",
              "mean   1.510697e+04      1.494309      0.007542      0.234303      3.409430   \n",
              "std    4.142051e+04      0.539989      0.086517      0.766318      0.650743   \n",
              "min    5.200000e+02      1.000000      0.000000      0.000000      1.000000   \n",
              "25%    5.040000e+03      1.000000      0.000000      0.000000      3.000000   \n",
              "50%    7.618000e+03      1.500000      0.000000      0.000000      3.000000   \n",
              "75%    1.068800e+04      2.000000      0.000000      0.000000      4.000000   \n",
              "max    1.651359e+06      3.500000      1.000000      4.000000      5.000000   \n",
              "\n",
              "              grade    sqft_above  sqft_basement      yr_built  yr_renovated  \\\n",
              "count  21613.000000  21613.000000   21613.000000  21613.000000  21613.000000   \n",
              "mean       7.656873   1788.390691     291.509045   1971.005136     84.402258   \n",
              "std        1.175459    828.090978     442.575043     29.373411    401.679240   \n",
              "min        1.000000    290.000000       0.000000   1900.000000      0.000000   \n",
              "25%        7.000000   1190.000000       0.000000   1951.000000      0.000000   \n",
              "50%        7.000000   1560.000000       0.000000   1975.000000      0.000000   \n",
              "75%        8.000000   2210.000000     560.000000   1997.000000      0.000000   \n",
              "max       13.000000   9410.000000    4820.000000   2015.000000   2015.000000   \n",
              "\n",
              "            zipcode           lat          long  sqft_living15     sqft_lot15  \n",
              "count  21613.000000  21613.000000  21613.000000   21613.000000   21613.000000  \n",
              "mean   98077.939805     47.560053   -122.213896    1986.552492   12768.455652  \n",
              "std       53.505026      0.138564      0.140828     685.391304   27304.179631  \n",
              "min    98001.000000     47.155900   -122.519000     399.000000     651.000000  \n",
              "25%    98033.000000     47.471000   -122.328000    1490.000000    5100.000000  \n",
              "50%    98065.000000     47.571800   -122.230000    1840.000000    7620.000000  \n",
              "75%    98118.000000     47.678000   -122.125000    2360.000000   10083.000000  \n",
              "max    98199.000000     47.777600   -121.315000    6210.000000  871200.000000  "
            ],
            "text/html": [
              "\n",
              "  <div id=\"df-b2eaca71-3702-4dca-829e-533b008ba32e\">\n",
              "    <div class=\"colab-df-container\">\n",
              "      <div>\n",
              "<style scoped>\n",
              "    .dataframe tbody tr th:only-of-type {\n",
              "        vertical-align: middle;\n",
              "    }\n",
              "\n",
              "    .dataframe tbody tr th {\n",
              "        vertical-align: top;\n",
              "    }\n",
              "\n",
              "    .dataframe thead th {\n",
              "        text-align: right;\n",
              "    }\n",
              "</style>\n",
              "<table border=\"1\" class=\"dataframe\">\n",
              "  <thead>\n",
              "    <tr style=\"text-align: right;\">\n",
              "      <th></th>\n",
              "      <th>id</th>\n",
              "      <th>price</th>\n",
              "      <th>bedrooms</th>\n",
              "      <th>bathrooms</th>\n",
              "      <th>sqft_living</th>\n",
              "      <th>sqft_lot</th>\n",
              "      <th>floors</th>\n",
              "      <th>waterfront</th>\n",
              "      <th>view</th>\n",
              "      <th>condition</th>\n",
              "      <th>grade</th>\n",
              "      <th>sqft_above</th>\n",
              "      <th>sqft_basement</th>\n",
              "      <th>yr_built</th>\n",
              "      <th>yr_renovated</th>\n",
              "      <th>zipcode</th>\n",
              "      <th>lat</th>\n",
              "      <th>long</th>\n",
              "      <th>sqft_living15</th>\n",
              "      <th>sqft_lot15</th>\n",
              "    </tr>\n",
              "  </thead>\n",
              "  <tbody>\n",
              "    <tr>\n",
              "      <th>count</th>\n",
              "      <td>2.161300e+04</td>\n",
              "      <td>2.161300e+04</td>\n",
              "      <td>21613.000000</td>\n",
              "      <td>21613.000000</td>\n",
              "      <td>21613.000000</td>\n",
              "      <td>2.161300e+04</td>\n",
              "      <td>21613.000000</td>\n",
              "      <td>21613.000000</td>\n",
              "      <td>21613.000000</td>\n",
              "      <td>21613.000000</td>\n",
              "      <td>21613.000000</td>\n",
              "      <td>21613.000000</td>\n",
              "      <td>21613.000000</td>\n",
              "      <td>21613.000000</td>\n",
              "      <td>21613.000000</td>\n",
              "      <td>21613.000000</td>\n",
              "      <td>21613.000000</td>\n",
              "      <td>21613.000000</td>\n",
              "      <td>21613.000000</td>\n",
              "      <td>21613.000000</td>\n",
              "    </tr>\n",
              "    <tr>\n",
              "      <th>mean</th>\n",
              "      <td>4.580302e+09</td>\n",
              "      <td>5.400881e+05</td>\n",
              "      <td>3.370842</td>\n",
              "      <td>2.114757</td>\n",
              "      <td>2079.899736</td>\n",
              "      <td>1.510697e+04</td>\n",
              "      <td>1.494309</td>\n",
              "      <td>0.007542</td>\n",
              "      <td>0.234303</td>\n",
              "      <td>3.409430</td>\n",
              "      <td>7.656873</td>\n",
              "      <td>1788.390691</td>\n",
              "      <td>291.509045</td>\n",
              "      <td>1971.005136</td>\n",
              "      <td>84.402258</td>\n",
              "      <td>98077.939805</td>\n",
              "      <td>47.560053</td>\n",
              "      <td>-122.213896</td>\n",
              "      <td>1986.552492</td>\n",
              "      <td>12768.455652</td>\n",
              "    </tr>\n",
              "    <tr>\n",
              "      <th>std</th>\n",
              "      <td>2.876566e+09</td>\n",
              "      <td>3.671272e+05</td>\n",
              "      <td>0.930062</td>\n",
              "      <td>0.770163</td>\n",
              "      <td>918.440897</td>\n",
              "      <td>4.142051e+04</td>\n",
              "      <td>0.539989</td>\n",
              "      <td>0.086517</td>\n",
              "      <td>0.766318</td>\n",
              "      <td>0.650743</td>\n",
              "      <td>1.175459</td>\n",
              "      <td>828.090978</td>\n",
              "      <td>442.575043</td>\n",
              "      <td>29.373411</td>\n",
              "      <td>401.679240</td>\n",
              "      <td>53.505026</td>\n",
              "      <td>0.138564</td>\n",
              "      <td>0.140828</td>\n",
              "      <td>685.391304</td>\n",
              "      <td>27304.179631</td>\n",
              "    </tr>\n",
              "    <tr>\n",
              "      <th>min</th>\n",
              "      <td>1.000102e+06</td>\n",
              "      <td>7.500000e+04</td>\n",
              "      <td>0.000000</td>\n",
              "      <td>0.000000</td>\n",
              "      <td>290.000000</td>\n",
              "      <td>5.200000e+02</td>\n",
              "      <td>1.000000</td>\n",
              "      <td>0.000000</td>\n",
              "      <td>0.000000</td>\n",
              "      <td>1.000000</td>\n",
              "      <td>1.000000</td>\n",
              "      <td>290.000000</td>\n",
              "      <td>0.000000</td>\n",
              "      <td>1900.000000</td>\n",
              "      <td>0.000000</td>\n",
              "      <td>98001.000000</td>\n",
              "      <td>47.155900</td>\n",
              "      <td>-122.519000</td>\n",
              "      <td>399.000000</td>\n",
              "      <td>651.000000</td>\n",
              "    </tr>\n",
              "    <tr>\n",
              "      <th>25%</th>\n",
              "      <td>2.123049e+09</td>\n",
              "      <td>3.219500e+05</td>\n",
              "      <td>3.000000</td>\n",
              "      <td>1.750000</td>\n",
              "      <td>1427.000000</td>\n",
              "      <td>5.040000e+03</td>\n",
              "      <td>1.000000</td>\n",
              "      <td>0.000000</td>\n",
              "      <td>0.000000</td>\n",
              "      <td>3.000000</td>\n",
              "      <td>7.000000</td>\n",
              "      <td>1190.000000</td>\n",
              "      <td>0.000000</td>\n",
              "      <td>1951.000000</td>\n",
              "      <td>0.000000</td>\n",
              "      <td>98033.000000</td>\n",
              "      <td>47.471000</td>\n",
              "      <td>-122.328000</td>\n",
              "      <td>1490.000000</td>\n",
              "      <td>5100.000000</td>\n",
              "    </tr>\n",
              "    <tr>\n",
              "      <th>50%</th>\n",
              "      <td>3.904930e+09</td>\n",
              "      <td>4.500000e+05</td>\n",
              "      <td>3.000000</td>\n",
              "      <td>2.250000</td>\n",
              "      <td>1910.000000</td>\n",
              "      <td>7.618000e+03</td>\n",
              "      <td>1.500000</td>\n",
              "      <td>0.000000</td>\n",
              "      <td>0.000000</td>\n",
              "      <td>3.000000</td>\n",
              "      <td>7.000000</td>\n",
              "      <td>1560.000000</td>\n",
              "      <td>0.000000</td>\n",
              "      <td>1975.000000</td>\n",
              "      <td>0.000000</td>\n",
              "      <td>98065.000000</td>\n",
              "      <td>47.571800</td>\n",
              "      <td>-122.230000</td>\n",
              "      <td>1840.000000</td>\n",
              "      <td>7620.000000</td>\n",
              "    </tr>\n",
              "    <tr>\n",
              "      <th>75%</th>\n",
              "      <td>7.308900e+09</td>\n",
              "      <td>6.450000e+05</td>\n",
              "      <td>4.000000</td>\n",
              "      <td>2.500000</td>\n",
              "      <td>2550.000000</td>\n",
              "      <td>1.068800e+04</td>\n",
              "      <td>2.000000</td>\n",
              "      <td>0.000000</td>\n",
              "      <td>0.000000</td>\n",
              "      <td>4.000000</td>\n",
              "      <td>8.000000</td>\n",
              "      <td>2210.000000</td>\n",
              "      <td>560.000000</td>\n",
              "      <td>1997.000000</td>\n",
              "      <td>0.000000</td>\n",
              "      <td>98118.000000</td>\n",
              "      <td>47.678000</td>\n",
              "      <td>-122.125000</td>\n",
              "      <td>2360.000000</td>\n",
              "      <td>10083.000000</td>\n",
              "    </tr>\n",
              "    <tr>\n",
              "      <th>max</th>\n",
              "      <td>9.900000e+09</td>\n",
              "      <td>7.700000e+06</td>\n",
              "      <td>33.000000</td>\n",
              "      <td>8.000000</td>\n",
              "      <td>13540.000000</td>\n",
              "      <td>1.651359e+06</td>\n",
              "      <td>3.500000</td>\n",
              "      <td>1.000000</td>\n",
              "      <td>4.000000</td>\n",
              "      <td>5.000000</td>\n",
              "      <td>13.000000</td>\n",
              "      <td>9410.000000</td>\n",
              "      <td>4820.000000</td>\n",
              "      <td>2015.000000</td>\n",
              "      <td>2015.000000</td>\n",
              "      <td>98199.000000</td>\n",
              "      <td>47.777600</td>\n",
              "      <td>-121.315000</td>\n",
              "      <td>6210.000000</td>\n",
              "      <td>871200.000000</td>\n",
              "    </tr>\n",
              "  </tbody>\n",
              "</table>\n",
              "</div>\n",
              "      <button class=\"colab-df-convert\" onclick=\"convertToInteractive('df-b2eaca71-3702-4dca-829e-533b008ba32e')\"\n",
              "              title=\"Convert this dataframe to an interactive table.\"\n",
              "              style=\"display:none;\">\n",
              "        \n",
              "  <svg xmlns=\"http://www.w3.org/2000/svg\" height=\"24px\"viewBox=\"0 0 24 24\"\n",
              "       width=\"24px\">\n",
              "    <path d=\"M0 0h24v24H0V0z\" fill=\"none\"/>\n",
              "    <path d=\"M18.56 5.44l.94 2.06.94-2.06 2.06-.94-2.06-.94-.94-2.06-.94 2.06-2.06.94zm-11 1L8.5 8.5l.94-2.06 2.06-.94-2.06-.94L8.5 2.5l-.94 2.06-2.06.94zm10 10l.94 2.06.94-2.06 2.06-.94-2.06-.94-.94-2.06-.94 2.06-2.06.94z\"/><path d=\"M17.41 7.96l-1.37-1.37c-.4-.4-.92-.59-1.43-.59-.52 0-1.04.2-1.43.59L10.3 9.45l-7.72 7.72c-.78.78-.78 2.05 0 2.83L4 21.41c.39.39.9.59 1.41.59.51 0 1.02-.2 1.41-.59l7.78-7.78 2.81-2.81c.8-.78.8-2.07 0-2.86zM5.41 20L4 18.59l7.72-7.72 1.47 1.35L5.41 20z\"/>\n",
              "  </svg>\n",
              "      </button>\n",
              "      \n",
              "  <style>\n",
              "    .colab-df-container {\n",
              "      display:flex;\n",
              "      flex-wrap:wrap;\n",
              "      gap: 12px;\n",
              "    }\n",
              "\n",
              "    .colab-df-convert {\n",
              "      background-color: #E8F0FE;\n",
              "      border: none;\n",
              "      border-radius: 50%;\n",
              "      cursor: pointer;\n",
              "      display: none;\n",
              "      fill: #1967D2;\n",
              "      height: 32px;\n",
              "      padding: 0 0 0 0;\n",
              "      width: 32px;\n",
              "    }\n",
              "\n",
              "    .colab-df-convert:hover {\n",
              "      background-color: #E2EBFA;\n",
              "      box-shadow: 0px 1px 2px rgba(60, 64, 67, 0.3), 0px 1px 3px 1px rgba(60, 64, 67, 0.15);\n",
              "      fill: #174EA6;\n",
              "    }\n",
              "\n",
              "    [theme=dark] .colab-df-convert {\n",
              "      background-color: #3B4455;\n",
              "      fill: #D2E3FC;\n",
              "    }\n",
              "\n",
              "    [theme=dark] .colab-df-convert:hover {\n",
              "      background-color: #434B5C;\n",
              "      box-shadow: 0px 1px 3px 1px rgba(0, 0, 0, 0.15);\n",
              "      filter: drop-shadow(0px 1px 2px rgba(0, 0, 0, 0.3));\n",
              "      fill: #FFFFFF;\n",
              "    }\n",
              "  </style>\n",
              "\n",
              "      <script>\n",
              "        const buttonEl =\n",
              "          document.querySelector('#df-b2eaca71-3702-4dca-829e-533b008ba32e button.colab-df-convert');\n",
              "        buttonEl.style.display =\n",
              "          google.colab.kernel.accessAllowed ? 'block' : 'none';\n",
              "\n",
              "        async function convertToInteractive(key) {\n",
              "          const element = document.querySelector('#df-b2eaca71-3702-4dca-829e-533b008ba32e');\n",
              "          const dataTable =\n",
              "            await google.colab.kernel.invokeFunction('convertToInteractive',\n",
              "                                                     [key], {});\n",
              "          if (!dataTable) return;\n",
              "\n",
              "          const docLinkHtml = 'Like what you see? Visit the ' +\n",
              "            '<a target=\"_blank\" href=https://colab.research.google.com/notebooks/data_table.ipynb>data table notebook</a>'\n",
              "            + ' to learn more about interactive tables.';\n",
              "          element.innerHTML = '';\n",
              "          dataTable['output_type'] = 'display_data';\n",
              "          await google.colab.output.renderOutput(dataTable, element);\n",
              "          const docLink = document.createElement('div');\n",
              "          docLink.innerHTML = docLinkHtml;\n",
              "          element.appendChild(docLink);\n",
              "        }\n",
              "      </script>\n",
              "    </div>\n",
              "  </div>\n",
              "  "
            ]
          },
          "metadata": {},
          "execution_count": 21
        }
      ]
    },
    {
      "cell_type": "code",
      "source": [
        "df.drop('id', axis = 1, inplace = True)\n",
        "df.drop('date', axis = 1, inplace = True)\n",
        "df.drop('zipcode', axis = 1, inplace = True)\n",
        "df.drop('lat', axis = 1, inplace = True)\n",
        "df.drop('long', axis = 1, inplace = True)"
      ],
      "metadata": {
        "id": "LwoU4Hi84G8M"
      },
      "execution_count": 22,
      "outputs": []
    },
    {
      "cell_type": "code",
      "source": [
        "df.describe()"
      ],
      "metadata": {
        "colab": {
          "base_uri": "https://localhost:8080/",
          "height": 364
        },
        "id": "peBXTIKC4OfP",
        "outputId": "557f8db4-c5a3-498c-f833-c95964ec51c6"
      },
      "execution_count": 23,
      "outputs": [
        {
          "output_type": "execute_result",
          "data": {
            "text/plain": [
              "              price      bedrooms     bathrooms   sqft_living      sqft_lot  \\\n",
              "count  2.161300e+04  21613.000000  21613.000000  21613.000000  2.161300e+04   \n",
              "mean   5.400881e+05      3.370842      2.114757   2079.899736  1.510697e+04   \n",
              "std    3.671272e+05      0.930062      0.770163    918.440897  4.142051e+04   \n",
              "min    7.500000e+04      0.000000      0.000000    290.000000  5.200000e+02   \n",
              "25%    3.219500e+05      3.000000      1.750000   1427.000000  5.040000e+03   \n",
              "50%    4.500000e+05      3.000000      2.250000   1910.000000  7.618000e+03   \n",
              "75%    6.450000e+05      4.000000      2.500000   2550.000000  1.068800e+04   \n",
              "max    7.700000e+06     33.000000      8.000000  13540.000000  1.651359e+06   \n",
              "\n",
              "             floors    waterfront          view     condition         grade  \\\n",
              "count  21613.000000  21613.000000  21613.000000  21613.000000  21613.000000   \n",
              "mean       1.494309      0.007542      0.234303      3.409430      7.656873   \n",
              "std        0.539989      0.086517      0.766318      0.650743      1.175459   \n",
              "min        1.000000      0.000000      0.000000      1.000000      1.000000   \n",
              "25%        1.000000      0.000000      0.000000      3.000000      7.000000   \n",
              "50%        1.500000      0.000000      0.000000      3.000000      7.000000   \n",
              "75%        2.000000      0.000000      0.000000      4.000000      8.000000   \n",
              "max        3.500000      1.000000      4.000000      5.000000     13.000000   \n",
              "\n",
              "         sqft_above  sqft_basement      yr_built  yr_renovated  sqft_living15  \\\n",
              "count  21613.000000   21613.000000  21613.000000  21613.000000   21613.000000   \n",
              "mean    1788.390691     291.509045   1971.005136     84.402258    1986.552492   \n",
              "std      828.090978     442.575043     29.373411    401.679240     685.391304   \n",
              "min      290.000000       0.000000   1900.000000      0.000000     399.000000   \n",
              "25%     1190.000000       0.000000   1951.000000      0.000000    1490.000000   \n",
              "50%     1560.000000       0.000000   1975.000000      0.000000    1840.000000   \n",
              "75%     2210.000000     560.000000   1997.000000      0.000000    2360.000000   \n",
              "max     9410.000000    4820.000000   2015.000000   2015.000000    6210.000000   \n",
              "\n",
              "          sqft_lot15  \n",
              "count   21613.000000  \n",
              "mean    12768.455652  \n",
              "std     27304.179631  \n",
              "min       651.000000  \n",
              "25%      5100.000000  \n",
              "50%      7620.000000  \n",
              "75%     10083.000000  \n",
              "max    871200.000000  "
            ],
            "text/html": [
              "\n",
              "  <div id=\"df-7afd803f-6aa8-4d95-9c93-075b687934f5\">\n",
              "    <div class=\"colab-df-container\">\n",
              "      <div>\n",
              "<style scoped>\n",
              "    .dataframe tbody tr th:only-of-type {\n",
              "        vertical-align: middle;\n",
              "    }\n",
              "\n",
              "    .dataframe tbody tr th {\n",
              "        vertical-align: top;\n",
              "    }\n",
              "\n",
              "    .dataframe thead th {\n",
              "        text-align: right;\n",
              "    }\n",
              "</style>\n",
              "<table border=\"1\" class=\"dataframe\">\n",
              "  <thead>\n",
              "    <tr style=\"text-align: right;\">\n",
              "      <th></th>\n",
              "      <th>price</th>\n",
              "      <th>bedrooms</th>\n",
              "      <th>bathrooms</th>\n",
              "      <th>sqft_living</th>\n",
              "      <th>sqft_lot</th>\n",
              "      <th>floors</th>\n",
              "      <th>waterfront</th>\n",
              "      <th>view</th>\n",
              "      <th>condition</th>\n",
              "      <th>grade</th>\n",
              "      <th>sqft_above</th>\n",
              "      <th>sqft_basement</th>\n",
              "      <th>yr_built</th>\n",
              "      <th>yr_renovated</th>\n",
              "      <th>sqft_living15</th>\n",
              "      <th>sqft_lot15</th>\n",
              "    </tr>\n",
              "  </thead>\n",
              "  <tbody>\n",
              "    <tr>\n",
              "      <th>count</th>\n",
              "      <td>2.161300e+04</td>\n",
              "      <td>21613.000000</td>\n",
              "      <td>21613.000000</td>\n",
              "      <td>21613.000000</td>\n",
              "      <td>2.161300e+04</td>\n",
              "      <td>21613.000000</td>\n",
              "      <td>21613.000000</td>\n",
              "      <td>21613.000000</td>\n",
              "      <td>21613.000000</td>\n",
              "      <td>21613.000000</td>\n",
              "      <td>21613.000000</td>\n",
              "      <td>21613.000000</td>\n",
              "      <td>21613.000000</td>\n",
              "      <td>21613.000000</td>\n",
              "      <td>21613.000000</td>\n",
              "      <td>21613.000000</td>\n",
              "    </tr>\n",
              "    <tr>\n",
              "      <th>mean</th>\n",
              "      <td>5.400881e+05</td>\n",
              "      <td>3.370842</td>\n",
              "      <td>2.114757</td>\n",
              "      <td>2079.899736</td>\n",
              "      <td>1.510697e+04</td>\n",
              "      <td>1.494309</td>\n",
              "      <td>0.007542</td>\n",
              "      <td>0.234303</td>\n",
              "      <td>3.409430</td>\n",
              "      <td>7.656873</td>\n",
              "      <td>1788.390691</td>\n",
              "      <td>291.509045</td>\n",
              "      <td>1971.005136</td>\n",
              "      <td>84.402258</td>\n",
              "      <td>1986.552492</td>\n",
              "      <td>12768.455652</td>\n",
              "    </tr>\n",
              "    <tr>\n",
              "      <th>std</th>\n",
              "      <td>3.671272e+05</td>\n",
              "      <td>0.930062</td>\n",
              "      <td>0.770163</td>\n",
              "      <td>918.440897</td>\n",
              "      <td>4.142051e+04</td>\n",
              "      <td>0.539989</td>\n",
              "      <td>0.086517</td>\n",
              "      <td>0.766318</td>\n",
              "      <td>0.650743</td>\n",
              "      <td>1.175459</td>\n",
              "      <td>828.090978</td>\n",
              "      <td>442.575043</td>\n",
              "      <td>29.373411</td>\n",
              "      <td>401.679240</td>\n",
              "      <td>685.391304</td>\n",
              "      <td>27304.179631</td>\n",
              "    </tr>\n",
              "    <tr>\n",
              "      <th>min</th>\n",
              "      <td>7.500000e+04</td>\n",
              "      <td>0.000000</td>\n",
              "      <td>0.000000</td>\n",
              "      <td>290.000000</td>\n",
              "      <td>5.200000e+02</td>\n",
              "      <td>1.000000</td>\n",
              "      <td>0.000000</td>\n",
              "      <td>0.000000</td>\n",
              "      <td>1.000000</td>\n",
              "      <td>1.000000</td>\n",
              "      <td>290.000000</td>\n",
              "      <td>0.000000</td>\n",
              "      <td>1900.000000</td>\n",
              "      <td>0.000000</td>\n",
              "      <td>399.000000</td>\n",
              "      <td>651.000000</td>\n",
              "    </tr>\n",
              "    <tr>\n",
              "      <th>25%</th>\n",
              "      <td>3.219500e+05</td>\n",
              "      <td>3.000000</td>\n",
              "      <td>1.750000</td>\n",
              "      <td>1427.000000</td>\n",
              "      <td>5.040000e+03</td>\n",
              "      <td>1.000000</td>\n",
              "      <td>0.000000</td>\n",
              "      <td>0.000000</td>\n",
              "      <td>3.000000</td>\n",
              "      <td>7.000000</td>\n",
              "      <td>1190.000000</td>\n",
              "      <td>0.000000</td>\n",
              "      <td>1951.000000</td>\n",
              "      <td>0.000000</td>\n",
              "      <td>1490.000000</td>\n",
              "      <td>5100.000000</td>\n",
              "    </tr>\n",
              "    <tr>\n",
              "      <th>50%</th>\n",
              "      <td>4.500000e+05</td>\n",
              "      <td>3.000000</td>\n",
              "      <td>2.250000</td>\n",
              "      <td>1910.000000</td>\n",
              "      <td>7.618000e+03</td>\n",
              "      <td>1.500000</td>\n",
              "      <td>0.000000</td>\n",
              "      <td>0.000000</td>\n",
              "      <td>3.000000</td>\n",
              "      <td>7.000000</td>\n",
              "      <td>1560.000000</td>\n",
              "      <td>0.000000</td>\n",
              "      <td>1975.000000</td>\n",
              "      <td>0.000000</td>\n",
              "      <td>1840.000000</td>\n",
              "      <td>7620.000000</td>\n",
              "    </tr>\n",
              "    <tr>\n",
              "      <th>75%</th>\n",
              "      <td>6.450000e+05</td>\n",
              "      <td>4.000000</td>\n",
              "      <td>2.500000</td>\n",
              "      <td>2550.000000</td>\n",
              "      <td>1.068800e+04</td>\n",
              "      <td>2.000000</td>\n",
              "      <td>0.000000</td>\n",
              "      <td>0.000000</td>\n",
              "      <td>4.000000</td>\n",
              "      <td>8.000000</td>\n",
              "      <td>2210.000000</td>\n",
              "      <td>560.000000</td>\n",
              "      <td>1997.000000</td>\n",
              "      <td>0.000000</td>\n",
              "      <td>2360.000000</td>\n",
              "      <td>10083.000000</td>\n",
              "    </tr>\n",
              "    <tr>\n",
              "      <th>max</th>\n",
              "      <td>7.700000e+06</td>\n",
              "      <td>33.000000</td>\n",
              "      <td>8.000000</td>\n",
              "      <td>13540.000000</td>\n",
              "      <td>1.651359e+06</td>\n",
              "      <td>3.500000</td>\n",
              "      <td>1.000000</td>\n",
              "      <td>4.000000</td>\n",
              "      <td>5.000000</td>\n",
              "      <td>13.000000</td>\n",
              "      <td>9410.000000</td>\n",
              "      <td>4820.000000</td>\n",
              "      <td>2015.000000</td>\n",
              "      <td>2015.000000</td>\n",
              "      <td>6210.000000</td>\n",
              "      <td>871200.000000</td>\n",
              "    </tr>\n",
              "  </tbody>\n",
              "</table>\n",
              "</div>\n",
              "      <button class=\"colab-df-convert\" onclick=\"convertToInteractive('df-7afd803f-6aa8-4d95-9c93-075b687934f5')\"\n",
              "              title=\"Convert this dataframe to an interactive table.\"\n",
              "              style=\"display:none;\">\n",
              "        \n",
              "  <svg xmlns=\"http://www.w3.org/2000/svg\" height=\"24px\"viewBox=\"0 0 24 24\"\n",
              "       width=\"24px\">\n",
              "    <path d=\"M0 0h24v24H0V0z\" fill=\"none\"/>\n",
              "    <path d=\"M18.56 5.44l.94 2.06.94-2.06 2.06-.94-2.06-.94-.94-2.06-.94 2.06-2.06.94zm-11 1L8.5 8.5l.94-2.06 2.06-.94-2.06-.94L8.5 2.5l-.94 2.06-2.06.94zm10 10l.94 2.06.94-2.06 2.06-.94-2.06-.94-.94-2.06-.94 2.06-2.06.94z\"/><path d=\"M17.41 7.96l-1.37-1.37c-.4-.4-.92-.59-1.43-.59-.52 0-1.04.2-1.43.59L10.3 9.45l-7.72 7.72c-.78.78-.78 2.05 0 2.83L4 21.41c.39.39.9.59 1.41.59.51 0 1.02-.2 1.41-.59l7.78-7.78 2.81-2.81c.8-.78.8-2.07 0-2.86zM5.41 20L4 18.59l7.72-7.72 1.47 1.35L5.41 20z\"/>\n",
              "  </svg>\n",
              "      </button>\n",
              "      \n",
              "  <style>\n",
              "    .colab-df-container {\n",
              "      display:flex;\n",
              "      flex-wrap:wrap;\n",
              "      gap: 12px;\n",
              "    }\n",
              "\n",
              "    .colab-df-convert {\n",
              "      background-color: #E8F0FE;\n",
              "      border: none;\n",
              "      border-radius: 50%;\n",
              "      cursor: pointer;\n",
              "      display: none;\n",
              "      fill: #1967D2;\n",
              "      height: 32px;\n",
              "      padding: 0 0 0 0;\n",
              "      width: 32px;\n",
              "    }\n",
              "\n",
              "    .colab-df-convert:hover {\n",
              "      background-color: #E2EBFA;\n",
              "      box-shadow: 0px 1px 2px rgba(60, 64, 67, 0.3), 0px 1px 3px 1px rgba(60, 64, 67, 0.15);\n",
              "      fill: #174EA6;\n",
              "    }\n",
              "\n",
              "    [theme=dark] .colab-df-convert {\n",
              "      background-color: #3B4455;\n",
              "      fill: #D2E3FC;\n",
              "    }\n",
              "\n",
              "    [theme=dark] .colab-df-convert:hover {\n",
              "      background-color: #434B5C;\n",
              "      box-shadow: 0px 1px 3px 1px rgba(0, 0, 0, 0.15);\n",
              "      filter: drop-shadow(0px 1px 2px rgba(0, 0, 0, 0.3));\n",
              "      fill: #FFFFFF;\n",
              "    }\n",
              "  </style>\n",
              "\n",
              "      <script>\n",
              "        const buttonEl =\n",
              "          document.querySelector('#df-7afd803f-6aa8-4d95-9c93-075b687934f5 button.colab-df-convert');\n",
              "        buttonEl.style.display =\n",
              "          google.colab.kernel.accessAllowed ? 'block' : 'none';\n",
              "\n",
              "        async function convertToInteractive(key) {\n",
              "          const element = document.querySelector('#df-7afd803f-6aa8-4d95-9c93-075b687934f5');\n",
              "          const dataTable =\n",
              "            await google.colab.kernel.invokeFunction('convertToInteractive',\n",
              "                                                     [key], {});\n",
              "          if (!dataTable) return;\n",
              "\n",
              "          const docLinkHtml = 'Like what you see? Visit the ' +\n",
              "            '<a target=\"_blank\" href=https://colab.research.google.com/notebooks/data_table.ipynb>data table notebook</a>'\n",
              "            + ' to learn more about interactive tables.';\n",
              "          element.innerHTML = '';\n",
              "          dataTable['output_type'] = 'display_data';\n",
              "          await google.colab.output.renderOutput(dataTable, element);\n",
              "          const docLink = document.createElement('div');\n",
              "          docLink.innerHTML = docLinkHtml;\n",
              "          element.appendChild(docLink);\n",
              "        }\n",
              "      </script>\n",
              "    </div>\n",
              "  </div>\n",
              "  "
            ]
          },
          "metadata": {},
          "execution_count": 23
        }
      ]
    },
    {
      "cell_type": "code",
      "source": [
        "plt.figure(figsize=(12,8)) \n",
        "sns.heatmap(df.corr(), annot=True, cmap='crest', linewidths = .5, fmt=\".1f\")\n",
        "plt.show()"
      ],
      "metadata": {
        "colab": {
          "base_uri": "https://localhost:8080/",
          "height": 561
        },
        "id": "lsi-_Ybv4Qri",
        "outputId": "0289606f-6938-4d6e-e035-7c189975103a"
      },
      "execution_count": 24,
      "outputs": [
        {
          "output_type": "display_data",
          "data": {
            "text/plain": [
              "<Figure size 864x576 with 2 Axes>"
            ],
            "image/png": "[encoded data removed]"
          },
          "metadata": {}
        }
      ]
    },
    {
      "cell_type": "code",
      "source": [
        "columns = df.columns.drop('price')\n",
        "\n",
        "features = columns\n",
        "label = ['price']\n",
        "\n",
        "X = df[features]\n",
        "y = df[label]\n",
        "from sklearn.model_selection import train_test_split\n",
        "X_train, X_test, y_train, y_test = train_test_split(X, y, test_size = 0.1, random_state = 101) #Este renglon nos lo fusilamos\n",
        "\n",
        "print(f'Numero total de registros en el Dataset: {len(X)}')\n",
        "print(\"*******\"*10)\n",
        "print(f'Numero total de registros en el training set: {len(X_train)}')\n",
        "print(f'Tamaño de X_train: {X_train.shape}')\n",
        "print(\"*******\"*10)\n",
        "print(f'Mumero total de registros en el test dataset: {len(X_test)}')\n",
        "print(f'Tamaño del X_test: {X_test.shape}')"
      ],
      "metadata": {
        "colab": {
          "base_uri": "https://localhost:8080/"
        },
        "id": "KOELnFA04y8W",
        "outputId": "79f2ec96-d627-4ba9-d678-b50ad62d55c9"
      },
      "execution_count": 25,
      "outputs": [
        {
          "output_type": "stream",
          "name": "stdout",
          "text": [
            "Numero total de registros en el Dataset: 21613\n",
            "**********************************************************************\n",
            "Numero total de registros en el training set: 19451\n",
            "Tamaño de X_train: (19451, 15)\n",
            "**********************************************************************\n",
            "Mumero total de registros en el test dataset: 2162\n",
            "Tamaño del X_test: (2162, 15)\n"
          ]
        }
      ]
    },
    {
      "cell_type": "code",
      "source": [
        "Caract_Poly = PolynomialFeatures(degree=2, include_bias=False) \n",
        "X_polinomial = Caract_Poly.fit_transform(X_train)\n",
        "print(\"Input\",Caract_Poly.n_input_features_)\n",
        "print(\"Ouput\",Caract_Poly.n_output_features_)\n",
        "print(\"Powersn\",Caract_Poly.powers_)\n",
        "\n",
        "regresion_lineal_poli = LinearRegression(fit_intercept=True) #Creamos una \n",
        "regresion_lineal_poli.fit(X_polinomial, y_train)\n",
        "regresion_lineal_poli.coef_, regresion_lineal_poli.intercept_\n",
        "X_polinomial_test = Caract_Poly.fit_transform(X_test)\n",
        "X_polinomial_test.shape\n",
        "y_con_regresion_poli = regresion_lineal_poli.predict(X_polinomial_test)\n",
        "y_con_regresion_poli.shape\n",
        "order = np.argsort(X_test.values.ravel())  \n",
        "\n",
        "sortedXPoly = X_test.values.ravel()  \n",
        "sortedYPoly = y_test.values.ravel()\n",
        "sorted_predicPoly = y_con_regresion_poli\n",
        "\n",
        "plt.plot(X, y, \"b.\")\n",
        "plt.plot(sortedXPoly, sorted_predicPoly, \"r-\", linewidth=3, label=\"Predicciones\")\n",
        "plt.xlabel('# of Units [X]')\n",
        "plt.ylabel('Manufacturing Cost [Y]')\n",
        "plt.title('Relation between Unit Prod vs Mfg Cost')\n",
        "plt.grid(True)\n",
        "plt.legend(loc=\"upper right\", fontsize=10)"
      ],
      "metadata": {
        "colab": {
          "base_uri": "https://localhost:8080/",
          "height": 1000
        },
        "id": "tuVS9v-Y5QLJ",
        "outputId": "c3f8ab43-1b66-4509-c2c9-da4f47643fd5"
      },
      "execution_count": 26,
      "outputs": [
        {
          "output_type": "stream",
          "name": "stdout",
          "text": [
            "Input 15\n",
            "Ouput 135\n",
            "Powersn [[1 0 0 ... 0 0 0]\n",
            " [0 1 0 ... 0 0 0]\n",
            " [0 0 1 ... 0 0 0]\n",
            " ...\n",
            " [0 0 0 ... 0 2 0]\n",
            " [0 0 0 ... 0 1 1]\n",
            " [0 0 0 ... 0 0 2]]\n"
          ]
        },
        {
          "output_type": "stream",
          "name": "stderr",
          "text": [
            "/usr/local/lib/python3.7/dist-packages/sklearn/utils/deprecation.py:103: FutureWarning: The attribute `n_input_features_` was deprecated in version 1.0 and will be removed in 1.2.\n",
            "  warnings.warn(msg, category=FutureWarning)\n"
          ]
        },
        {
          "output_type": "error",
          "ename": "ValueError",
          "evalue": "ignored",
          "traceback": [
            "\u001b[0;31m---------------------------------------------------------------------------\u001b[0m",
            "\u001b[0;31mValueError\u001b[0m                                Traceback (most recent call last)",
            "\u001b[0;32m<ipython-input-26-6c6d5f7af80b>\u001b[0m in \u001b[0;36m<module>\u001b[0;34m\u001b[0m\n\u001b[1;32m     19\u001b[0m \u001b[0;34m\u001b[0m\u001b[0m\n\u001b[1;32m     20\u001b[0m \u001b[0mplt\u001b[0m\u001b[0;34m.\u001b[0m\u001b[0mplot\u001b[0m\u001b[0;34m(\u001b[0m\u001b[0mX\u001b[0m\u001b[0;34m,\u001b[0m \u001b[0my\u001b[0m\u001b[0;34m,\u001b[0m \u001b[0;34m\"b.\"\u001b[0m\u001b[0;34m)\u001b[0m\u001b[0;34m\u001b[0m\u001b[0;34m\u001b[0m\u001b[0m\n\u001b[0;32m---> 21\u001b[0;31m \u001b[0mplt\u001b[0m\u001b[0;34m.\u001b[0m\u001b[0mplot\u001b[0m\u001b[0;34m(\u001b[0m\u001b[0msortedXPoly\u001b[0m\u001b[0;34m,\u001b[0m \u001b[0msorted_predicPoly\u001b[0m\u001b[0;34m,\u001b[0m \u001b[0;34m\"r-\"\u001b[0m\u001b[0;34m,\u001b[0m \u001b[0mlinewidth\u001b[0m\u001b[0;34m=\u001b[0m\u001b[0;36m3\u001b[0m\u001b[0;34m,\u001b[0m \u001b[0mlabel\u001b[0m\u001b[0;34m=\u001b[0m\u001b[0;34m\"Predicciones\"\u001b[0m\u001b[0;34m)\u001b[0m\u001b[0;34m\u001b[0m\u001b[0;34m\u001b[0m\u001b[0m\n\u001b[0m\u001b[1;32m     22\u001b[0m \u001b[0mplt\u001b[0m\u001b[0;34m.\u001b[0m\u001b[0mxlabel\u001b[0m\u001b[0;34m(\u001b[0m\u001b[0;34m'# of Units [X]'\u001b[0m\u001b[0;34m)\u001b[0m\u001b[0;34m\u001b[0m\u001b[0;34m\u001b[0m\u001b[0m\n\u001b[1;32m     23\u001b[0m \u001b[0mplt\u001b[0m\u001b[0;34m.\u001b[0m\u001b[0mylabel\u001b[0m\u001b[0;34m(\u001b[0m\u001b[0;34m'Manufacturing Cost [Y]'\u001b[0m\u001b[0;34m)\u001b[0m\u001b[0;34m\u001b[0m\u001b[0;34m\u001b[0m\u001b[0m\n",
            "\u001b[0;32m/usr/local/lib/python3.7/dist-packages/matplotlib/pyplot.py\u001b[0m in \u001b[0;36mplot\u001b[0;34m(scalex, scaley, data, *args, **kwargs)\u001b[0m\n\u001b[1;32m   2761\u001b[0m     return gca().plot(\n\u001b[1;32m   2762\u001b[0m         *args, scalex=scalex, scaley=scaley, **({\"data\": data} if data\n\u001b[0;32m-> 2763\u001b[0;31m         is not None else {}), **kwargs)\n\u001b[0m\u001b[1;32m   2764\u001b[0m \u001b[0;34m\u001b[0m\u001b[0m\n\u001b[1;32m   2765\u001b[0m \u001b[0;34m\u001b[0m\u001b[0m\n",
            "\u001b[0;32m/usr/local/lib/python3.7/dist-packages/matplotlib/axes/_axes.py\u001b[0m in \u001b[0;36mplot\u001b[0;34m(self, scalex, scaley, data, *args, **kwargs)\u001b[0m\n\u001b[1;32m   1645\u001b[0m         \"\"\"\n\u001b[1;32m   1646\u001b[0m         \u001b[0mkwargs\u001b[0m \u001b[0;34m=\u001b[0m \u001b[0mcbook\u001b[0m\u001b[0;34m.\u001b[0m\u001b[0mnormalize_kwargs\u001b[0m\u001b[0;34m(\u001b[0m\u001b[0mkwargs\u001b[0m\u001b[0;34m,\u001b[0m \u001b[0mmlines\u001b[0m\u001b[0;34m.\u001b[0m\u001b[0mLine2D\u001b[0m\u001b[0;34m)\u001b[0m\u001b[0;34m\u001b[0m\u001b[0;34m\u001b[0m\u001b[0m\n\u001b[0;32m-> 1647\u001b[0;31m         \u001b[0mlines\u001b[0m \u001b[0;34m=\u001b[0m \u001b[0;34m[\u001b[0m\u001b[0;34m*\u001b[0m\u001b[0mself\u001b[0m\u001b[0;34m.\u001b[0m\u001b[0m_get_lines\u001b[0m\u001b[0;34m(\u001b[0m\u001b[0;34m*\u001b[0m\u001b[0margs\u001b[0m\u001b[0;34m,\u001b[0m \u001b[0mdata\u001b[0m\u001b[0;34m=\u001b[0m\u001b[0mdata\u001b[0m\u001b[0;34m,\u001b[0m \u001b[0;34m**\u001b[0m\u001b[0mkwargs\u001b[0m\u001b[0;34m)\u001b[0m\u001b[0;34m]\u001b[0m\u001b[0;34m\u001b[0m\u001b[0;34m\u001b[0m\u001b[0m\n\u001b[0m\u001b[1;32m   1648\u001b[0m         \u001b[0;32mfor\u001b[0m \u001b[0mline\u001b[0m \u001b[0;32min\u001b[0m \u001b[0mlines\u001b[0m\u001b[0;34m:\u001b[0m\u001b[0;34m\u001b[0m\u001b[0;34m\u001b[0m\u001b[0m\n\u001b[1;32m   1649\u001b[0m             \u001b[0mself\u001b[0m\u001b[0;34m.\u001b[0m\u001b[0madd_line\u001b[0m\u001b[0;34m(\u001b[0m\u001b[0mline\u001b[0m\u001b[0;34m)\u001b[0m\u001b[0;34m\u001b[0m\u001b[0;34m\u001b[0m\u001b[0m\n",
            "\u001b[0;32m/usr/local/lib/python3.7/dist-packages/matplotlib/axes/_base.py\u001b[0m in \u001b[0;36m__call__\u001b[0;34m(self, *args, **kwargs)\u001b[0m\n\u001b[1;32m    214\u001b[0m                 \u001b[0mthis\u001b[0m \u001b[0;34m+=\u001b[0m \u001b[0margs\u001b[0m\u001b[0;34m[\u001b[0m\u001b[0;36m0\u001b[0m\u001b[0;34m]\u001b[0m\u001b[0;34m,\u001b[0m\u001b[0;34m\u001b[0m\u001b[0;34m\u001b[0m\u001b[0m\n\u001b[1;32m    215\u001b[0m                 \u001b[0margs\u001b[0m \u001b[0;34m=\u001b[0m \u001b[0margs\u001b[0m\u001b[0;34m[\u001b[0m\u001b[0;36m1\u001b[0m\u001b[0;34m:\u001b[0m\u001b[0;34m]\u001b[0m\u001b[0;34m\u001b[0m\u001b[0;34m\u001b[0m\u001b[0m\n\u001b[0;32m--> 216\u001b[0;31m             \u001b[0;32myield\u001b[0m \u001b[0;32mfrom\u001b[0m \u001b[0mself\u001b[0m\u001b[0;34m.\u001b[0m\u001b[0m_plot_args\u001b[0m\u001b[0;34m(\u001b[0m\u001b[0mthis\u001b[0m\u001b[0;34m,\u001b[0m \u001b[0mkwargs\u001b[0m\u001b[0;34m)\u001b[0m\u001b[0;34m\u001b[0m\u001b[0;34m\u001b[0m\u001b[0m\n\u001b[0m\u001b[1;32m    217\u001b[0m \u001b[0;34m\u001b[0m\u001b[0m\n\u001b[1;32m    218\u001b[0m     \u001b[0;32mdef\u001b[0m \u001b[0mget_next_color\u001b[0m\u001b[0;34m(\u001b[0m\u001b[0mself\u001b[0m\u001b[0;34m)\u001b[0m\u001b[0;34m:\u001b[0m\u001b[0;34m\u001b[0m\u001b[0;34m\u001b[0m\u001b[0m\n",
            "\u001b[0;32m/usr/local/lib/python3.7/dist-packages/matplotlib/axes/_base.py\u001b[0m in \u001b[0;36m_plot_args\u001b[0;34m(self, tup, kwargs)\u001b[0m\n\u001b[1;32m    340\u001b[0m \u001b[0;34m\u001b[0m\u001b[0m\n\u001b[1;32m    341\u001b[0m         \u001b[0;32mif\u001b[0m \u001b[0mx\u001b[0m\u001b[0;34m.\u001b[0m\u001b[0mshape\u001b[0m\u001b[0;34m[\u001b[0m\u001b[0;36m0\u001b[0m\u001b[0;34m]\u001b[0m \u001b[0;34m!=\u001b[0m \u001b[0my\u001b[0m\u001b[0;34m.\u001b[0m\u001b[0mshape\u001b[0m\u001b[0;34m[\u001b[0m\u001b[0;36m0\u001b[0m\u001b[0;34m]\u001b[0m\u001b[0;34m:\u001b[0m\u001b[0;34m\u001b[0m\u001b[0;34m\u001b[0m\u001b[0m\n\u001b[0;32m--> 342\u001b[0;31m             raise ValueError(f\"x and y must have same first dimension, but \"\n\u001b[0m\u001b[1;32m    343\u001b[0m                              f\"have shapes {x.shape} and {y.shape}\")\n\u001b[1;32m    344\u001b[0m         \u001b[0;32mif\u001b[0m \u001b[0mx\u001b[0m\u001b[0;34m.\u001b[0m\u001b[0mndim\u001b[0m \u001b[0;34m>\u001b[0m \u001b[0;36m2\u001b[0m \u001b[0;32mor\u001b[0m \u001b[0my\u001b[0m\u001b[0;34m.\u001b[0m\u001b[0mndim\u001b[0m \u001b[0;34m>\u001b[0m \u001b[0;36m2\u001b[0m\u001b[0;34m:\u001b[0m\u001b[0;34m\u001b[0m\u001b[0;34m\u001b[0m\u001b[0m\n",
            "\u001b[0;31mValueError\u001b[0m: x and y must have same first dimension, but have shapes (32430,) and (2162, 1)"
          ]
        },
        {
          "output_type": "display_data",
          "data": {
            "text/plain": [
              "<Figure size 648x432 with 1 Axes>"
            ],
            "image/png": "[encoded data removed]"
          },
          "metadata": {}
        }
      ]
    },
    {
      "cell_type": "code",
      "source": [],
      "metadata": {
        "id": "1ddQKYlO6eGi"
      },
      "execution_count": null,
      "outputs": []
    }
  ]
}