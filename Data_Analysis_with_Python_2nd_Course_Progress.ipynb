{
  "nbformat": 4,
  "nbformat_minor": 0,
  "metadata": {
    "colab": {
      "provenance": [],
      "collapsed_sections": [],
      "authorship_tag": "ABX9TyO9pjK9C00yyJPfwRGMYiTW",
      "include_colab_link": true
    },
    "kernelspec": {
      "name": "python3",
      "display_name": "Python 3"
    },
    "language_info": {
      "name": "python"
    }
  },
  "cells": [
    {
      "cell_type": "markdown",
      "metadata": {
        "id": "view-in-github",
        "colab_type": "text"
      },
      "source": [
        "<a href=\"https://colab.research.google.com/github/PosgradoMNA/actividades-de-aprendizaje-A01793546-Ariel-Corral-Leon/blob/main/Data_Analysis_with_Python_2nd_Course_Progress.ipynb\" target=\"_parent\"><img src=\"https://colab.research.google.com/assets/colab-badge.svg\" alt=\"Open In Colab\"/></a>"
      ]
    },
    {
      "cell_type": "markdown",
      "source": [
        "#IBM: DA0101EN Data Analysis with Python\n",
        "\n",
        "###Curso de Analisis de datos con Python\n"
      ],
      "metadata": {
        "id": "CYs2lCd62FvM"
      }
    },
    {
      "cell_type": "markdown",
      "source": [
        "August  7, 2017\n",
        "\n",
        "- Beta  Module 1 and 2  are available. Module 1 will cover: understanding a domain, understanding a dataset, overview of Python packages for data science Data Acquisition and Obtain basic insight from datasets. Module 2 will cover: Identify and handle missing values, data formatting, data normalization, data binning and Indicator variables.\n",
        "\n",
        "September  1, 2017\n",
        "\n",
        "- Full Beta everything is available."
      ],
      "metadata": {
        "id": "c2Q7td_42TmE"
      }
    },
    {
      "cell_type": "markdown",
      "source": [
        "Durante el curso podremos realizar algunos puntos a continuación:\n",
        "---\n",
        "| Elementos a considerar |\n",
        "---\n",
        "| 1.- Problemas que requieren analizis de datos |\n",
        "| 2.- Como se analizan las bases de datos en Python |\n",
        "| 3.- Los paquetes con los que se analizan los datos de Python |\n",
        "| 4.- Importanto y exportando información |\n",
        "| 5.- Puntos basicos sobre el manejo de \"Data Sets\" |\n",
        "\n",
        "\n",
        "Dentro de los puntos basicos para el análisis de datos debemos de considerar:\n",
        "Tipos de datos\n",
        "\n",
        "| Señales basicas para el analisis de información  |\n",
        "------\n",
        "| Variables excluidas  |\n",
        "| Verificación de datos  |\n",
        "| Distribución de datos  |\n",
        "| Localizar errores en los datos  |\n",
        "\n",
        "Hay diferentes formas de la itnerpretación de los datos segun el typo de datos y quien lo interprete:\n",
        "\n",
        "\n",
        "|  Tipo de datos de PANDAS  |  Tipo de datos de Python  |  Descripción de tipo de datos  |\n",
        "-------\n",
        "| Objeto | String  | Numeros y \"strings\" |\n",
        "| int64 | int  | Caracteres numéricos |\n",
        "| float64 | float  | Caracteres numéricos con puntos decimales |\n",
        "| datetime64, timedelta NS  | N/A (pero se puede determinar por modulo de tiempo segun las librerías)  | información de tiempo y fecha  |\n"
      ],
      "metadata": {
        "id": "qvi9lCyI2cNc"
      }
    },
    {
      "cell_type": "code",
      "source": [],
      "metadata": {
        "id": "0KnZt8PA9vdd"
      },
      "execution_count": null,
      "outputs": []
    }
  ]
}