{
  "nbformat": 4,
  "nbformat_minor": 0,
  "metadata": {
    "colab": {
      "provenance": [],
      "collapsed_sections": [],
      "toc_visible": true,
      "authorship_tag": "ABX9TyMnZNRrXOmijMiV04W2zMva",
      "include_colab_link": true
    },
    "kernelspec": {
      "name": "python3",
      "display_name": "Python 3"
    },
    "language_info": {
      "name": "python"
    }
  },
  "cells": [
    {
      "cell_type": "markdown",
      "metadata": {
        "id": "view-in-github",
        "colab_type": "text"
      },
      "source": [
        "<a href=\"https://colab.research.google.com/github/PosgradoMNA/actividades-de-aprendizaje-A01793546-Ariel-Corral-Leon/blob/main/Data_Analysis_with_Python_2nd_Course_Progress.ipynb\" target=\"_parent\"><img src=\"https://colab.research.google.com/assets/colab-badge.svg\" alt=\"Open In Colab\"/></a>"
      ]
    },
    {
      "cell_type": "markdown",
      "source": [
        "#IBM: DA0101EN Data Analysis with Python\n",
        "\n",
        "Curso de Analisis de datos con Python\n"
      ],
      "metadata": {
        "id": "CYs2lCd62FvM"
      }
    },
    {
      "cell_type": "markdown",
      "source": [
        "August  7, 2017\n",
        "\n",
        "- Beta  Module 1 and 2  are available. \n",
        " - Module 1 will cover: understanding a domain, understanding a dataset, overview of Python packages for data science Data Acquisition and Obtain basic insight from datasets. \n",
        " - Module 2 will cover: Identify and handle missing values, data formatting, data normalization, data binning and Indicator variables.\n",
        "\n",
        "September  1, 2017\n",
        "\n",
        "- Full Beta everything is available."
      ],
      "metadata": {
        "id": "c2Q7td_42TmE"
      }
    },
    {
      "cell_type": "markdown",
      "source": [
        "## Módulo #1 - Introducción\n",
        "\n",
        "Durante el curso podremos realizar algunos puntos a continuación:\n",
        "\n",
        "\n",
        "| Elementos a considerar |\n",
        "---\n",
        "| 1.- Problemas que requieren analizis de datos |\n",
        "| 2.- Como se analizan las bases de datos en Python |\n",
        "| 3.- Los paquetes con los que se analizan los datos de Python |\n",
        "| 4.- Importanto y exportando información |\n",
        "| 5.- Puntos basicos sobre el manejo de \"Data Sets\" |\n",
        "\n",
        "\n",
        "Dentro de los puntos basicos para el análisis de datos debemos de considerar:\n",
        "Tipos de datos\n",
        "\n",
        "| Señales basicas para el analisis de información  |\n",
        "------\n",
        "| Variables excluidas  |\n",
        "| Verificación de datos  |\n",
        "| Distribución de datos  |\n",
        "| Localizar errores en los datos  |\n",
        "\n",
        "Hay diferentes formas de la itnerpretación de los datos segun el typo de datos y quien lo interprete:\n",
        "\n",
        "\n",
        "| Tipo de datos de PANDAS  |  Tipo de dato  |  Descripción  |\n",
        "---\n",
        "| Objeto | String  | Numeros y \"strings\" |\n",
        "| int64 | int  | Caracteres numéricos |\n",
        "| float64 | float  | Caracteres numéricos con puntos decimales |\n",
        "| datetime64, timedelta NS  | N/A (pero se puede determinar por modulo de \n",
        "tiempo segun las librerías)  | información de tiempo y fecha  |\n",
        "\n",
        "**df.dtypes**  = muestra el tipo de datos que tenemos en cada segmento\n",
        "\n",
        "**df.describe** = muestra una tabla de detalles con estimaciones matematicas para poder identificar anormalidades\n",
        "**df.describe(include=\"all\")** = incluye todas las características del Dataframe\n",
        "**df.info() =  muestra toda la tabla resumida "
      ],
      "metadata": {
        "id": "qvi9lCyI2cNc"
      }
    },
    {
      "cell_type": "markdown",
      "source": [
        "## Módulo #2 - Manejo de datos"
      ],
      "metadata": {
        "id": "CEW4MagsQsA5"
      }
    },
    {
      "cell_type": "markdown",
      "source": [
        " Para poder realizar el manejo de datos de forma correcta tomaremos en cuenta los siguientes aspectos:\n",
        "\n",
        " \n",
        " | Características de la informacion y su manejo |\n",
        " ---\n",
        " Pre - Procesamiento\n",
        " Resolución de datos faltantes\n",
        " Formateo de valores\n",
        " Normalización de datos\n",
        " Binnado con python\n",
        " Migrando categorías de variables a cuantitativas"
      ],
      "metadata": {
        "id": "ppp-H3EqQuCO"
      }
    },
    {
      "cell_type": "markdown",
      "source": [
        "###Pre-Procesamiento:\n",
        "Durante este procesamiento se debe de tener en cuenta que se deben de aprender a manipular los \"0s\" ó valores vacios"
      ],
      "metadata": {
        "id": "yjoRR6NYRaP9"
      }
    },
    {
      "cell_type": "markdown",
      "source": [
        "###Resolución de datos faltantes:"
      ],
      "metadata": {
        "id": "9XavEYV2Uu7V"
      }
    },
    {
      "cell_type": "markdown",
      "source": [
        "###Formateo de valores:\n"
      ],
      "metadata": {
        "id": "9qnuKhVDU6Ib"
      }
    },
    {
      "cell_type": "markdown",
      "source": [
        "###Normalización de datos:"
      ],
      "metadata": {
        "id": "UCuWEWgTVFM8"
      }
    },
    {
      "cell_type": "markdown",
      "source": [
        "###Resolución de datos faltantes:"
      ],
      "metadata": {
        "id": "xzAzo0ChU5_r"
      }
    },
    {
      "cell_type": "markdown",
      "source": [
        "###Agrupamiento:"
      ],
      "metadata": {
        "id": "F8lXZ3mkU5pn"
      }
    },
    {
      "cell_type": "markdown",
      "source": [
        "###Convirtiendo variables cualitativas a variables cuantitativas:"
      ],
      "metadata": {
        "id": "K_9xMHaLXJyC"
      }
    },
    {
      "cell_type": "markdown",
      "source": [
        "## Módulo #3 - Exploración de datos"
      ],
      "metadata": {
        "id": "AoZzSsslUJ3M"
      }
    },
    {
      "cell_type": "markdown",
      "source": [
        "## Módulo #4 - Desarrollo de modelos"
      ],
      "metadata": {
        "id": "7DBsgcFKUQ7u"
      }
    },
    {
      "cell_type": "markdown",
      "source": [
        "## Módulo #5 - Evaluación de modelos"
      ],
      "metadata": {
        "id": "Gx63Xs3kUWXG"
      }
    }
  ]
}