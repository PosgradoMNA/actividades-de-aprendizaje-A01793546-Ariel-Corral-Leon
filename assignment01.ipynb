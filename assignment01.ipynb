{
  "nbformat": 4,
  "nbformat_minor": 0,
  "metadata": {
    "colab": {
      "name": "assignment01.ipynb",
      "provenance": [],
      "toc_visible": true,
      "include_colab_link": true
    },
    "kernelspec": {
      "name": "python3",
      "display_name": "Python 3"
    },
    "language_info": {
      "name": "python"
    }
  },
  "cells": [
    {
      "cell_type": "markdown",
      "metadata": {
        "id": "view-in-github",
        "colab_type": "text"
      },
      "source": [
        "<a href=\"https://colab.research.google.com/github/PosgradoMNA/actividades-de-aprendizaje-A01793546-Ariel-Corral-Leon/blob/main/assignment01.ipynb\" target=\"_parent\"><img src=\"https://colab.research.google.com/assets/colab-badge.svg\" alt=\"Open In Colab\"/></a>"
      ]
    },
    {
      "cell_type": "code",
      "execution_count": null,
      "metadata": {
        "id": "LzUSMM79NR9P",
        "outputId": "0e6cb421-1096-426a-b31a-f61d059def81",
        "colab": {
          "base_uri": "https://localhost:8080/"
        }
      },
      "outputs": [
        {
          "output_type": "stream",
          "name": "stdout",
          "text": [
            "assignment01 for GitJobish03 and edited in git, and 18\n"
          ]
        }
      ],
      "source": [
        "print('assignment01 for GitJobish03 and edited in git, and 18')"
      ]
    },
    {
      "cell_type": "code",
      "source": [
        "print(\"Hola desde Monterrey \\nMi nombre es Ariel Corral\")"
      ],
      "metadata": {
        "id": "mxM_WppZPMFx",
        "outputId": "5dd2f3a4-6e53-4b2d-d4ec-714f634ad3e0",
        "colab": {
          "base_uri": "https://localhost:8080/"
        }
      },
      "execution_count": null,
      "outputs": [
        {
          "output_type": "stream",
          "name": "stdout",
          "text": [
            "Hola desde Monterrey \n",
            "Mi nombre es Ariel Corral\n"
          ]
        }
      ]
    },
    {
      "cell_type": "code",
      "source": [
        "Var1 = 1"
      ],
      "metadata": {
        "id": "Am0VPIzUFGic"
      },
      "execution_count": null,
      "outputs": []
    },
    {
      "cell_type": "code",
      "source": [
        "Var2=1.03\n",
        "Var3= True\n",
        "Var4= \"Cadena de texto\""
      ],
      "metadata": {
        "id": "scRlv0fGFL2Q"
      },
      "execution_count": null,
      "outputs": []
    },
    {
      "cell_type": "code",
      "source": [
        "print(type(Var1))\n",
        "\n",
        "print(type(Var2))\n",
        "\n",
        "print(type(Var3))\n",
        "\n",
        "print(type(Var4))"
      ],
      "metadata": {
        "id": "juoxemokFYfK",
        "outputId": "2211094c-653a-4f08-e9a6-e2efd3f52909",
        "colab": {
          "base_uri": "https://localhost:8080/"
        }
      },
      "execution_count": null,
      "outputs": [
        {
          "output_type": "stream",
          "name": "stdout",
          "text": [
            "<class 'int'>\n",
            "<class 'float'>\n",
            "<class 'bool'>\n",
            "<class 'str'>\n"
          ]
        }
      ]
    },
    {
      "cell_type": "code",
      "source": [
        "Nombre=print(\"Bienvenido a estas primeras pruebas y aprendizaje \", input(\"Escribe tu nombre para desplegarlo : \") )"
      ],
      "metadata": {
        "id": "zDkBC16OFflG",
        "outputId": "e01669f2-ff20-495c-8344-2e5dd850cc28",
        "colab": {
          "base_uri": "https://localhost:8080/"
        }
      },
      "execution_count": null,
      "outputs": [
        {
          "output_type": "stream",
          "name": "stdout",
          "text": [
            "Escribe tu nombre para desplegarlo : Ariel Corral\n",
            "Bienvenido a estas primeras pruebas y aprendizaje  Ariel Corral\n"
          ]
        }
      ]
    },
    {
      "cell_type": "code",
      "source": [
        "\n",
        "S={'A','B','C'}\n",
        "\n",
        "U={'A','Z','C'}\n",
        "\n",
        "U.union(S)"
      ],
      "metadata": {
        "id": "lkz7hIerHT2t",
        "colab": {
          "base_uri": "https://localhost:8080/"
        },
        "outputId": "f8299140-2aeb-4d46-a218-6bbe8a2c2cf9"
      },
      "execution_count": null,
      "outputs": [
        {
          "output_type": "execute_result",
          "data": {
            "text/plain": [
              "{'A', 'B', 'C', 'Z'}"
            ]
          },
          "metadata": {},
          "execution_count": 1
        }
      ]
    },
    {
      "cell_type": "code",
      "source": [
        "Q = {'a':0,'b':1,'c':2}"
      ],
      "metadata": {
        "id": "dcH6XmIC9erY"
      },
      "execution_count": null,
      "outputs": []
    },
    {
      "cell_type": "code",
      "source": [
        "print(Q)"
      ],
      "metadata": {
        "id": "VHX6TLZC-QkT",
        "outputId": "5e54b5b2-13cf-4d0e-8625-fae8cfa7c4af",
        "colab": {
          "base_uri": "https://localhost:8080/"
        }
      },
      "execution_count": null,
      "outputs": [
        {
          "output_type": "stream",
          "name": "stdout",
          "text": [
            "{'a': 0, 'b': 1, 'c': 2}\n"
          ]
        }
      ]
    },
    {
      "cell_type": "code",
      "source": [
        "Dict={\"A\":1,\"B\":\"2\",\"C\":[3,3,3],\"D\":(4,4,4),'E':5,'F':6}\n",
        "Dict[\"D\"]\n",
        "\n",
        "Dict[\"E\"]"
      ],
      "metadata": {
        "id": "CdIeTM8c-p5h",
        "outputId": "134eb5fe-161b-45f6-8e9d-e427147612c4",
        "colab": {
          "base_uri": "https://localhost:8080/"
        }
      },
      "execution_count": null,
      "outputs": [
        {
          "output_type": "execute_result",
          "data": {
            "text/plain": [
              "5"
            ]
          },
          "metadata": {},
          "execution_count": 8
        }
      ]
    },
    {
      "cell_type": "code",
      "source": [
        "A=[3,4,5]\n",
        "\n",
        "for a in A:\n",
        "\n",
        "  print(a)"
      ],
      "metadata": {
        "id": "NgJs9LuR_jI0",
        "outputId": "a7a66757-556e-43aa-9b83-cd0104a41b7c",
        "colab": {
          "base_uri": "https://localhost:8080/"
        }
      },
      "execution_count": null,
      "outputs": [
        {
          "output_type": "stream",
          "name": "stdout",
          "text": [
            "3\n",
            "4\n",
            "5\n"
          ]
        }
      ]
    },
    {
      "cell_type": "code",
      "source": [
        "x=3\n",
        "\n",
        "y=1\n",
        "\n",
        "while(y!=x):\n",
        "\n",
        "  print(y)\n",
        "\n",
        "  y=y+1"
      ],
      "metadata": {
        "id": "CFFOT0mPAeSE",
        "outputId": "0109d05b-48c9-4cab-8b72-c56c4dc3781c",
        "colab": {
          "base_uri": "https://localhost:8080/"
        }
      },
      "execution_count": null,
      "outputs": [
        {
          "output_type": "stream",
          "name": "stdout",
          "text": [
            "1\n",
            "2\n"
          ]
        }
      ]
    },
    {
      "cell_type": "code",
      "source": [
        "a=1\n",
        "\n",
        "def add(b):\n",
        "\n",
        "  return a+b\n",
        "\n",
        "c=add(10)\n",
        "print(c)"
      ],
      "metadata": {
        "id": "QSPmgYUzA2Lt",
        "outputId": "5d617c46-3624-4a76-8ae4-a137c8202944",
        "colab": {
          "base_uri": "https://localhost:8080/"
        }
      },
      "execution_count": null,
      "outputs": [
        {
          "output_type": "stream",
          "name": "stdout",
          "text": [
            "11\n"
          ]
        }
      ]
    },
    {
      "cell_type": "code",
      "source": [
        "def f(*x):\n",
        "\n",
        "  return sum(x)\n",
        "print(x)\n"
      ],
      "metadata": {
        "id": "pu89lG-OA-H3",
        "outputId": "23105de6-42a6-4689-e9eb-728ee1296c67",
        "colab": {
          "base_uri": "https://localhost:8080/"
        }
      },
      "execution_count": null,
      "outputs": [
        {
          "output_type": "stream",
          "name": "stdout",
          "text": [
            "3\n"
          ]
        }
      ]
    },
    {
      "cell_type": "markdown",
      "source": [
        "# Modulo 4\n",
        "#### Avanzando a la lectura de documentos y escritura\n",
        "###### Incluyendo manejo de datos con pandas"
      ],
      "metadata": {
        "id": "m56d8CEBTCdf"
      }
    },
    {
      "cell_type": "code",
      "source": [
        "import pandas as pd #Carga la libreria de Pandas y la asigna como \"pd\" pero igual puede tomar cualquier nombre a nuestra definición\n",
        "import numpy as np # carga la libreria de Numpy y la asigna como \"np\" pero igual puede tomar cualquier nombre a nuestra definición"
      ],
      "metadata": {
        "id": "YBLyH5QgBWwV"
      },
      "execution_count": 1,
      "outputs": []
    },
    {
      "cell_type": "markdown",
      "source": [
        "####Manejo de archivos con Pandas"
      ],
      "metadata": {
        "id": "7ZlGnMmIdqKf"
      }
    },
    {
      "cell_type": "code",
      "source": [
        "with open  (\"/content/sample_data/README.md\",\"r\") as File1:\n",
        "  File_Content = File1.read()\n",
        "  print(File_Content)\n",
        "print(File1.close)"
      ],
      "metadata": {
        "colab": {
          "base_uri": "https://localhost:8080/"
        },
        "id": "KqOXifaZY4oo",
        "outputId": "cbadbb5a-1c44-4ea4-91f2-90ba26ba554f"
      },
      "execution_count": 55,
      "outputs": [
        {
          "output_type": "stream",
          "name": "stdout",
          "text": [
            "This directory includes a few sample datasets to get you started.\n",
            "\n",
            "*   `california_housing_data*.csv` is California housing data from the 1990 US\n",
            "    Census; more information is available at:\n",
            "    https://developers.google.com/machine-learning/crash-course/california-housing-data-description\n",
            "\n",
            "*   `mnist_*.csv` is a small sample of the\n",
            "    [MNIST database](https://en.wikipedia.org/wiki/MNIST_database), which is\n",
            "    described at: http://yann.lecun.com/exdb/mnist/\n",
            "\n",
            "*   `anscombe.json` contains a copy of\n",
            "    [Anscombe's quartet](https://en.wikipedia.org/wiki/Anscombe%27s_quartet); it\n",
            "    was originally described in\n",
            "\n",
            "    Anscombe, F. J. (1973). 'Graphs in Statistical Analysis'. American\n",
            "    Statistician. 27 (1): 17-21. JSTOR 2682899.\n",
            "\n",
            "    and our copy was prepared by the\n",
            "    [vega_datasets library](https://github.com/altair-viz/vega_datasets/blob/4f67bdaad10f45e3549984e17e1b3088c731503d/vega_datasets/_data/anscombe.json).\n",
            "\n",
            "<built-in method close of _io.TextIOWrapper object at 0x7fda88173bb0>\n"
          ]
        }
      ]
    },
    {
      "cell_type": "markdown",
      "source": [
        "Para mayores referencias estas son las direcciónes con las que se pueden consultar el manejo de las librerías\n",
        "\n",
        "Pandas:\n",
        "https://pandas.pydata.org/docs/getting_started/index.html\n",
        "\n",
        "Numpy:\n",
        "https://numpy.org/devdocs/user/quickstart.html"
      ],
      "metadata": {
        "id": "U3aQ00kFeICA"
      }
    },
    {
      "cell_type": "markdown",
      "source": [
        "##### Existen arreglos de 1 dimensión (Vectores)\n",
        "##### Existen arreglos de 2 dimensiones ( Arrays )\n",
        "##### Y por ultimo tenemos los arreglos de 3  Dimensiones (Cubicos)\n"
      ],
      "metadata": {
        "id": "mzObaiYmVarS"
      }
    },
    {
      "cell_type": "code",
      "source": [
        "a = np.arange(20).reshape(4, 5)"
      ],
      "metadata": {
        "id": "s6n0sJ5hVrqa"
      },
      "execution_count": 11,
      "outputs": []
    },
    {
      "cell_type": "code",
      "source": [
        "a.shape # Muestra su forma (Shape)"
      ],
      "metadata": {
        "colab": {
          "base_uri": "https://localhost:8080/"
        },
        "id": "mkhZhfsbWm3P",
        "outputId": "f0cd1925-7b36-41e6-e73e-789e791f6cbf"
      },
      "execution_count": 9,
      "outputs": [
        {
          "output_type": "execute_result",
          "data": {
            "text/plain": [
              "(4, 5)"
            ]
          },
          "metadata": {},
          "execution_count": 9
        }
      ]
    },
    {
      "cell_type": "code",
      "source": [
        "a #Muestra simplemente el arreglo"
      ],
      "metadata": {
        "colab": {
          "base_uri": "https://localhost:8080/"
        },
        "id": "F-5Ye5dmWs59",
        "outputId": "e1f39bd3-f442-4e95-df51-2d530dd5e2ea"
      },
      "execution_count": 10,
      "outputs": [
        {
          "output_type": "execute_result",
          "data": {
            "text/plain": [
              "array([[ 0,  1,  2,  3,  4],\n",
              "       [ 5,  6,  7,  8,  9],\n",
              "       [10, 11, 12, 13, 14],\n",
              "       [15, 16, 17, 18, 19]])"
            ]
          },
          "metadata": {},
          "execution_count": 10
        }
      ]
    },
    {
      "cell_type": "code",
      "source": [
        "type(a) #Muestra el tipo del arreglo"
      ],
      "metadata": {
        "colab": {
          "base_uri": "https://localhost:8080/"
        },
        "id": "o90oZgoqW2am",
        "outputId": "9f6b3fa2-473c-437b-80de-1bf8f07d7dea"
      },
      "execution_count": 13,
      "outputs": [
        {
          "output_type": "execute_result",
          "data": {
            "text/plain": [
              "numpy.ndarray"
            ]
          },
          "metadata": {},
          "execution_count": 13
        }
      ]
    },
    {
      "cell_type": "code",
      "source": [
        "b = np.arange(15).reshape(3, 5) #Nuevo arreglo de 15 valores"
      ],
      "metadata": {
        "id": "FTvjtubXXC_j"
      },
      "execution_count": 15,
      "outputs": []
    },
    {
      "cell_type": "code",
      "source": [
        "print(\"tipo de arreglo\",type(b))\n",
        "print(\"Arreglo:\",a.shape)\n",
        "print(\"Valor de'B'\\n\",b)\n"
      ],
      "metadata": {
        "colab": {
          "base_uri": "https://localhost:8080/"
        },
        "id": "I1rxm90fXTnm",
        "outputId": "5b91f4fc-0e77-4be6-ad10-5ed6b6e67973"
      },
      "execution_count": 26,
      "outputs": [
        {
          "output_type": "stream",
          "name": "stdout",
          "text": [
            "tipo de arreglo <class 'numpy.ndarray'>\n",
            "Arreglo: (4, 5)\n",
            "Valor de'B'\n",
            " [[ 0  1  2  3  4]\n",
            " [ 5  6  7  8  9]\n",
            " [10 11 12 13 14]]\n"
          ]
        }
      ]
    },
    {
      "cell_type": "code",
      "source": [
        "c=np.append(a,b) #Manejo de datos con numpy\n",
        "c"
      ],
      "metadata": {
        "colab": {
          "base_uri": "https://localhost:8080/"
        },
        "id": "qBaZvklDYHUQ",
        "outputId": "8ee60c3a-9ab6-4585-f533-3c62bb2d6883"
      },
      "execution_count": 29,
      "outputs": [
        {
          "output_type": "execute_result",
          "data": {
            "text/plain": [
              "array([ 0,  1,  2,  3,  4,  5,  6,  7,  8,  9, 10, 11, 12, 13, 14, 15, 16,\n",
              "       17, 18, 19,  0,  1,  2,  3,  4,  5,  6,  7,  8,  9, 10, 11, 12, 13,\n",
              "       14])"
            ]
          },
          "metadata": {},
          "execution_count": 29
        }
      ]
    },
    {
      "cell_type": "code",
      "source": [],
      "metadata": {
        "id": "Ys9fTp98YSKc"
      },
      "execution_count": 33,
      "outputs": []
    }
  ]
}