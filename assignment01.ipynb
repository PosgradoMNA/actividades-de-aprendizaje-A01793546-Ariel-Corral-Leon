{
  "nbformat": 4,
  "nbformat_minor": 0,
  "metadata": {
    "colab": {
      "name": "assignment01.ipynb",
      "provenance": [],
      "include_colab_link": true
    },
    "kernelspec": {
      "name": "python3",
      "display_name": "Python 3"
    },
    "language_info": {
      "name": "python"
    }
  },
  "cells": [
    {
      "cell_type": "markdown",
      "metadata": {
        "id": "view-in-github",
        "colab_type": "text"
      },
      "source": [
        "<a href=\"https://colab.research.google.com/github/PosgradoMNA/actividades-de-aprendizaje-A01793546/blob/main/assignment01.ipynb\" target=\"_parent\"><img src=\"https://colab.research.google.com/assets/colab-badge.svg\" alt=\"Open In Colab\"/></a>"
      ]
    },
    {
      "cell_type": "code",
      "execution_count": null,
      "metadata": {
        "id": "LzUSMM79NR9P",
        "outputId": "0e6cb421-1096-426a-b31a-f61d059def81",
        "colab": {
          "base_uri": "https://localhost:8080/"
        }
      },
      "outputs": [
        {
          "output_type": "stream",
          "name": "stdout",
          "text": [
            "assignment01 for GitJobish03 and edited in git, and 18\n"
          ]
        }
      ],
      "source": [
        "print('assignment01 for GitJobish03 and edited in git, and 18')"
      ]
    },
    {
      "cell_type": "code",
      "source": [
        "print(\"Hola desde Monterrey \\nMi nombre es Ariel Corral\")"
      ],
      "metadata": {
        "id": "mxM_WppZPMFx",
        "outputId": "5dd2f3a4-6e53-4b2d-d4ec-714f634ad3e0",
        "colab": {
          "base_uri": "https://localhost:8080/"
        }
      },
      "execution_count": null,
      "outputs": [
        {
          "output_type": "stream",
          "name": "stdout",
          "text": [
            "Hola desde Monterrey \n",
            "Mi nombre es Ariel Corral\n"
          ]
        }
      ]
    },
    {
      "cell_type": "code",
      "source": [
        "Var1 = 1"
      ],
      "metadata": {
        "id": "Am0VPIzUFGic"
      },
      "execution_count": null,
      "outputs": []
    },
    {
      "cell_type": "code",
      "source": [
        "Var2=1.03\n",
        "Var3= True\n",
        "Var4= \"Cadena de texto\""
      ],
      "metadata": {
        "id": "scRlv0fGFL2Q"
      },
      "execution_count": null,
      "outputs": []
    },
    {
      "cell_type": "code",
      "source": [
        "print(type(Var1))\n",
        "\n",
        "print(type(Var2))\n",
        "\n",
        "print(type(Var3))\n",
        "\n",
        "print(type(Var4))"
      ],
      "metadata": {
        "id": "juoxemokFYfK",
        "outputId": "2211094c-653a-4f08-e9a6-e2efd3f52909",
        "colab": {
          "base_uri": "https://localhost:8080/"
        }
      },
      "execution_count": null,
      "outputs": [
        {
          "output_type": "stream",
          "name": "stdout",
          "text": [
            "<class 'int'>\n",
            "<class 'float'>\n",
            "<class 'bool'>\n",
            "<class 'str'>\n"
          ]
        }
      ]
    },
    {
      "cell_type": "code",
      "source": [
        "nombre=print(input(\"Escribe tu nombre para desplegarlo\"))\n",
        "print(\"Bienvenido a estas primeras pruebas y aprendizaje \",nombre)"
      ],
      "metadata": {
        "id": "zDkBC16OFflG",
        "outputId": "1d1b4720-0765-45b2-8655-1946b75e2b04",
        "colab": {
          "base_uri": "https://localhost:8080/"
        }
      },
      "execution_count": 2,
      "outputs": [
        {
          "output_type": "stream",
          "name": "stdout",
          "text": [
            "Escribe tu nombre para desplegarloJose Ariel Corral Leon\n",
            "Jose Ariel Corral Leon\n",
            "Bienvenido a estas primeras pruebas y aprendizaje  None\n"
          ]
        }
      ]
    },
    {
      "cell_type": "code",
      "source": [],
      "metadata": {
        "id": "lkz7hIerHT2t"
      },
      "execution_count": null,
      "outputs": []
    }
  ]
}