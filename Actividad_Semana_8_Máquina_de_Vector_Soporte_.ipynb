{
  "cells": [
    {
      "cell_type": "markdown",
      "metadata": {
        "id": "view-in-github",
        "colab_type": "text"
      },
      "source": [
        "<a href=\"https://colab.research.google.com/github/PosgradoMNA/actividades-de-aprendizaje-A01793546-Ariel-Corral-Leon/blob/main/Actividad_Semana_8_M%C3%A1quina_de_Vector_Soporte_.ipynb\" target=\"_parent\"><img src=\"https://colab.research.google.com/assets/colab-badge.svg\" alt=\"Open In Colab\"/></a>"
      ]
    },
    {
      "cell_type": "markdown",
      "metadata": {
        "id": "BDs-dDPbxWfg"
      },
      "source": [
        "<img src=\"https://static.wikia.nocookie.net/tecdemonterrey/images/1/1b/Logo_Tec_azul.png/revision/latest?cb=20190219041656&path-prefix=es\" width=\"230\" />\n",
        "\n",
        "## **Adtividad de la Semana 8**\n",
        "###**Máquina de Vector Soporte (SVM)**\n",
        "\n",
        "----\n",
        "\n",
        "**Datos generales**\n",
        "---\n",
        "**EQUIPO 52**\n",
        "\n",
        "**Integrantes:**\n",
        "\n",
        "| Nombre | matricula de los integrantes del equipo\n",
        "|---|---|\n",
        "| Helmy Andrea Moreno Navarro | **A01793918** |\n",
        "| José Santiago Rueda Antonio | **A01794118** |\n",
        "| Eddie Guadalupe Elorza Ruiz | **A01793547** |\n",
        "| Saúl Yovani Salgueiro Lindoro |**A01633510**|\n",
        "| José Ariel Corral León | **A01793546** |\n",
        "\n",
        "\n",
        ">**Materia:** Inteligencia Artificial y Aprendizaje Automático (Gpo 10)\n",
        "\n",
        ">**Profesor Titular:** Luis Eduardo Falcón Morales\n",
        "\n",
        "\n",
        "07 de noviembre 2022\n",
        "\n",
        "-----"
      ]
    },
    {
      "cell_type": "markdown",
      "metadata": {
        "id": "xNd2h7dE0LVg"
      },
      "source": [
        "Se trabajará con el conjunto de datos conocido como \"Australian credit approval\", un problema de \n",
        "clasificación que ya has estudiado en semanas previas y cuyos datos puedes encontrar en la siguiente \n",
        "liga del repositorio de la UCI: \n",
        "https://archive.ics.uci.edu/ml/datasets/Statlog+%28Australian+Credit+Approval%29  \n",
        "El objetivo es determinar si se autoriza una tarjeta de crédito dada cierta información del solicitante. En \n",
        "la página de la UCI encuentras mayor información sobre el problema. \n",
        "\n",
        "----"
      ]
    },
    {
      "cell_type": "code",
      "execution_count": null,
      "metadata": {
        "id": "WoG79Qk71VD2"
      },
      "outputs": [],
      "source": [
        "# Incluye aquí todos módulos, librerías y paquetes que requieras.\n",
        "import numpy as np\n",
        "import pandas as pd\n",
        "import matplotlib.pyplot as plt\n",
        "from matplotlib import pyplot\n",
        "import seaborn as sns  \n",
        "from sklearn.svm import SVC\n",
        "from sklearn.model_selection import train_test_split, cross_validate,  RepeatedKFold,GridSearchCV, learning_curve\n",
        "from sklearn.impute import SimpleImputer\n",
        "from sklearn.compose import ColumnTransformer,TransformedTargetRegressor\n",
        "from sklearn.pipeline import Pipeline\n",
        "from sklearn.preprocessing import StandardScaler, OneHotEncoder,MinMaxScaler,FunctionTransformer\n",
        "from sklearn.neural_network import MLPRegressor\n",
        "from sklearn.datasets import make_regression\n",
        "from sklearn.metrics import mean_squared_error, mean_absolute_percentage_error, make_scorer\n",
        "from sklearn.dummy import DummyClassifier\n",
        "from sklearn.linear_model import LinearRegression\n",
        "from sklearn.ensemble import RandomForestClassifier\n",
        "from sklearn.inspection import permutation_importance\n",
        "from sklearn.metrics import accuracy_score, f1_score, recall_score, precision_score,confusion_matrix, RocCurveDisplay, roc_auc_score\n",
        "from sklearn import metrics"
      ]
    },
    {
      "cell_type": "markdown",
      "metadata": {
        "id": "n1VaXxpZyhnY"
      },
      "source": [
        "### **1.  Realiza una partición de los datos con 15% en el conjunto de prueba y el resto para entrenamiento y validación. Usa un random_state=0**"
      ]
    },
    {
      "cell_type": "code",
      "execution_count": null,
      "metadata": {
        "colab": {
          "base_uri": "https://localhost:8080/",
          "height": 424
        },
        "id": "4Fx2-Tybw5GM",
        "outputId": "1deb3b1f-b67c-4438-9854-da2d260b45e6"
      },
      "outputs": [
        {
          "data": {
            "text/html": [
              "\n",
              "  <div id=\"df-ef4702ae-b390-4052-9e21-ec9707e66bc2\">\n",
              "    <div class=\"colab-df-container\">\n",
              "      <div>\n",
              "<style scoped>\n",
              "    .dataframe tbody tr th:only-of-type {\n",
              "        vertical-align: middle;\n",
              "    }\n",
              "\n",
              "    .dataframe tbody tr th {\n",
              "        vertical-align: top;\n",
              "    }\n",
              "\n",
              "    .dataframe thead th {\n",
              "        text-align: right;\n",
              "    }\n",
              "</style>\n",
              "<table border=\"1\" class=\"dataframe\">\n",
              "  <thead>\n",
              "    <tr style=\"text-align: right;\">\n",
              "      <th></th>\n",
              "      <th>A1</th>\n",
              "      <th>A2</th>\n",
              "      <th>A3</th>\n",
              "      <th>A4</th>\n",
              "      <th>A5</th>\n",
              "      <th>A6</th>\n",
              "      <th>A7</th>\n",
              "      <th>A8</th>\n",
              "      <th>A9</th>\n",
              "      <th>A10</th>\n",
              "      <th>A11</th>\n",
              "      <th>A12</th>\n",
              "      <th>A13</th>\n",
              "      <th>A14</th>\n",
              "      <th>A15</th>\n",
              "    </tr>\n",
              "  </thead>\n",
              "  <tbody>\n",
              "    <tr>\n",
              "      <th>0</th>\n",
              "      <td>1</td>\n",
              "      <td>22.08</td>\n",
              "      <td>11.460</td>\n",
              "      <td>2</td>\n",
              "      <td>4</td>\n",
              "      <td>4</td>\n",
              "      <td>1.585</td>\n",
              "      <td>0</td>\n",
              "      <td>0</td>\n",
              "      <td>0</td>\n",
              "      <td>1</td>\n",
              "      <td>2</td>\n",
              "      <td>100</td>\n",
              "      <td>1213</td>\n",
              "      <td>0</td>\n",
              "    </tr>\n",
              "    <tr>\n",
              "      <th>1</th>\n",
              "      <td>0</td>\n",
              "      <td>22.67</td>\n",
              "      <td>7.000</td>\n",
              "      <td>2</td>\n",
              "      <td>8</td>\n",
              "      <td>4</td>\n",
              "      <td>0.165</td>\n",
              "      <td>0</td>\n",
              "      <td>0</td>\n",
              "      <td>0</td>\n",
              "      <td>0</td>\n",
              "      <td>2</td>\n",
              "      <td>160</td>\n",
              "      <td>1</td>\n",
              "      <td>0</td>\n",
              "    </tr>\n",
              "    <tr>\n",
              "      <th>2</th>\n",
              "      <td>0</td>\n",
              "      <td>29.58</td>\n",
              "      <td>1.750</td>\n",
              "      <td>1</td>\n",
              "      <td>4</td>\n",
              "      <td>4</td>\n",
              "      <td>1.250</td>\n",
              "      <td>0</td>\n",
              "      <td>0</td>\n",
              "      <td>0</td>\n",
              "      <td>1</td>\n",
              "      <td>2</td>\n",
              "      <td>280</td>\n",
              "      <td>1</td>\n",
              "      <td>0</td>\n",
              "    </tr>\n",
              "    <tr>\n",
              "      <th>3</th>\n",
              "      <td>0</td>\n",
              "      <td>21.67</td>\n",
              "      <td>11.500</td>\n",
              "      <td>1</td>\n",
              "      <td>5</td>\n",
              "      <td>3</td>\n",
              "      <td>0.000</td>\n",
              "      <td>1</td>\n",
              "      <td>1</td>\n",
              "      <td>11</td>\n",
              "      <td>1</td>\n",
              "      <td>2</td>\n",
              "      <td>0</td>\n",
              "      <td>1</td>\n",
              "      <td>1</td>\n",
              "    </tr>\n",
              "    <tr>\n",
              "      <th>4</th>\n",
              "      <td>1</td>\n",
              "      <td>20.17</td>\n",
              "      <td>8.170</td>\n",
              "      <td>2</td>\n",
              "      <td>6</td>\n",
              "      <td>4</td>\n",
              "      <td>1.960</td>\n",
              "      <td>1</td>\n",
              "      <td>1</td>\n",
              "      <td>14</td>\n",
              "      <td>0</td>\n",
              "      <td>2</td>\n",
              "      <td>60</td>\n",
              "      <td>159</td>\n",
              "      <td>1</td>\n",
              "    </tr>\n",
              "    <tr>\n",
              "      <th>...</th>\n",
              "      <td>...</td>\n",
              "      <td>...</td>\n",
              "      <td>...</td>\n",
              "      <td>...</td>\n",
              "      <td>...</td>\n",
              "      <td>...</td>\n",
              "      <td>...</td>\n",
              "      <td>...</td>\n",
              "      <td>...</td>\n",
              "      <td>...</td>\n",
              "      <td>...</td>\n",
              "      <td>...</td>\n",
              "      <td>...</td>\n",
              "      <td>...</td>\n",
              "      <td>...</td>\n",
              "    </tr>\n",
              "    <tr>\n",
              "      <th>685</th>\n",
              "      <td>1</td>\n",
              "      <td>31.57</td>\n",
              "      <td>10.500</td>\n",
              "      <td>2</td>\n",
              "      <td>14</td>\n",
              "      <td>4</td>\n",
              "      <td>6.500</td>\n",
              "      <td>1</td>\n",
              "      <td>0</td>\n",
              "      <td>0</td>\n",
              "      <td>0</td>\n",
              "      <td>2</td>\n",
              "      <td>0</td>\n",
              "      <td>1</td>\n",
              "      <td>1</td>\n",
              "    </tr>\n",
              "    <tr>\n",
              "      <th>686</th>\n",
              "      <td>1</td>\n",
              "      <td>20.67</td>\n",
              "      <td>0.415</td>\n",
              "      <td>2</td>\n",
              "      <td>8</td>\n",
              "      <td>4</td>\n",
              "      <td>0.125</td>\n",
              "      <td>0</td>\n",
              "      <td>0</td>\n",
              "      <td>0</td>\n",
              "      <td>0</td>\n",
              "      <td>2</td>\n",
              "      <td>0</td>\n",
              "      <td>45</td>\n",
              "      <td>0</td>\n",
              "    </tr>\n",
              "    <tr>\n",
              "      <th>687</th>\n",
              "      <td>0</td>\n",
              "      <td>18.83</td>\n",
              "      <td>9.540</td>\n",
              "      <td>2</td>\n",
              "      <td>6</td>\n",
              "      <td>4</td>\n",
              "      <td>0.085</td>\n",
              "      <td>1</td>\n",
              "      <td>0</td>\n",
              "      <td>0</td>\n",
              "      <td>0</td>\n",
              "      <td>2</td>\n",
              "      <td>100</td>\n",
              "      <td>1</td>\n",
              "      <td>1</td>\n",
              "    </tr>\n",
              "    <tr>\n",
              "      <th>688</th>\n",
              "      <td>0</td>\n",
              "      <td>27.42</td>\n",
              "      <td>14.500</td>\n",
              "      <td>2</td>\n",
              "      <td>14</td>\n",
              "      <td>8</td>\n",
              "      <td>3.085</td>\n",
              "      <td>1</td>\n",
              "      <td>1</td>\n",
              "      <td>1</td>\n",
              "      <td>0</td>\n",
              "      <td>2</td>\n",
              "      <td>120</td>\n",
              "      <td>12</td>\n",
              "      <td>1</td>\n",
              "    </tr>\n",
              "    <tr>\n",
              "      <th>689</th>\n",
              "      <td>1</td>\n",
              "      <td>41.00</td>\n",
              "      <td>0.040</td>\n",
              "      <td>2</td>\n",
              "      <td>10</td>\n",
              "      <td>4</td>\n",
              "      <td>0.040</td>\n",
              "      <td>0</td>\n",
              "      <td>1</td>\n",
              "      <td>1</td>\n",
              "      <td>0</td>\n",
              "      <td>1</td>\n",
              "      <td>560</td>\n",
              "      <td>1</td>\n",
              "      <td>1</td>\n",
              "    </tr>\n",
              "  </tbody>\n",
              "</table>\n",
              "<p>690 rows × 15 columns</p>\n",
              "</div>\n",
              "      <button class=\"colab-df-convert\" onclick=\"convertToInteractive('df-ef4702ae-b390-4052-9e21-ec9707e66bc2')\"\n",
              "              title=\"Convert this dataframe to an interactive table.\"\n",
              "              style=\"display:none;\">\n",
              "        \n",
              "  <svg xmlns=\"http://www.w3.org/2000/svg\" height=\"24px\"viewBox=\"0 0 24 24\"\n",
              "       width=\"24px\">\n",
              "    <path d=\"M0 0h24v24H0V0z\" fill=\"none\"/>\n",
              "    <path d=\"M18.56 5.44l.94 2.06.94-2.06 2.06-.94-2.06-.94-.94-2.06-.94 2.06-2.06.94zm-11 1L8.5 8.5l.94-2.06 2.06-.94-2.06-.94L8.5 2.5l-.94 2.06-2.06.94zm10 10l.94 2.06.94-2.06 2.06-.94-2.06-.94-.94-2.06-.94 2.06-2.06.94z\"/><path d=\"M17.41 7.96l-1.37-1.37c-.4-.4-.92-.59-1.43-.59-.52 0-1.04.2-1.43.59L10.3 9.45l-7.72 7.72c-.78.78-.78 2.05 0 2.83L4 21.41c.39.39.9.59 1.41.59.51 0 1.02-.2 1.41-.59l7.78-7.78 2.81-2.81c.8-.78.8-2.07 0-2.86zM5.41 20L4 18.59l7.72-7.72 1.47 1.35L5.41 20z\"/>\n",
              "  </svg>\n",
              "      </button>\n",
              "      \n",
              "  <style>\n",
              "    .colab-df-container {\n",
              "      display:flex;\n",
              "      flex-wrap:wrap;\n",
              "      gap: 12px;\n",
              "    }\n",
              "\n",
              "    .colab-df-convert {\n",
              "      background-color: #E8F0FE;\n",
              "      border: none;\n",
              "      border-radius: 50%;\n",
              "      cursor: pointer;\n",
              "      display: none;\n",
              "      fill: #1967D2;\n",
              "      height: 32px;\n",
              "      padding: 0 0 0 0;\n",
              "      width: 32px;\n",
              "    }\n",
              "\n",
              "    .colab-df-convert:hover {\n",
              "      background-color: #E2EBFA;\n",
              "      box-shadow: 0px 1px 2px rgba(60, 64, 67, 0.3), 0px 1px 3px 1px rgba(60, 64, 67, 0.15);\n",
              "      fill: #174EA6;\n",
              "    }\n",
              "\n",
              "    [theme=dark] .colab-df-convert {\n",
              "      background-color: #3B4455;\n",
              "      fill: #D2E3FC;\n",
              "    }\n",
              "\n",
              "    [theme=dark] .colab-df-convert:hover {\n",
              "      background-color: #434B5C;\n",
              "      box-shadow: 0px 1px 3px 1px rgba(0, 0, 0, 0.15);\n",
              "      filter: drop-shadow(0px 1px 2px rgba(0, 0, 0, 0.3));\n",
              "      fill: #FFFFFF;\n",
              "    }\n",
              "  </style>\n",
              "\n",
              "      <script>\n",
              "        const buttonEl =\n",
              "          document.querySelector('#df-ef4702ae-b390-4052-9e21-ec9707e66bc2 button.colab-df-convert');\n",
              "        buttonEl.style.display =\n",
              "          google.colab.kernel.accessAllowed ? 'block' : 'none';\n",
              "\n",
              "        async function convertToInteractive(key) {\n",
              "          const element = document.querySelector('#df-ef4702ae-b390-4052-9e21-ec9707e66bc2');\n",
              "          const dataTable =\n",
              "            await google.colab.kernel.invokeFunction('convertToInteractive',\n",
              "                                                     [key], {});\n",
              "          if (!dataTable) return;\n",
              "\n",
              "          const docLinkHtml = 'Like what you see? Visit the ' +\n",
              "            '<a target=\"_blank\" href=https://colab.research.google.com/notebooks/data_table.ipynb>data table notebook</a>'\n",
              "            + ' to learn more about interactive tables.';\n",
              "          element.innerHTML = '';\n",
              "          dataTable['output_type'] = 'display_data';\n",
              "          await google.colab.output.renderOutput(dataTable, element);\n",
              "          const docLink = document.createElement('div');\n",
              "          docLink.innerHTML = docLinkHtml;\n",
              "          element.appendChild(docLink);\n",
              "        }\n",
              "      </script>\n",
              "    </div>\n",
              "  </div>\n",
              "  "
            ],
            "text/plain": [
              "     A1     A2      A3  A4  A5  A6     A7  A8  A9  A10  A11  A12  A13   A14  \\\n",
              "0     1  22.08  11.460   2   4   4  1.585   0   0    0    1    2  100  1213   \n",
              "1     0  22.67   7.000   2   8   4  0.165   0   0    0    0    2  160     1   \n",
              "2     0  29.58   1.750   1   4   4  1.250   0   0    0    1    2  280     1   \n",
              "3     0  21.67  11.500   1   5   3  0.000   1   1   11    1    2    0     1   \n",
              "4     1  20.17   8.170   2   6   4  1.960   1   1   14    0    2   60   159   \n",
              "..   ..    ...     ...  ..  ..  ..    ...  ..  ..  ...  ...  ...  ...   ...   \n",
              "685   1  31.57  10.500   2  14   4  6.500   1   0    0    0    2    0     1   \n",
              "686   1  20.67   0.415   2   8   4  0.125   0   0    0    0    2    0    45   \n",
              "687   0  18.83   9.540   2   6   4  0.085   1   0    0    0    2  100     1   \n",
              "688   0  27.42  14.500   2  14   8  3.085   1   1    1    0    2  120    12   \n",
              "689   1  41.00   0.040   2  10   4  0.040   0   1    1    0    1  560     1   \n",
              "\n",
              "     A15  \n",
              "0      0  \n",
              "1      0  \n",
              "2      0  \n",
              "3      1  \n",
              "4      1  \n",
              "..   ...  \n",
              "685    1  \n",
              "686    0  \n",
              "687    1  \n",
              "688    1  \n",
              "689    1  \n",
              "\n",
              "[690 rows x 15 columns]"
            ]
          },
          "execution_count": 2,
          "metadata": {},
          "output_type": "execute_result"
        }
      ],
      "source": [
        "column_names = [f'A{x}' for x in range(1,16)]\n",
        "df = pd.read_table('https://archive.ics.uci.edu/ml/machine-learning-databases/statlog/australian/australian.dat', names=column_names, sep=\" \") # llamando la base de datos considerando un \" \" como el separador de los datos\n",
        "df.index.name = None\n",
        "df\n"
      ]
    },
    {
      "cell_type": "code",
      "execution_count": null,
      "metadata": {
        "id": "fOeIgXcQ2BS6"
      },
      "outputs": [],
      "source": [
        "random_state_v = 0 #aqui nos ahorarremos el esfuerzo de estar definiendo el random_state de futuros pasos para definirlo desde aqui"
      ]
    },
    {
      "cell_type": "code",
      "execution_count": null,
      "metadata": {
        "id": "9--YybcN-reD"
      },
      "outputs": [],
      "source": [
        "X = df.iloc[0:, 0:14]\n",
        "y = df.iloc[:, -1]"
      ]
    },
    {
      "cell_type": "code",
      "execution_count": null,
      "metadata": {
        "colab": {
          "base_uri": "https://localhost:8080/"
        },
        "id": "BzevXsli-udL",
        "outputId": "249f308d-8fb4-4392-de5d-0c90bc712d56"
      },
      "outputs": [
        {
          "output_type": "stream",
          "name": "stdout",
          "text": [
            "(586, 14) (104, 14) (586,) (104,)\n"
          ]
        }
      ],
      "source": [
        "X_train, X_val, y_train, y_val = train_test_split(X, y, test_size= 0.15, random_state=random_state_v) #aqui estamos definiendo nuestros segmentos de datos para el modelo de entrenamiento\n",
        "print(X_train.shape, X_val.shape, y_train.shape, y_val.shape) # aqui estamos mostrando las características dimensionales de dichas particiones"
      ]
    },
    {
      "cell_type": "markdown",
      "metadata": {
        "id": "6ZqyJoj9ypIS"
      },
      "source": [
        "### **2.  Hacer una análisis de los datos y llevar a cabo las transformaciones que consideres adecuadas.**\n",
        "Utiliza un Pipeline para evitar el filtrado de información."
      ]
    },
    {
      "cell_type": "code",
      "execution_count": null,
      "metadata": {
        "colab": {
          "base_uri": "https://localhost:8080/"
        },
        "id": "PIjDTWe-SQRC",
        "outputId": "9392b93e-fb2d-4296-d5fc-181291398605"
      },
      "outputs": [
        {
          "data": {
            "text/plain": [
              "A1     0\n",
              "A2     0\n",
              "A3     0\n",
              "A4     0\n",
              "A5     0\n",
              "A6     0\n",
              "A7     0\n",
              "A8     0\n",
              "A9     0\n",
              "A10    0\n",
              "A11    0\n",
              "A12    0\n",
              "A13    0\n",
              "A14    0\n",
              "dtype: int64"
            ]
          },
          "execution_count": 6,
          "metadata": {},
          "output_type": "execute_result"
        }
      ],
      "source": [
        "X_train.isnull().sum()"
      ]
    },
    {
      "cell_type": "code",
      "execution_count": null,
      "metadata": {
        "colab": {
          "base_uri": "https://localhost:8080/"
        },
        "id": "JklJv1NXSYF8",
        "outputId": "1b2a6ce0-75fc-407f-c3ac-aa3601822b62"
      },
      "outputs": [
        {
          "name": "stdout",
          "output_type": "stream",
          "text": [
            "<class 'pandas.core.frame.DataFrame'>\n",
            "RangeIndex: 690 entries, 0 to 689\n",
            "Data columns (total 15 columns):\n",
            " #   Column  Non-Null Count  Dtype  \n",
            "---  ------  --------------  -----  \n",
            " 0   A1      690 non-null    int64  \n",
            " 1   A2      690 non-null    float64\n",
            " 2   A3      690 non-null    float64\n",
            " 3   A4      690 non-null    int64  \n",
            " 4   A5      690 non-null    int64  \n",
            " 5   A6      690 non-null    int64  \n",
            " 6   A7      690 non-null    float64\n",
            " 7   A8      690 non-null    int64  \n",
            " 8   A9      690 non-null    int64  \n",
            " 9   A10     690 non-null    int64  \n",
            " 10  A11     690 non-null    int64  \n",
            " 11  A12     690 non-null    int64  \n",
            " 12  A13     690 non-null    int64  \n",
            " 13  A14     690 non-null    int64  \n",
            " 14  A15     690 non-null    int64  \n",
            "dtypes: float64(3), int64(12)\n",
            "memory usage: 81.0 KB\n"
          ]
        }
      ],
      "source": [
        "df.info()"
      ]
    },
    {
      "cell_type": "markdown",
      "metadata": {
        "id": "-hqO2Kv9NyGK"
      },
      "source": [
        "A1: 0,1 CATEGORICAL (formerly: a,b).  \n",
        "A2: continuous.   \n",
        "A3: continuous.   \n",
        "A4: 1,2,3 CATEGORICAL (formerly: p,g,gg).  \n",
        "A5: 1, 2,3,4,5, 6,7,8,9,10,11,12,13,14 CATEGORICAL (formerly: ff,d,i,k,j,aa,m,c,w, e, q, r,cc, x).  \n",
        "A6: 1, 2,3, 4,5,6,7,8,9 CATEGORICAL (formerly: ff,dd,j,bb,v,n,o,h,z).  \n",
        "A7: continuous.   \n",
        "A8: 1, 0 CATEGORICAL (formerly: t, f).  \n",
        "A9: 1, 0 CATEGORICAL (formerly: t, f).  \n",
        "A10: continuous.   \n",
        "A11: 1, 0 CATEGORICAL (formerly t, f).  \n",
        "A12: 1, 2, 3 CATEGORICAL (formerly: s, g, p).  \n",
        "A13: continuous.   \n",
        "A14: continuous."
      ]
    },
    {
      "cell_type": "code",
      "execution_count": null,
      "metadata": {
        "id": "bNvpzFYOIDB0"
      },
      "outputs": [],
      "source": [
        "categoricas = ['A1', 'A4', 'A5', 'A6', 'A8', 'A9', 'A11', 'A12']\n",
        "numericas =['A2', 'A3', 'A7', 'A10', 'A13', 'A14']"
      ]
    },
    {
      "cell_type": "code",
      "execution_count": null,
      "metadata": {
        "colab": {
          "base_uri": "https://localhost:8080/",
          "height": 606
        },
        "id": "4KXFnJBuOnJc",
        "outputId": "b1ab5b25-653f-48c8-e33a-b0666a0bed3b"
      },
      "outputs": [
        {
          "data": {
            "image/png": "[encoded data removed]",
            "text/plain": [
              "<Figure size 1152x720 with 8 Axes>"
            ]
          },
          "metadata": {},
          "output_type": "display_data"
        }
      ],
      "source": [
        "fig = plt.figure(figsize = (16, 10))\n",
        "for i in range(0,len(categoricas)):\n",
        "  plt.subplot(3,3,1+i) \n",
        "  plt.bar(X_train[categoricas[i]].value_counts().sort_index(ascending=True).index\n",
        "          ,X_train[categoricas[i]].value_counts().sort_index(ascending = True))\n",
        "  plt.xlabel(f'{categoricas[i]}')\n",
        "  plt.ylabel('FRECUENCIA')\n",
        "plt.show()"
      ]
    },
    {
      "cell_type": "code",
      "execution_count": null,
      "metadata": {
        "colab": {
          "base_uri": "https://localhost:8080/",
          "height": 424
        },
        "id": "VMsrGpD-lLEr",
        "outputId": "442b3509-37e1-4ffb-be6e-eb7c09d1734a"
      },
      "outputs": [
        {
          "data": {
            "text/html": [
              "\n",
              "  <div id=\"df-9213f9e5-008e-4127-be39-788f7bee414e\">\n",
              "    <div class=\"colab-df-container\">\n",
              "      <div>\n",
              "<style scoped>\n",
              "    .dataframe tbody tr th:only-of-type {\n",
              "        vertical-align: middle;\n",
              "    }\n",
              "\n",
              "    .dataframe tbody tr th {\n",
              "        vertical-align: top;\n",
              "    }\n",
              "\n",
              "    .dataframe thead th {\n",
              "        text-align: right;\n",
              "    }\n",
              "</style>\n",
              "<table border=\"1\" class=\"dataframe\">\n",
              "  <thead>\n",
              "    <tr style=\"text-align: right;\">\n",
              "      <th></th>\n",
              "      <th>A2</th>\n",
              "      <th>A3</th>\n",
              "      <th>A7</th>\n",
              "      <th>A10</th>\n",
              "      <th>A13</th>\n",
              "      <th>A14</th>\n",
              "    </tr>\n",
              "  </thead>\n",
              "  <tbody>\n",
              "    <tr>\n",
              "      <th>242</th>\n",
              "      <td>3.901973</td>\n",
              "      <td>2.026173</td>\n",
              "      <td>2.026173</td>\n",
              "      <td>2.708050</td>\n",
              "      <td>-inf</td>\n",
              "      <td>8.517393</td>\n",
              "    </tr>\n",
              "    <tr>\n",
              "      <th>18</th>\n",
              "      <td>2.995732</td>\n",
              "      <td>0.223144</td>\n",
              "      <td>-2.079442</td>\n",
              "      <td>-inf</td>\n",
              "      <td>4.941642</td>\n",
              "      <td>1.609438</td>\n",
              "    </tr>\n",
              "    <tr>\n",
              "      <th>490</th>\n",
              "      <td>3.317091</td>\n",
              "      <td>0.712950</td>\n",
              "      <td>0.693147</td>\n",
              "      <td>1.098612</td>\n",
              "      <td>5.913503</td>\n",
              "      <td>6.329721</td>\n",
              "    </tr>\n",
              "    <tr>\n",
              "      <th>475</th>\n",
              "      <td>3.160399</td>\n",
              "      <td>-0.776529</td>\n",
              "      <td>0.965081</td>\n",
              "      <td>1.791759</td>\n",
              "      <td>5.337538</td>\n",
              "      <td>5.852202</td>\n",
              "    </tr>\n",
              "    <tr>\n",
              "      <th>55</th>\n",
              "      <td>3.326115</td>\n",
              "      <td>0.405465</td>\n",
              "      <td>0.693147</td>\n",
              "      <td>2.397895</td>\n",
              "      <td>6.073045</td>\n",
              "      <td>3.583519</td>\n",
              "    </tr>\n",
              "    <tr>\n",
              "      <th>...</th>\n",
              "      <td>...</td>\n",
              "      <td>...</td>\n",
              "      <td>...</td>\n",
              "      <td>...</td>\n",
              "      <td>...</td>\n",
              "      <td>...</td>\n",
              "    </tr>\n",
              "    <tr>\n",
              "      <th>359</th>\n",
              "      <td>3.225653</td>\n",
              "      <td>1.098612</td>\n",
              "      <td>0.223144</td>\n",
              "      <td>0.000000</td>\n",
              "      <td>-inf</td>\n",
              "      <td>3.135494</td>\n",
              "    </tr>\n",
              "    <tr>\n",
              "      <th>192</th>\n",
              "      <td>3.352707</td>\n",
              "      <td>1.264127</td>\n",
              "      <td>-0.693147</td>\n",
              "      <td>-inf</td>\n",
              "      <td>5.141664</td>\n",
              "      <td>0.000000</td>\n",
              "    </tr>\n",
              "    <tr>\n",
              "      <th>629</th>\n",
              "      <td>3.208825</td>\n",
              "      <td>-0.616186</td>\n",
              "      <td>0.000000</td>\n",
              "      <td>-inf</td>\n",
              "      <td>4.787492</td>\n",
              "      <td>0.693147</td>\n",
              "    </tr>\n",
              "    <tr>\n",
              "      <th>559</th>\n",
              "      <td>3.864302</td>\n",
              "      <td>-1.237874</td>\n",
              "      <td>2.708050</td>\n",
              "      <td>2.995732</td>\n",
              "      <td>-inf</td>\n",
              "      <td>9.615872</td>\n",
              "    </tr>\n",
              "    <tr>\n",
              "      <th>684</th>\n",
              "      <td>3.761200</td>\n",
              "      <td>-1.237874</td>\n",
              "      <td>0.559616</td>\n",
              "      <td>2.079442</td>\n",
              "      <td>4.605170</td>\n",
              "      <td>5.929589</td>\n",
              "    </tr>\n",
              "  </tbody>\n",
              "</table>\n",
              "<p>586 rows × 6 columns</p>\n",
              "</div>\n",
              "      <button class=\"colab-df-convert\" onclick=\"convertToInteractive('df-9213f9e5-008e-4127-be39-788f7bee414e')\"\n",
              "              title=\"Convert this dataframe to an interactive table.\"\n",
              "              style=\"display:none;\">\n",
              "        \n",
              "  <svg xmlns=\"http://www.w3.org/2000/svg\" height=\"24px\"viewBox=\"0 0 24 24\"\n",
              "       width=\"24px\">\n",
              "    <path d=\"M0 0h24v24H0V0z\" fill=\"none\"/>\n",
              "    <path d=\"M18.56 5.44l.94 2.06.94-2.06 2.06-.94-2.06-.94-.94-2.06-.94 2.06-2.06.94zm-11 1L8.5 8.5l.94-2.06 2.06-.94-2.06-.94L8.5 2.5l-.94 2.06-2.06.94zm10 10l.94 2.06.94-2.06 2.06-.94-2.06-.94-.94-2.06-.94 2.06-2.06.94z\"/><path d=\"M17.41 7.96l-1.37-1.37c-.4-.4-.92-.59-1.43-.59-.52 0-1.04.2-1.43.59L10.3 9.45l-7.72 7.72c-.78.78-.78 2.05 0 2.83L4 21.41c.39.39.9.59 1.41.59.51 0 1.02-.2 1.41-.59l7.78-7.78 2.81-2.81c.8-.78.8-2.07 0-2.86zM5.41 20L4 18.59l7.72-7.72 1.47 1.35L5.41 20z\"/>\n",
              "  </svg>\n",
              "      </button>\n",
              "      \n",
              "  <style>\n",
              "    .colab-df-container {\n",
              "      display:flex;\n",
              "      flex-wrap:wrap;\n",
              "      gap: 12px;\n",
              "    }\n",
              "\n",
              "    .colab-df-convert {\n",
              "      background-color: #E8F0FE;\n",
              "      border: none;\n",
              "      border-radius: 50%;\n",
              "      cursor: pointer;\n",
              "      display: none;\n",
              "      fill: #1967D2;\n",
              "      height: 32px;\n",
              "      padding: 0 0 0 0;\n",
              "      width: 32px;\n",
              "    }\n",
              "\n",
              "    .colab-df-convert:hover {\n",
              "      background-color: #E2EBFA;\n",
              "      box-shadow: 0px 1px 2px rgba(60, 64, 67, 0.3), 0px 1px 3px 1px rgba(60, 64, 67, 0.15);\n",
              "      fill: #174EA6;\n",
              "    }\n",
              "\n",
              "    [theme=dark] .colab-df-convert {\n",
              "      background-color: #3B4455;\n",
              "      fill: #D2E3FC;\n",
              "    }\n",
              "\n",
              "    [theme=dark] .colab-df-convert:hover {\n",
              "      background-color: #434B5C;\n",
              "      box-shadow: 0px 1px 3px 1px rgba(0, 0, 0, 0.15);\n",
              "      filter: drop-shadow(0px 1px 2px rgba(0, 0, 0, 0.3));\n",
              "      fill: #FFFFFF;\n",
              "    }\n",
              "  </style>\n",
              "\n",
              "      <script>\n",
              "        const buttonEl =\n",
              "          document.querySelector('#df-9213f9e5-008e-4127-be39-788f7bee414e button.colab-df-convert');\n",
              "        buttonEl.style.display =\n",
              "          google.colab.kernel.accessAllowed ? 'block' : 'none';\n",
              "\n",
              "        async function convertToInteractive(key) {\n",
              "          const element = document.querySelector('#df-9213f9e5-008e-4127-be39-788f7bee414e');\n",
              "          const dataTable =\n",
              "            await google.colab.kernel.invokeFunction('convertToInteractive',\n",
              "                                                     [key], {});\n",
              "          if (!dataTable) return;\n",
              "\n",
              "          const docLinkHtml = 'Like what you see? Visit the ' +\n",
              "            '<a target=\"_blank\" href=https://colab.research.google.com/notebooks/data_table.ipynb>data table notebook</a>'\n",
              "            + ' to learn more about interactive tables.';\n",
              "          element.innerHTML = '';\n",
              "          dataTable['output_type'] = 'display_data';\n",
              "          await google.colab.output.renderOutput(dataTable, element);\n",
              "          const docLink = document.createElement('div');\n",
              "          docLink.innerHTML = docLinkHtml;\n",
              "          element.appendChild(docLink);\n",
              "        }\n",
              "      </script>\n",
              "    </div>\n",
              "  </div>\n",
              "  "
            ],
            "text/plain": [
              "           A2        A3        A7       A10       A13       A14\n",
              "242  3.901973  2.026173  2.026173  2.708050      -inf  8.517393\n",
              "18   2.995732  0.223144 -2.079442      -inf  4.941642  1.609438\n",
              "490  3.317091  0.712950  0.693147  1.098612  5.913503  6.329721\n",
              "475  3.160399 -0.776529  0.965081  1.791759  5.337538  5.852202\n",
              "55   3.326115  0.405465  0.693147  2.397895  6.073045  3.583519\n",
              "..        ...       ...       ...       ...       ...       ...\n",
              "359  3.225653  1.098612  0.223144  0.000000      -inf  3.135494\n",
              "192  3.352707  1.264127 -0.693147      -inf  5.141664  0.000000\n",
              "629  3.208825 -0.616186  0.000000      -inf  4.787492  0.693147\n",
              "559  3.864302 -1.237874  2.708050  2.995732      -inf  9.615872\n",
              "684  3.761200 -1.237874  0.559616  2.079442  4.605170  5.929589\n",
              "\n",
              "[586 rows x 6 columns]"
            ]
          },
          "execution_count": 10,
          "metadata": {},
          "output_type": "execute_result"
        }
      ],
      "source": [
        "np.log(X_train[numericas])"
      ]
    },
    {
      "cell_type": "code",
      "execution_count": null,
      "metadata": {
        "id": "ilOjDdGirVoI"
      },
      "outputs": [],
      "source": [
        "# mu = 0\n",
        "# variance = 1\n",
        "# sigma = math.sqrt(variance)\n",
        "# x = np.linspace(mu - 3*sigma, mu + 3*sigma, 100)\n",
        "# plt.plot(x, stats.norm.pdf(x, mu, sigma))\n",
        "# plt.show()\n",
        "# # https://stackoverflow.com/questions/10138085/how-to-plot-normal-distribution"
      ]
    },
    {
      "cell_type": "code",
      "execution_count": null,
      "metadata": {
        "id": "X2ugwlt8tifZ"
      },
      "outputs": [],
      "source": [
        "# Transf0.hist()"
      ]
    },
    {
      "cell_type": "code",
      "execution_count": null,
      "metadata": {
        "id": "-eIauHiPu9dR"
      },
      "outputs": [],
      "source": [
        "# X_train['A2'].value_counts(ascending=False)"
      ]
    },
    {
      "cell_type": "code",
      "execution_count": null,
      "metadata": {
        "colab": {
          "base_uri": "https://localhost:8080/",
          "height": 1000
        },
        "id": "SU1YhYl_XEEb",
        "outputId": "1826d64a-2591-4547-ce7e-dac7faabbed3"
      },
      "outputs": [
        {
          "data": {
            "image/png": "[encoded data removed]",
            "text/plain": [
              "<Figure size 1440x1296 with 24 Axes>"
            ]
          },
          "metadata": {},
          "output_type": "display_data"
        }
      ],
      "source": [
        "total_cuantitativas = len(numericas)\n",
        "sns.set(rc={'figure.figsize':(20,18)})\n",
        "fig, axes = plt.subplots(4, total_cuantitativas)    \n",
        "\n",
        "for i in range(0,total_cuantitativas):\n",
        "\n",
        "\n",
        "  # Datos originales ---------------------------------------------------------\n",
        "  plt.subplot(4,total_cuantitativas,i+1) \n",
        "  Transf0 = X_train[numericas[i]]\n",
        "  plt.hist(Transf0,bins=20)\n",
        "  # plt.plot(Transf0.index,Transf0 , 'k', linewidth=2)\n",
        "  plt.xlabel(numericas[i])\n",
        "  if i==0:\n",
        "    plt.ylabel('Originales')\n",
        "\n",
        "\n",
        "\n",
        "  # Datos transformados con raíz cuadrada ------------------------------------\n",
        "  plt.subplot(4,total_cuantitativas,i+7)    \n",
        "  Transf1 = np.sqrt(X_train[numericas[i]].to_numpy())\n",
        "  plt.hist(Transf1,bins=20)                     \n",
        "  plt.xlabel(numericas[i])\n",
        "  if i==0:\n",
        "    plt.ylabel('Raíz Cuadrada')\n",
        "\n",
        "\n",
        "    \n",
        "  # Datos transformados con logaritmo natural --------------------------------\n",
        "  plt.subplot(4,total_cuantitativas,i+13)     \n",
        "  Transf2 = StandardScaler().fit_transform(X_train[numericas[i]].to_numpy().reshape(-1, 1))\n",
        "  plt.hist(Transf2,bins=20)                    \n",
        "  plt.xlabel(numericas[i])\n",
        "  if i==0:\n",
        "    plt.ylabel('StandardScaler')\n",
        "\n",
        "\n",
        "\n",
        "  # Datos transformados con MinMax ---------------------------------\n",
        "  plt.subplot(4,total_cuantitativas,i+19)\n",
        "  minmax = MinMaxScaler(feature_range=(1,20))\n",
        "  minmax.fit(X_train[numericas[i]].to_numpy().reshape(-1, 1))\n",
        "  Transf3 = minmax.transform(X_train[numericas[i]].to_numpy().reshape(-1, 1))\n",
        "  plt.hist(Transf3,bins=20) \n",
        "  plt.xlabel(numericas[i])\n",
        "  if i==0:\n",
        "    plt.ylabel('MinMax')\n"
      ]
    },
    {
      "cell_type": "markdown",
      "metadata": {
        "id": "E5GajFzH93Zv"
      },
      "source": [
        "Podemos observar que al estar realizando nuestras tansformaciones nos percatamos que el proceso logarítmico nos arrojo errores y bueno al realizar una inspección al dataset, nos dimos cuenta que hay valores con \"0\" y sabemos que matemáticamente log 0 es infinito lo que nos impide realizar el procesamiento.Tras estar intentando resolver este inconveniente, buscamos varias alternativas y optamos por buscar la forma de obtener una mejor elección de procesamiento que nos permitiera identificar que nuestro procesamiento se encuentra centrado, Al estar realizando diversas gráficas logramos concluir que el procesamiento sería escasamente escalar ya que como sabemos estamos realizando el desarrollo de un modelo para poder resolver casos futuros y no únicamente la resolución de este problema."
      ]
    },
    {
      "cell_type": "code",
      "execution_count": null,
      "metadata": {
        "id": "JLNcRETNy4qg"
      },
      "outputs": [],
      "source": [
        "pipeline_numericas = Pipeline(steps = [('imputer', SimpleImputer()),\n",
        "                                        ('SQRT', FunctionTransformer(np.sqrt))])"
      ]
    },
    {
      "cell_type": "code",
      "execution_count": null,
      "metadata": {
        "colab": {
          "base_uri": "https://localhost:8080/",
          "height": 424
        },
        "id": "lch1PMba5SB3",
        "outputId": "bbbde98e-dba9-48ea-9a27-d3e8569667c0"
      },
      "outputs": [
        {
          "data": {
            "text/html": [
              "\n",
              "  <div id=\"df-8929d307-00ec-47f0-bc1e-0a37f0661d26\">\n",
              "    <div class=\"colab-df-container\">\n",
              "      <div>\n",
              "<style scoped>\n",
              "    .dataframe tbody tr th:only-of-type {\n",
              "        vertical-align: middle;\n",
              "    }\n",
              "\n",
              "    .dataframe tbody tr th {\n",
              "        vertical-align: top;\n",
              "    }\n",
              "\n",
              "    .dataframe thead th {\n",
              "        text-align: right;\n",
              "    }\n",
              "</style>\n",
              "<table border=\"1\" class=\"dataframe\">\n",
              "  <thead>\n",
              "    <tr style=\"text-align: right;\">\n",
              "      <th></th>\n",
              "      <th>0</th>\n",
              "      <th>1</th>\n",
              "      <th>2</th>\n",
              "      <th>3</th>\n",
              "      <th>4</th>\n",
              "      <th>5</th>\n",
              "      <th>6</th>\n",
              "      <th>7</th>\n",
              "      <th>8</th>\n",
              "      <th>9</th>\n",
              "      <th>...</th>\n",
              "      <th>32</th>\n",
              "      <th>33</th>\n",
              "      <th>34</th>\n",
              "      <th>35</th>\n",
              "      <th>36</th>\n",
              "      <th>37</th>\n",
              "      <th>38</th>\n",
              "      <th>39</th>\n",
              "      <th>40</th>\n",
              "      <th>41</th>\n",
              "    </tr>\n",
              "  </thead>\n",
              "  <tbody>\n",
              "    <tr>\n",
              "      <th>0</th>\n",
              "      <td>7.035624</td>\n",
              "      <td>2.754088</td>\n",
              "      <td>2.754088</td>\n",
              "      <td>3.872983</td>\n",
              "      <td>0.000000</td>\n",
              "      <td>70.717749</td>\n",
              "      <td>0.0</td>\n",
              "      <td>1.0</td>\n",
              "      <td>0.0</td>\n",
              "      <td>1.0</td>\n",
              "      <td>...</td>\n",
              "      <td>0.0</td>\n",
              "      <td>0.0</td>\n",
              "      <td>1.0</td>\n",
              "      <td>0.0</td>\n",
              "      <td>1.0</td>\n",
              "      <td>0.0</td>\n",
              "      <td>1.0</td>\n",
              "      <td>0.0</td>\n",
              "      <td>1.0</td>\n",
              "      <td>0.0</td>\n",
              "    </tr>\n",
              "    <tr>\n",
              "      <th>1</th>\n",
              "      <td>4.472136</td>\n",
              "      <td>1.118034</td>\n",
              "      <td>0.353553</td>\n",
              "      <td>0.000000</td>\n",
              "      <td>11.832160</td>\n",
              "      <td>2.236068</td>\n",
              "      <td>0.0</td>\n",
              "      <td>1.0</td>\n",
              "      <td>1.0</td>\n",
              "      <td>0.0</td>\n",
              "      <td>...</td>\n",
              "      <td>0.0</td>\n",
              "      <td>1.0</td>\n",
              "      <td>0.0</td>\n",
              "      <td>1.0</td>\n",
              "      <td>0.0</td>\n",
              "      <td>1.0</td>\n",
              "      <td>0.0</td>\n",
              "      <td>0.0</td>\n",
              "      <td>1.0</td>\n",
              "      <td>0.0</td>\n",
              "    </tr>\n",
              "    <tr>\n",
              "      <th>2</th>\n",
              "      <td>5.251666</td>\n",
              "      <td>1.428286</td>\n",
              "      <td>1.414214</td>\n",
              "      <td>1.732051</td>\n",
              "      <td>19.235384</td>\n",
              "      <td>23.685439</td>\n",
              "      <td>0.0</td>\n",
              "      <td>1.0</td>\n",
              "      <td>1.0</td>\n",
              "      <td>0.0</td>\n",
              "      <td>...</td>\n",
              "      <td>0.0</td>\n",
              "      <td>0.0</td>\n",
              "      <td>1.0</td>\n",
              "      <td>0.0</td>\n",
              "      <td>1.0</td>\n",
              "      <td>0.0</td>\n",
              "      <td>1.0</td>\n",
              "      <td>0.0</td>\n",
              "      <td>1.0</td>\n",
              "      <td>0.0</td>\n",
              "    </tr>\n",
              "    <tr>\n",
              "      <th>3</th>\n",
              "      <td>4.855924</td>\n",
              "      <td>0.678233</td>\n",
              "      <td>1.620185</td>\n",
              "      <td>2.449490</td>\n",
              "      <td>14.422205</td>\n",
              "      <td>18.654758</td>\n",
              "      <td>0.0</td>\n",
              "      <td>1.0</td>\n",
              "      <td>1.0</td>\n",
              "      <td>0.0</td>\n",
              "      <td>...</td>\n",
              "      <td>0.0</td>\n",
              "      <td>0.0</td>\n",
              "      <td>1.0</td>\n",
              "      <td>0.0</td>\n",
              "      <td>1.0</td>\n",
              "      <td>0.0</td>\n",
              "      <td>1.0</td>\n",
              "      <td>0.0</td>\n",
              "      <td>1.0</td>\n",
              "      <td>0.0</td>\n",
              "    </tr>\n",
              "    <tr>\n",
              "      <th>4</th>\n",
              "      <td>5.275415</td>\n",
              "      <td>1.224745</td>\n",
              "      <td>1.414214</td>\n",
              "      <td>3.316625</td>\n",
              "      <td>20.832667</td>\n",
              "      <td>6.000000</td>\n",
              "      <td>0.0</td>\n",
              "      <td>1.0</td>\n",
              "      <td>0.0</td>\n",
              "      <td>1.0</td>\n",
              "      <td>...</td>\n",
              "      <td>0.0</td>\n",
              "      <td>0.0</td>\n",
              "      <td>1.0</td>\n",
              "      <td>0.0</td>\n",
              "      <td>1.0</td>\n",
              "      <td>0.0</td>\n",
              "      <td>1.0</td>\n",
              "      <td>0.0</td>\n",
              "      <td>1.0</td>\n",
              "      <td>0.0</td>\n",
              "    </tr>\n",
              "    <tr>\n",
              "      <th>...</th>\n",
              "      <td>...</td>\n",
              "      <td>...</td>\n",
              "      <td>...</td>\n",
              "      <td>...</td>\n",
              "      <td>...</td>\n",
              "      <td>...</td>\n",
              "      <td>...</td>\n",
              "      <td>...</td>\n",
              "      <td>...</td>\n",
              "      <td>...</td>\n",
              "      <td>...</td>\n",
              "      <td>...</td>\n",
              "      <td>...</td>\n",
              "      <td>...</td>\n",
              "      <td>...</td>\n",
              "      <td>...</td>\n",
              "      <td>...</td>\n",
              "      <td>...</td>\n",
              "      <td>...</td>\n",
              "      <td>...</td>\n",
              "      <td>...</td>\n",
              "    </tr>\n",
              "    <tr>\n",
              "      <th>581</th>\n",
              "      <td>5.016971</td>\n",
              "      <td>1.732051</td>\n",
              "      <td>1.118034</td>\n",
              "      <td>1.000000</td>\n",
              "      <td>0.000000</td>\n",
              "      <td>4.795832</td>\n",
              "      <td>0.0</td>\n",
              "      <td>1.0</td>\n",
              "      <td>0.0</td>\n",
              "      <td>1.0</td>\n",
              "      <td>...</td>\n",
              "      <td>0.0</td>\n",
              "      <td>1.0</td>\n",
              "      <td>0.0</td>\n",
              "      <td>0.0</td>\n",
              "      <td>1.0</td>\n",
              "      <td>1.0</td>\n",
              "      <td>0.0</td>\n",
              "      <td>0.0</td>\n",
              "      <td>1.0</td>\n",
              "      <td>0.0</td>\n",
              "    </tr>\n",
              "    <tr>\n",
              "      <th>582</th>\n",
              "      <td>5.346027</td>\n",
              "      <td>1.881489</td>\n",
              "      <td>0.707107</td>\n",
              "      <td>0.000000</td>\n",
              "      <td>13.076697</td>\n",
              "      <td>1.000000</td>\n",
              "      <td>1.0</td>\n",
              "      <td>0.0</td>\n",
              "      <td>0.0</td>\n",
              "      <td>1.0</td>\n",
              "      <td>...</td>\n",
              "      <td>0.0</td>\n",
              "      <td>0.0</td>\n",
              "      <td>1.0</td>\n",
              "      <td>1.0</td>\n",
              "      <td>0.0</td>\n",
              "      <td>0.0</td>\n",
              "      <td>1.0</td>\n",
              "      <td>0.0</td>\n",
              "      <td>1.0</td>\n",
              "      <td>0.0</td>\n",
              "    </tr>\n",
              "    <tr>\n",
              "      <th>583</th>\n",
              "      <td>4.974937</td>\n",
              "      <td>0.734847</td>\n",
              "      <td>1.000000</td>\n",
              "      <td>0.000000</td>\n",
              "      <td>10.954451</td>\n",
              "      <td>1.414214</td>\n",
              "      <td>0.0</td>\n",
              "      <td>1.0</td>\n",
              "      <td>0.0</td>\n",
              "      <td>1.0</td>\n",
              "      <td>...</td>\n",
              "      <td>0.0</td>\n",
              "      <td>1.0</td>\n",
              "      <td>0.0</td>\n",
              "      <td>1.0</td>\n",
              "      <td>0.0</td>\n",
              "      <td>0.0</td>\n",
              "      <td>1.0</td>\n",
              "      <td>0.0</td>\n",
              "      <td>1.0</td>\n",
              "      <td>0.0</td>\n",
              "    </tr>\n",
              "    <tr>\n",
              "      <th>584</th>\n",
              "      <td>6.904346</td>\n",
              "      <td>0.538516</td>\n",
              "      <td>3.872983</td>\n",
              "      <td>4.472136</td>\n",
              "      <td>0.000000</td>\n",
              "      <td>122.478570</td>\n",
              "      <td>0.0</td>\n",
              "      <td>1.0</td>\n",
              "      <td>0.0</td>\n",
              "      <td>1.0</td>\n",
              "      <td>...</td>\n",
              "      <td>0.0</td>\n",
              "      <td>0.0</td>\n",
              "      <td>1.0</td>\n",
              "      <td>0.0</td>\n",
              "      <td>1.0</td>\n",
              "      <td>1.0</td>\n",
              "      <td>0.0</td>\n",
              "      <td>0.0</td>\n",
              "      <td>1.0</td>\n",
              "      <td>0.0</td>\n",
              "    </tr>\n",
              "    <tr>\n",
              "      <th>585</th>\n",
              "      <td>6.557439</td>\n",
              "      <td>0.538516</td>\n",
              "      <td>1.322876</td>\n",
              "      <td>2.828427</td>\n",
              "      <td>10.000000</td>\n",
              "      <td>19.390719</td>\n",
              "      <td>0.0</td>\n",
              "      <td>1.0</td>\n",
              "      <td>1.0</td>\n",
              "      <td>0.0</td>\n",
              "      <td>...</td>\n",
              "      <td>0.0</td>\n",
              "      <td>0.0</td>\n",
              "      <td>1.0</td>\n",
              "      <td>0.0</td>\n",
              "      <td>1.0</td>\n",
              "      <td>1.0</td>\n",
              "      <td>0.0</td>\n",
              "      <td>0.0</td>\n",
              "      <td>1.0</td>\n",
              "      <td>0.0</td>\n",
              "    </tr>\n",
              "  </tbody>\n",
              "</table>\n",
              "<p>586 rows × 42 columns</p>\n",
              "</div>\n",
              "      <button class=\"colab-df-convert\" onclick=\"convertToInteractive('df-8929d307-00ec-47f0-bc1e-0a37f0661d26')\"\n",
              "              title=\"Convert this dataframe to an interactive table.\"\n",
              "              style=\"display:none;\">\n",
              "        \n",
              "  <svg xmlns=\"http://www.w3.org/2000/svg\" height=\"24px\"viewBox=\"0 0 24 24\"\n",
              "       width=\"24px\">\n",
              "    <path d=\"M0 0h24v24H0V0z\" fill=\"none\"/>\n",
              "    <path d=\"M18.56 5.44l.94 2.06.94-2.06 2.06-.94-2.06-.94-.94-2.06-.94 2.06-2.06.94zm-11 1L8.5 8.5l.94-2.06 2.06-.94-2.06-.94L8.5 2.5l-.94 2.06-2.06.94zm10 10l.94 2.06.94-2.06 2.06-.94-2.06-.94-.94-2.06-.94 2.06-2.06.94z\"/><path d=\"M17.41 7.96l-1.37-1.37c-.4-.4-.92-.59-1.43-.59-.52 0-1.04.2-1.43.59L10.3 9.45l-7.72 7.72c-.78.78-.78 2.05 0 2.83L4 21.41c.39.39.9.59 1.41.59.51 0 1.02-.2 1.41-.59l7.78-7.78 2.81-2.81c.8-.78.8-2.07 0-2.86zM5.41 20L4 18.59l7.72-7.72 1.47 1.35L5.41 20z\"/>\n",
              "  </svg>\n",
              "      </button>\n",
              "      \n",
              "  <style>\n",
              "    .colab-df-container {\n",
              "      display:flex;\n",
              "      flex-wrap:wrap;\n",
              "      gap: 12px;\n",
              "    }\n",
              "\n",
              "    .colab-df-convert {\n",
              "      background-color: #E8F0FE;\n",
              "      border: none;\n",
              "      border-radius: 50%;\n",
              "      cursor: pointer;\n",
              "      display: none;\n",
              "      fill: #1967D2;\n",
              "      height: 32px;\n",
              "      padding: 0 0 0 0;\n",
              "      width: 32px;\n",
              "    }\n",
              "\n",
              "    .colab-df-convert:hover {\n",
              "      background-color: #E2EBFA;\n",
              "      box-shadow: 0px 1px 2px rgba(60, 64, 67, 0.3), 0px 1px 3px 1px rgba(60, 64, 67, 0.15);\n",
              "      fill: #174EA6;\n",
              "    }\n",
              "\n",
              "    [theme=dark] .colab-df-convert {\n",
              "      background-color: #3B4455;\n",
              "      fill: #D2E3FC;\n",
              "    }\n",
              "\n",
              "    [theme=dark] .colab-df-convert:hover {\n",
              "      background-color: #434B5C;\n",
              "      box-shadow: 0px 1px 3px 1px rgba(0, 0, 0, 0.15);\n",
              "      filter: drop-shadow(0px 1px 2px rgba(0, 0, 0, 0.3));\n",
              "      fill: #FFFFFF;\n",
              "    }\n",
              "  </style>\n",
              "\n",
              "      <script>\n",
              "        const buttonEl =\n",
              "          document.querySelector('#df-8929d307-00ec-47f0-bc1e-0a37f0661d26 button.colab-df-convert');\n",
              "        buttonEl.style.display =\n",
              "          google.colab.kernel.accessAllowed ? 'block' : 'none';\n",
              "\n",
              "        async function convertToInteractive(key) {\n",
              "          const element = document.querySelector('#df-8929d307-00ec-47f0-bc1e-0a37f0661d26');\n",
              "          const dataTable =\n",
              "            await google.colab.kernel.invokeFunction('convertToInteractive',\n",
              "                                                     [key], {});\n",
              "          if (!dataTable) return;\n",
              "\n",
              "          const docLinkHtml = 'Like what you see? Visit the ' +\n",
              "            '<a target=\"_blank\" href=https://colab.research.google.com/notebooks/data_table.ipynb>data table notebook</a>'\n",
              "            + ' to learn more about interactive tables.';\n",
              "          element.innerHTML = '';\n",
              "          dataTable['output_type'] = 'display_data';\n",
              "          await google.colab.output.renderOutput(dataTable, element);\n",
              "          const docLink = document.createElement('div');\n",
              "          docLink.innerHTML = docLinkHtml;\n",
              "          element.appendChild(docLink);\n",
              "        }\n",
              "      </script>\n",
              "    </div>\n",
              "  </div>\n",
              "  "
            ],
            "text/plain": [
              "           0         1         2         3          4           5    6    7   \\\n",
              "0    7.035624  2.754088  2.754088  3.872983   0.000000   70.717749  0.0  1.0   \n",
              "1    4.472136  1.118034  0.353553  0.000000  11.832160    2.236068  0.0  1.0   \n",
              "2    5.251666  1.428286  1.414214  1.732051  19.235384   23.685439  0.0  1.0   \n",
              "3    4.855924  0.678233  1.620185  2.449490  14.422205   18.654758  0.0  1.0   \n",
              "4    5.275415  1.224745  1.414214  3.316625  20.832667    6.000000  0.0  1.0   \n",
              "..        ...       ...       ...       ...        ...         ...  ...  ...   \n",
              "581  5.016971  1.732051  1.118034  1.000000   0.000000    4.795832  0.0  1.0   \n",
              "582  5.346027  1.881489  0.707107  0.000000  13.076697    1.000000  1.0  0.0   \n",
              "583  4.974937  0.734847  1.000000  0.000000  10.954451    1.414214  0.0  1.0   \n",
              "584  6.904346  0.538516  3.872983  4.472136   0.000000  122.478570  0.0  1.0   \n",
              "585  6.557439  0.538516  1.322876  2.828427  10.000000   19.390719  0.0  1.0   \n",
              "\n",
              "      8    9   ...   32   33   34   35   36   37   38   39   40   41  \n",
              "0    0.0  1.0  ...  0.0  0.0  1.0  0.0  1.0  0.0  1.0  0.0  1.0  0.0  \n",
              "1    1.0  0.0  ...  0.0  1.0  0.0  1.0  0.0  1.0  0.0  0.0  1.0  0.0  \n",
              "2    1.0  0.0  ...  0.0  0.0  1.0  0.0  1.0  0.0  1.0  0.0  1.0  0.0  \n",
              "3    1.0  0.0  ...  0.0  0.0  1.0  0.0  1.0  0.0  1.0  0.0  1.0  0.0  \n",
              "4    0.0  1.0  ...  0.0  0.0  1.0  0.0  1.0  0.0  1.0  0.0  1.0  0.0  \n",
              "..   ...  ...  ...  ...  ...  ...  ...  ...  ...  ...  ...  ...  ...  \n",
              "581  0.0  1.0  ...  0.0  1.0  0.0  0.0  1.0  1.0  0.0  0.0  1.0  0.0  \n",
              "582  0.0  1.0  ...  0.0  0.0  1.0  1.0  0.0  0.0  1.0  0.0  1.0  0.0  \n",
              "583  0.0  1.0  ...  0.0  1.0  0.0  1.0  0.0  0.0  1.0  0.0  1.0  0.0  \n",
              "584  0.0  1.0  ...  0.0  0.0  1.0  0.0  1.0  1.0  0.0  0.0  1.0  0.0  \n",
              "585  1.0  0.0  ...  0.0  0.0  1.0  0.0  1.0  1.0  0.0  0.0  1.0  0.0  \n",
              "\n",
              "[586 rows x 42 columns]"
            ]
          },
          "execution_count": 14,
          "metadata": {},
          "output_type": "execute_result"
        }
      ],
      "source": [
        "OneHotEncoder,\n",
        "pipeline_categorica = Pipeline(steps = [('imputer_cat', SimpleImputer()),\n",
        "                                        ('encoder', OneHotEncoder(handle_unknown='ignore'))])\n",
        "\n",
        "transformer = ColumnTransformer(transformers=[\n",
        "    ('numericas', pipeline_numericas, numericas),\n",
        "    ('category', pipeline_categorica, categoricas),\n",
        "   ],\n",
        "    remainder='passthrough')\n",
        "## EJEMPLO DE COMO LO TRANSFORMA\n",
        "datosTransformados = transformer.fit_transform(X_train)\n",
        "pd.DataFrame(datosTransformados)"
      ]
    },
    {
      "cell_type": "markdown",
      "metadata": {
        "id": "OrShMv-B803D"
      },
      "source": [
        "***A pesar de que nuestra fuente cita datos faltantes, realizamos diversos muestreos y búsquedas de campos faltantes, al no poder identificar dichos campos faltantes, procedimos a continuar con los procedimientos previamente definidos***\n",
        "\n"
      ]
    },
    {
      "cell_type": "markdown",
      "metadata": {
        "id": "vXG_W2gXy6X0"
      },
      "source": [
        "### **3.  Utiliza la función Dummy para modelos de clasificación con la estrategia “stratified” con el conjunto que tienes de datos de entrenamiento y validación.** \n",
        "Obtener los valores de partida (baseline) de las siguientes métricas: accuracy, f1-score, precision y recall. ¿Por qué consideras que es adecuado usar la estrategia “stratified” en este caso?"
      ]
    },
    {
      "cell_type": "code",
      "execution_count": null,
      "metadata": {
        "id": "ee0X47YMzLaH"
      },
      "outputs": [],
      "source": [
        "X_train_Dummy, X_val_Dummy, y_train_Dummy, y_val_Dummy = train_test_split(X_train, y_train, train_size= 0.85, random_state=random_state_v) # aqui estamos restructurando nuevamente nuestros datos "
      ]
    },
    {
      "cell_type": "code",
      "execution_count": null,
      "metadata": {
        "colab": {
          "base_uri": "https://localhost:8080/"
        },
        "id": "KCw13JEazXTk",
        "outputId": "75961cb9-c4e1-4459-9eda-4692c4f9ff72"
      },
      "outputs": [
        {
          "data": {
            "text/plain": [
              "(498, 14)"
            ]
          },
          "execution_count": 16,
          "metadata": {},
          "output_type": "execute_result"
        }
      ],
      "source": [
        "X_train_Dummy.shape"
      ]
    },
    {
      "cell_type": "code",
      "execution_count": null,
      "metadata": {
        "colab": {
          "base_uri": "https://localhost:8080/"
        },
        "id": "B_S443_MAKV1",
        "outputId": "3e9462de-01f6-41f5-c94e-e80a182fbc0b"
      },
      "outputs": [
        {
          "data": {
            "text/plain": [
              "(88, 14)"
            ]
          },
          "execution_count": 17,
          "metadata": {},
          "output_type": "execute_result"
        }
      ],
      "source": [
        "X_val_Dummy.shape"
      ]
    },
    {
      "cell_type": "code",
      "execution_count": null,
      "metadata": {
        "id": "VKPo6OGJHkzD"
      },
      "outputs": [],
      "source": [
        "def print_evaluation(y_true, y_pred):\n",
        "    results_dict = {'accuracy': accuracy_score(y_true, y_pred),\n",
        "                    'recall': recall_score(y_true, y_pred),\n",
        "                    'precision': precision_score(y_true, y_pred),\n",
        "                    'f1_score': f1_score(y_true, y_pred)}\n",
        "    return results_dict"
      ]
    },
    {
      "cell_type": "code",
      "execution_count": null,
      "metadata": {
        "id": "CEjPZ5zqAcxF"
      },
      "outputs": [],
      "source": [
        "FuncDummy = DummyClassifier(strategy='stratified',)\n",
        "pipeline = Pipeline(steps=[('ct',transformer),  ('m',FuncDummy)]) # conformando el pipeline para su ejecución con los parametros\n",
        "\n",
        "# Construimos el modelo con las transformaciones de la\n",
        "# variable de entrada y la variable de salida:\n",
        "modelo = TransformedTargetRegressor(regressor=pipeline)"
      ]
    },
    {
      "cell_type": "code",
      "execution_count": null,
      "metadata": {
        "colab": {
          "base_uri": "https://localhost:8080/"
        },
        "id": "agOLFEUuElit",
        "outputId": "cf64a317-21c9-479c-8664-ba362196d795"
      },
      "outputs": [
        {
          "data": {
            "text/plain": [
              "{'accuracy': 0.5,\n",
              " 'recall': 0.42792792792792794,\n",
              " 'precision': 0.4377880184331797,\n",
              " 'f1_score': 0.4328018223234624}"
            ]
          },
          "execution_count": 20,
          "metadata": {},
          "output_type": "execute_result"
        }
      ],
      "source": [
        "# Entrenamos el modelo: Este proceso puede tardar un poco en ejecutarse \n",
        "# debido a que se están realizando muchas transformaciones.\n",
        "modelo.fit(X_train_Dummy, y_train_Dummy)   # ajustando el modelo con los datos de entrenamiento\n",
        "\n",
        "# Generemos nuestras propia lista de resultados para nuestras propias curvas de aprendizaje:\n",
        "\n",
        "train_yhat = modelo.predict(X_train_Dummy) # predicciones de \"y\" para el conjunto de entrenamiento\n",
        "print_evaluation(y_train_Dummy, train_yhat)        # calculamos el RMSE para el conjunto de entrenamiento"
      ]
    },
    {
      "cell_type": "markdown",
      "source": [
        "Tras estar realizando los ejercicio logramos obtener un 50% de precisión, mostrando que tan centrado puede estar nuestro proceso, tenemos una precisión del 43% y un recall (o sensibilidad) del 42%, esto nos arrojaría un F1 Score de 43% el cual está por debajo de la media (abajo del .5) lo que nos indica que el comportamiento podría no estar siendo el deseado."
      ],
      "metadata": {
        "id": "-NGGVDDDpZIL"
      }
    },
    {
      "cell_type": "markdown",
      "metadata": {
        "id": "IzT9a6qWzONB"
      },
      "source": [
        "### **4.  Usando el modelo de máquina de vector soporte (SVM) encuentra sus mejores hiperparámetros  con una búsqueda de malla y validación cruzada, desplegando los errores indicados en el ejercicio anterior.**"
      ]
    },
    {
      "cell_type": "code",
      "execution_count": null,
      "metadata": {
        "id": "eiE0GhNQJ9bm"
      },
      "outputs": [],
      "source": [
        "scores ={\n",
        "                  \"accuracy\": make_scorer(accuracy_score),\n",
        "                  \"precision\": make_scorer(precision_score),\n",
        "                  \"recall\": make_scorer(recall_score),\n",
        "                  \"f1score\": make_scorer(f1_score)\n",
        "                }"
      ]
    },
    {
      "cell_type": "code",
      "execution_count": null,
      "metadata": {
        "id": "5RzHG5_GAIMd"
      },
      "outputs": [],
      "source": [
        "def mi_grid_search(modelo ,X, y, parametros,score):\n",
        "  pipeline = Pipeline(steps=[('preprocess', transformer),('model', modelo)])\n",
        "  KFold = RepeatedKFold(n_splits=2, n_repeats=1, random_state=random_state_v)\n",
        "  #Preguntar de dónde tomo los parámetros\n",
        "\n",
        "  mi_grid = GridSearchCV(modelo,\n",
        "                      param_grid=parametros,\n",
        "                      scoring=score,\n",
        "                      cv=KFold                    \n",
        "                      )\n",
        "  mi_grid.fit(X, y)\n",
        "  \n",
        "  print('Mejor valor de exactitud obtenido con la mejor combinación:', mi_grid.best_score_)\n",
        "  print('Mejor combinación de valores encontrados de los hiperparámetros:', mi_grid.best_params_)\n",
        "  print('Métrica utilizada:', mi_grid.scoring)\n",
        "  return mi_grid.best_params_, mi_grid.scoring"
      ]
    },
    {
      "cell_type": "code",
      "execution_count": null,
      "metadata": {
        "id": "CnXbGAdp8y5X"
      },
      "outputs": [],
      "source": [
        "param_grid={'C': [0.01, 0.1,1,10,100], 'kernel':['linear','rbf','sigma']}"
      ]
    },
    {
      "cell_type": "code",
      "execution_count": null,
      "metadata": {
        "id": "nZ0A-nuz6-YW"
      },
      "outputs": [],
      "source": [
        "resultados = list()"
      ]
    },
    {
      "cell_type": "code",
      "execution_count": null,
      "metadata": {
        "colab": {
          "background_save": true,
          "base_uri": "https://localhost:8080/"
        },
        "id": "mKR130Wz1w88",
        "outputId": "6ac1d62e-90f1-4f82-fc10-27535a354f4b"
      },
      "outputs": [
        {
          "name": "stderr",
          "output_type": "stream",
          "text": [
            "/usr/local/lib/python3.7/dist-packages/sklearn/model_selection/_validation.py:372: FitFailedWarning: \n",
            "10 fits failed out of a total of 30.\n",
            "The score on these train-test partitions for these parameters will be set to nan.\n",
            "If these failures are not expected, you can try to debug them by setting error_score='raise'.\n",
            "\n",
            "Below are more details about the failures:\n",
            "--------------------------------------------------------------------------------\n",
            "10 fits failed with the following error:\n",
            "Traceback (most recent call last):\n",
            "  File \"/usr/local/lib/python3.7/dist-packages/sklearn/model_selection/_validation.py\", line 680, in _fit_and_score\n",
            "    estimator.fit(X_train, y_train, **fit_params)\n",
            "  File \"/usr/local/lib/python3.7/dist-packages/sklearn/svm/_base.py\", line 255, in fit\n",
            "    fit(X, y, sample_weight, solver_type, kernel, random_seed=seed)\n",
            "  File \"/usr/local/lib/python3.7/dist-packages/sklearn/svm/_base.py\", line 333, in _dense_fit\n",
            "    random_seed=random_seed,\n",
            "  File \"sklearn/svm/_libsvm.pyx\", line 173, in sklearn.svm._libsvm.fit\n",
            "ValueError: 'sigma' is not in list\n",
            "\n",
            "  warnings.warn(some_fits_failed_message, FitFailedWarning)\n",
            "/usr/local/lib/python3.7/dist-packages/sklearn/model_selection/_search.py:972: UserWarning: One or more of the test scores are non-finite: [0.80887372 0.55460751        nan 0.85836177 0.60068259        nan\n",
            " 0.86518771 0.63993174        nan 0.83788396 0.66723549        nan\n",
            " 0.82081911 0.67918089        nan]\n",
            "  category=UserWarning,\n"
          ]
        },
        {
          "name": "stdout",
          "output_type": "stream",
          "text": [
            "Mejor valor de exactitud obtenido con la mejor combinación: 0.8651877133105802\n",
            "Mejor combinación de valores encontrados de los hiperparámetros: {'C': 1, 'kernel': 'linear'}\n",
            "Métrica utilizada: make_scorer(accuracy_score)\n"
          ]
        },
        {
          "name": "stderr",
          "output_type": "stream",
          "text": [
            "/usr/local/lib/python3.7/dist-packages/sklearn/metrics/_classification.py:1318: UndefinedMetricWarning: Precision is ill-defined and being set to 0.0 due to no predicted samples. Use `zero_division` parameter to control this behavior.\n",
            "  _warn_prf(average, modifier, msg_start, len(result))\n",
            "/usr/local/lib/python3.7/dist-packages/sklearn/metrics/_classification.py:1318: UndefinedMetricWarning: Precision is ill-defined and being set to 0.0 due to no predicted samples. Use `zero_division` parameter to control this behavior.\n",
            "  _warn_prf(average, modifier, msg_start, len(result))\n",
            "/usr/local/lib/python3.7/dist-packages/sklearn/model_selection/_validation.py:372: FitFailedWarning: \n",
            "10 fits failed out of a total of 30.\n",
            "The score on these train-test partitions for these parameters will be set to nan.\n",
            "If these failures are not expected, you can try to debug them by setting error_score='raise'.\n",
            "\n",
            "Below are more details about the failures:\n",
            "--------------------------------------------------------------------------------\n",
            "10 fits failed with the following error:\n",
            "Traceback (most recent call last):\n",
            "  File \"/usr/local/lib/python3.7/dist-packages/sklearn/model_selection/_validation.py\", line 680, in _fit_and_score\n",
            "    estimator.fit(X_train, y_train, **fit_params)\n",
            "  File \"/usr/local/lib/python3.7/dist-packages/sklearn/svm/_base.py\", line 255, in fit\n",
            "    fit(X, y, sample_weight, solver_type, kernel, random_seed=seed)\n",
            "  File \"/usr/local/lib/python3.7/dist-packages/sklearn/svm/_base.py\", line 333, in _dense_fit\n",
            "    random_seed=random_seed,\n",
            "  File \"sklearn/svm/_libsvm.pyx\", line 173, in sklearn.svm._libsvm.fit\n",
            "ValueError: 'sigma' is not in list\n",
            "\n",
            "  warnings.warn(some_fits_failed_message, FitFailedWarning)\n",
            "/usr/local/lib/python3.7/dist-packages/sklearn/model_selection/_search.py:972: UserWarning: One or more of the test scores are non-finite: [0.84354291 0.                nan 0.82576202 0.78703704        nan\n",
            " 0.81479183 0.78684345        nan 0.8098262  0.78337104        nan\n",
            " 0.79144147 0.77551922        nan]\n",
            "  category=UserWarning,\n"
          ]
        },
        {
          "name": "stdout",
          "output_type": "stream",
          "text": [
            "Mejor valor de exactitud obtenido con la mejor combinación: 0.8435429056924384\n",
            "Mejor combinación de valores encontrados de los hiperparámetros: {'C': 0.01, 'kernel': 'linear'}\n",
            "Métrica utilizada: make_scorer(precision_score)\n"
          ]
        },
        {
          "name": "stderr",
          "output_type": "stream",
          "text": [
            "/usr/local/lib/python3.7/dist-packages/sklearn/model_selection/_validation.py:372: FitFailedWarning: \n",
            "10 fits failed out of a total of 30.\n",
            "The score on these train-test partitions for these parameters will be set to nan.\n",
            "If these failures are not expected, you can try to debug them by setting error_score='raise'.\n",
            "\n",
            "Below are more details about the failures:\n",
            "--------------------------------------------------------------------------------\n",
            "10 fits failed with the following error:\n",
            "Traceback (most recent call last):\n",
            "  File \"/usr/local/lib/python3.7/dist-packages/sklearn/model_selection/_validation.py\", line 680, in _fit_and_score\n",
            "    estimator.fit(X_train, y_train, **fit_params)\n",
            "  File \"/usr/local/lib/python3.7/dist-packages/sklearn/svm/_base.py\", line 255, in fit\n",
            "    fit(X, y, sample_weight, solver_type, kernel, random_seed=seed)\n",
            "  File \"/usr/local/lib/python3.7/dist-packages/sklearn/svm/_base.py\", line 333, in _dense_fit\n",
            "    random_seed=random_seed,\n",
            "  File \"sklearn/svm/_libsvm.pyx\", line 173, in sklearn.svm._libsvm.fit\n",
            "ValueError: 'sigma' is not in list\n",
            "\n",
            "  warnings.warn(some_fits_failed_message, FitFailedWarning)\n",
            "/usr/local/lib/python3.7/dist-packages/sklearn/model_selection/_search.py:972: UserWarning: One or more of the test scores are non-finite: [0.70255882 0.                nan 0.86808824 0.13979412        nan\n",
            " 0.90420588 0.26997059        nan 0.83305882 0.35776471        nan\n",
            " 0.81370588 0.39917647        nan]\n",
            "  category=UserWarning,\n"
          ]
        },
        {
          "name": "stdout",
          "output_type": "stream",
          "text": [
            "Mejor valor de exactitud obtenido con la mejor combinación: 0.9042058823529412\n",
            "Mejor combinación de valores encontrados de los hiperparámetros: {'C': 1, 'kernel': 'linear'}\n",
            "Métrica utilizada: make_scorer(recall_score)\n"
          ]
        },
        {
          "name": "stderr",
          "output_type": "stream",
          "text": [
            "/usr/local/lib/python3.7/dist-packages/sklearn/model_selection/_validation.py:372: FitFailedWarning: \n",
            "10 fits failed out of a total of 30.\n",
            "The score on these train-test partitions for these parameters will be set to nan.\n",
            "If these failures are not expected, you can try to debug them by setting error_score='raise'.\n",
            "\n",
            "Below are more details about the failures:\n",
            "--------------------------------------------------------------------------------\n",
            "10 fits failed with the following error:\n",
            "Traceback (most recent call last):\n",
            "  File \"/usr/local/lib/python3.7/dist-packages/sklearn/model_selection/_validation.py\", line 680, in _fit_and_score\n",
            "    estimator.fit(X_train, y_train, **fit_params)\n",
            "  File \"/usr/local/lib/python3.7/dist-packages/sklearn/svm/_base.py\", line 255, in fit\n",
            "    fit(X, y, sample_weight, solver_type, kernel, random_seed=seed)\n",
            "  File \"/usr/local/lib/python3.7/dist-packages/sklearn/svm/_base.py\", line 333, in _dense_fit\n",
            "    random_seed=random_seed,\n",
            "  File \"sklearn/svm/_libsvm.pyx\", line 173, in sklearn.svm._libsvm.fit\n",
            "ValueError: 'sigma' is not in list\n",
            "\n",
            "  warnings.warn(some_fits_failed_message, FitFailedWarning)\n",
            "/usr/local/lib/python3.7/dist-packages/sklearn/model_selection/_search.py:972: UserWarning: One or more of the test scores are non-finite: [0.76647042 0.                nan 0.84483481 0.23573137        nan\n",
            " 0.85708812 0.39829188        nan 0.8206096  0.48792856        nan\n",
            " 0.80234089 0.52525253        nan]\n",
            "  category=UserWarning,\n"
          ]
        },
        {
          "name": "stdout",
          "output_type": "stream",
          "text": [
            "Mejor valor de exactitud obtenido con la mejor combinación: 0.8570881226053639\n",
            "Mejor combinación de valores encontrados de los hiperparámetros: {'C': 1, 'kernel': 'linear'}\n",
            "Métrica utilizada: make_scorer(f1_score)\n"
          ]
        }
      ],
      "source": [
        "for name,score in scores.items():\n",
        "  best_params, resultado = mi_grid_search(SVC(random_state=random_state_v),X_train,y_train,param_grid,score)\n",
        "  resultados.append({name:{'best_params':best_params,'resultado':resultado}})"
      ]
    },
    {
      "cell_type": "code",
      "execution_count": null,
      "metadata": {
        "colab": {
          "background_save": true
        },
        "id": "9Nn2krHcoZCq",
        "outputId": "1cbbb6d6-cec4-4603-bd71-6259f8c20f35"
      },
      "outputs": [
        {
          "data": {
            "text/plain": [
              "[{'accuracy': {'best_params': {'C': 1, 'kernel': 'linear'},\n",
              "   'resultado': make_scorer(accuracy_score)}},\n",
              " {'precision': {'best_params': {'C': 0.01, 'kernel': 'linear'},\n",
              "   'resultado': make_scorer(precision_score)}},\n",
              " {'recall': {'best_params': {'C': 1, 'kernel': 'linear'},\n",
              "   'resultado': make_scorer(recall_score)}},\n",
              " {'f1score': {'best_params': {'C': 1, 'kernel': 'linear'},\n",
              "   'resultado': make_scorer(f1_score)}}]"
            ]
          },
          "execution_count": 36,
          "metadata": {},
          "output_type": "execute_result"
        }
      ],
      "source": [
        "resultados"
      ]
    },
    {
      "cell_type": "markdown",
      "metadata": {
        "id": "gRsdtIrcnDmP"
      },
      "source": [
        "![Resultado](https://imgur.com/Gfivd1g.png)"
      ]
    },
    {
      "cell_type": "markdown",
      "source": [
        "Podemos observar que los valores utilizando los hiper parámetros identificados con Grid Search, el cual realiza un análisis para poder determinar cuáles especificaciones o parámetros estarían realizando mejor comportamiento, nos logró subir de un 50% a 85%, esto nos demuestra que el comportamiento es significativamente mayor al realizado con la estratificación únicamente.\n",
        "Este ejercicio nos permite visualizar cómo es que SVM realiza un proceso de clasificación mucho más eficiente lo que por consecuencia nos lleva a un mejor modelado para nuestro objetivo.\n",
        "El tener mejores métricas nos ayuda para poder comprender de una sola vuelta como es que nuestros datos se van comportando con respecto al modelo y el proceso de confirmación con la graficación como las Boxplot nos permitiría corroborar esta información.\n"
      ],
      "metadata": {
        "id": "9x_bTdBUpgF5"
      }
    },
    {
      "cell_type": "markdown",
      "metadata": {
        "id": "Z-pO3TMvzYA5"
      },
      "source": [
        "### **5.  Obtener además los diagramas de caja y bigote del mejor modelo con todas las métricas calculadas. Incluye tus conclusiones.**"
      ]
    },
    {
      "cell_type": "code",
      "execution_count": null,
      "metadata": {
        "colab": {
          "background_save": true
        },
        "id": "vLtMDU0_je1K",
        "outputId": "4f58b1ef-f6a9-4d5e-d3e7-8331540b9cd4"
      },
      "outputs": [
        {
          "data": {
            "text/plain": [
              "A1       int64\n",
              "A2     float64\n",
              "A3     float64\n",
              "A4       int64\n",
              "A5       int64\n",
              "A6       int64\n",
              "A7     float64\n",
              "A8       int64\n",
              "A9       int64\n",
              "A10      int64\n",
              "A11      int64\n",
              "A12      int64\n",
              "A13      int64\n",
              "A14      int64\n",
              "dtype: object"
            ]
          },
          "execution_count": 37,
          "metadata": {},
          "output_type": "execute_result"
        }
      ],
      "source": [
        "X_train.dtypes"
      ]
    },
    {
      "cell_type": "code",
      "execution_count": null,
      "metadata": {
        "colab": {
          "background_save": true
        },
        "id": "PG-RqlsDcbqm"
      },
      "outputs": [],
      "source": [
        "modelo = SVC(kernel='linear',C=1,random_state=random_state_v)"
      ]
    },
    {
      "cell_type": "code",
      "execution_count": null,
      "metadata": {
        "colab": {
          "background_save": true
        },
        "id": "57IaSTKpTr8A",
        "outputId": "2e3dc012-13bd-4738-be9d-d923ec979f13"
      },
      "outputs": [
        {
          "data": {
            "text/plain": [
              "0    325\n",
              "1    261\n",
              "Name: A15, dtype: int64"
            ]
          },
          "execution_count": 39,
          "metadata": {},
          "output_type": "execute_result"
        }
      ],
      "source": [
        "y_train.value_counts()"
      ]
    },
    {
      "cell_type": "code",
      "execution_count": null,
      "metadata": {
        "colab": {
          "background_save": true
        },
        "id": "cuJwzeAyzgoK"
      },
      "outputs": [],
      "source": [
        "pipelineModelo = Pipeline(steps=[('preprocess', transformer),('model', modelo)])\n",
        "result_cv = cross_validate(pipelineModelo, X_train, y_train,scoring=scores, cv=5,n_jobs=-1,error_score=\"raise\")"
      ]
    },
    {
      "cell_type": "code",
      "execution_count": null,
      "metadata": {
        "colab": {
          "background_save": true
        },
        "id": "Q5-F4t7Th6F4",
        "outputId": "6537a3f2-a500-4954-bbd2-1cd0410392cf"
      },
      "outputs": [
        {
          "data": {
            "text/plain": [
              "{'fit_time': array([0.08568978, 0.62494755, 0.12786174, 0.07719588, 0.08627319]),\n",
              " 'score_time': array([0.01445341, 0.01035738, 0.01475048, 0.01435661, 0.01412678]),\n",
              " 'test_accuracy': array([0.81355932, 0.82051282, 0.86324786, 0.85470085, 0.82051282]),\n",
              " 'test_precision': array([0.78181818, 0.73134328, 0.83333333, 0.85714286, 0.80392157]),\n",
              " 'test_recall': array([0.81132075, 0.94230769, 0.86538462, 0.80769231, 0.78846154]),\n",
              " 'test_f1score': array([0.7962963 , 0.82352941, 0.8490566 , 0.83168317, 0.7961165 ])}"
            ]
          },
          "execution_count": 41,
          "metadata": {},
          "output_type": "execute_result"
        }
      ],
      "source": [
        "result_cv"
      ]
    },
    {
      "cell_type": "code",
      "execution_count": null,
      "metadata": {
        "colab": {
          "background_save": true
        },
        "id": "zlnM6k3rfAdi"
      },
      "outputs": [],
      "source": [
        "def diagrama_caja(resultados):\n",
        "  sns.set(rc={'figure.figsize':(8, 3)})\n",
        "  boxplot_scores = list ()\n",
        "  nombres = []\n",
        "\n",
        "  for k, v in enumerate(scores):\n",
        "    boxplot_scores.append(resultados['test_' + v])\n",
        "    nombres.append(v)\n",
        "    print(resultados['test_' + v])\n",
        "  plt.boxplot(boxplot_scores, labels=nombres, showmeans=True)\n",
        "  plt.show()"
      ]
    },
    {
      "cell_type": "code",
      "execution_count": null,
      "metadata": {
        "colab": {
          "background_save": true
        },
        "id": "-evPzHeXhJn4",
        "outputId": "d73500fb-806b-4260-fdd2-0a3c6d039e96"
      },
      "outputs": [
        {
          "name": "stdout",
          "output_type": "stream",
          "text": [
            "[0.81355932 0.82051282 0.86324786 0.85470085 0.82051282]\n",
            "[0.78181818 0.73134328 0.83333333 0.85714286 0.80392157]\n",
            "[0.81132075 0.94230769 0.86538462 0.80769231 0.78846154]\n",
            "[0.7962963  0.82352941 0.8490566  0.83168317 0.7961165 ]\n"
          ]
        },
        {
          "data": {
            "image/png": "[encoded data removed]",
            "text/plain": [
              "<Figure size 576x216 with 1 Axes>"
            ]
          },
          "metadata": {},
          "output_type": "display_data"
        }
      ],
      "source": [
        "diagrama_caja(result_cv)"
      ]
    },
    {
      "cell_type": "markdown",
      "source": [
        "Podemos observar como el comportamiento de nuestras métricas han resultado mucho más positivas de acuerdo podríamos ser ciertamente engañosas, si bien podíamos ver centrado nuestro “accuracy” podría determinar un buen valor, podríamos tener una interpretación errónea, igualmente podemos ver que nuestro recall no se encuentra tan centrado lo que al final se traduce en una mayor penalización de F1 a nuestro modelo ya que F1-score penaliza más los errores positivos (FN) que a los errores negativos (FP)\n"
      ],
      "metadata": {
        "id": "ej0GUFJDpkyk"
      }
    },
    {
      "cell_type": "markdown",
      "metadata": {
        "id": "WUtJ33KezhiB"
      },
      "source": [
        "### **6.  Verifica que el modelo no esté subentrenado o sobreentrenado mediante alguna de las gráficas de curvas de entrenamiento (aumentando la complejidad o aumentando el conjunto de entrenamiento, la que consideres más adecuada).** \n",
        "De ser necesario, realiza los ajustes necesarios para evitar alguno de estos problemas."
      ]
    },
    {
      "cell_type": "code",
      "execution_count": null,
      "metadata": {
        "id": "mEEIzbEsnzc7"
      },
      "outputs": [],
      "source": [
        "def learning_curve_plot(modelo,score):\n",
        "\n",
        "    pipeline = Pipeline(steps=[('ct', transformer),('m', modelo)])\n",
        "    KFold = RepeatedKFold(n_splits=5, n_repeats=3, random_state=random_state_v)\n",
        "    train_sizes, train_scores, test_scores = learning_curve(estimator=pipeline, X=X_train, y=y_train,\n",
        "                                                       cv=KFold, train_sizes=np.linspace(0.1, 1.0, 20), scoring=score)\n",
        "    train_mean = np.mean(train_scores, axis=1)\n",
        "    train_std = np.std(train_scores, axis=1)\n",
        "    test_mean = np.mean(test_scores, axis=1)\n",
        "    test_std = np.std(test_scores, axis=1)\n",
        "    \n",
        "    # Graficamos las curvas de aprendizaje incluyendo una región indicando la desviación estándar.\n",
        "    plt.figure(figsize=(7,6))\n",
        "    plt.plot(train_sizes, train_mean, color='blue', marker='o', markersize=5, label='Training')\n",
        "    plt.fill_between(train_sizes, train_mean + train_std, train_mean - train_std, alpha=0.1, color='blue')\n",
        "    \n",
        "    plt.plot(train_sizes, test_mean, color='red', marker='+', markersize=5, linestyle='--', label='Test')\n",
        "    plt.fill_between(train_sizes, test_mean + test_std, test_mean - test_std, alpha=0.1, color='red')\n",
        "    \n",
        "    plt.title('Curvas de Aprendizaje incrementando el tamaño de la muestra')\n",
        "    plt.xlabel('Tamaño del conjunto de entrenamiento')\n",
        "    plt.ylabel(score)\n",
        "    plt.grid()\n",
        "    plt.legend(loc='upper right')\n",
        "    plt.show()"
      ]
    },
    {
      "cell_type": "code",
      "execution_count": null,
      "metadata": {
        "colab": {
          "base_uri": "https://localhost:8080/"
        },
        "id": "gg4_SAByy2_q",
        "outputId": "bae767aa-6690-4a84-f433-11f378cc771e"
      },
      "outputs": [
        {
          "output_type": "execute_result",
          "data": {
            "text/plain": [
              "(586, 14)"
            ]
          },
          "metadata": {},
          "execution_count": 68
        }
      ],
      "source": [
        "X_train.shape"
      ]
    },
    {
      "cell_type": "code",
      "execution_count": null,
      "metadata": {
        "colab": {
          "base_uri": "https://localhost:8080/",
          "height": 410
        },
        "id": "AUF6kqOqrSnH",
        "outputId": "4780f8db-e6cd-4a84-aa44-52e202fb2fc9"
      },
      "outputs": [
        {
          "output_type": "display_data",
          "data": {
            "text/plain": [
              "<Figure size 504x432 with 1 Axes>"
            ],
            "image/png": "[encoded data removed]"
          },
          "metadata": {}
        }
      ],
      "source": [
        "learning_curve_plot(modelo,'recall')"
      ]
    },
    {
      "cell_type": "markdown",
      "source": [
        "Podemos observar que el comportamiento de nuestra curva de aprendizaje es capaz de demostrar un progreso favorable a medida que el bloque de datos va avanzando hasta irse normalizando, esto, nos demuestra que es capaz de poder adaptarse a las diferentes futuras métricas que pudiera recibir.\n",
        "En acorde a esto podemos interpretar que no se encuentra sobre entrenada ya que aun cuando es “estable” su comportamiento presenta ligeras fluctuaciones pero éstas van en función a la cantidad de datos que se le van suministrando, incluso podemos observar que su constancia y estabilidad evitan que presente picos abruptos con los que entenderíamos errores en el modelo, al contrario, entre más datos tiene menor esfuerzo le toma para poder tomar las decisiones más acertadas."
      ],
      "metadata": {
        "id": "JbJPVLalpoNL"
      }
    },
    {
      "cell_type": "markdown",
      "metadata": {
        "id": "lBErsDUizxIN"
      },
      "source": [
        "### **7.  Con los mejores hiperparámetros entontrados encontrar la gráfica de la curva ROC y su área bajo la curva.**"
      ]
    },
    {
      "cell_type": "code",
      "execution_count": null,
      "metadata": {
        "colab": {
          "base_uri": "https://localhost:8080/"
        },
        "id": "QSqIaA4lz3X5",
        "outputId": "41831cb2-fb01-4004-98c8-aa696733361c"
      },
      "outputs": [
        {
          "output_type": "stream",
          "name": "stdout",
          "text": [
            "[0 1 1 0 1 0 0 1 1 1 0 0 0 0 0 0 1 0 0 1 0 1 1 0 0 0 1 1 0 1 1 1 1 0 1 0 0\n",
            " 0 0 0 0 0 0 1 1 0 0 1 0 1 0 0 0 1 1 0 0 0 0 0 1 0 1 1 0 1 1 1 0 1 0 0 1 1\n",
            " 0 1 0 0 0 1 1 0 1 0 0 1 0 0 1 0 0 1 0 1 0 0 1 1 0 1 0 1 1 0]\n"
          ]
        }
      ],
      "source": [
        "pipeline = Pipeline(steps=[('ct', transformer),('m', modelo)])\n",
        "pipeline.fit(X_train,y_train)\n",
        "yhat = pipeline.predict(X_val)\n",
        "print(yhat)"
      ]
    },
    {
      "cell_type": "code",
      "execution_count": null,
      "metadata": {
        "colab": {
          "base_uri": "https://localhost:8080/",
          "height": 257
        },
        "id": "B0tUcvh091AO",
        "outputId": "af17a53e-c9a9-41ba-e1ed-d736ff4b136f"
      },
      "outputs": [
        {
          "output_type": "display_data",
          "data": {
            "text/plain": [
              "<Figure size 576x216 with 1 Axes>"
            ],
            "image/png": "[encoded data removed]"
          },
          "metadata": {}
        }
      ],
      "source": [
        "# Obtenemos la tasa de falsos positivos (recall) y la tasa de verdaderos positivos (precision):\n",
        "fpr, tpr, thresholds = metrics.roc_curve(y_val, yhat)\n",
        "\n",
        "\n",
        "metrics.RocCurveDisplay.from_estimator(pipeline, X_val, y_val, pos_label=1)\n",
        "\n",
        "plt.plot([0,0,1,0],[0,1,1,0], 'y--')\n",
        "\n",
        "plt.hlines(tpr, 0, fpr, colors='r', linestyles='dotted')  # Se calcula TPrate y FPrate con base a threshold=0.5\n",
        "plt.vlines(fpr, 0, tpr, colors='r', linestyles='dotted')  # como valor predeteminado\n",
        "plt.show() "
      ]
    },
    {
      "cell_type": "markdown",
      "metadata": {
        "id": "BpS_PX-cz4IU"
      },
      "source": [
        "### **8.  Encontrar el valor del mejor umbral de predicción del modelo que maximice el valor de la métrica f1-score.**"
      ]
    },
    {
      "cell_type": "code",
      "execution_count": null,
      "metadata": {
        "id": "3wSZOMbbLyPy"
      },
      "outputs": [],
      "source": [
        "# def mi_f1score(yreal, ypred):\n",
        "#   vn, fp, fn, vp = confusion_matrix(yreal, ypred).ravel()\n",
        "#   f1score = (2*vp)/((2*vp) + (fp + fn))\n",
        "#   return f1score\n",
        "\n",
        "# def mi_gmean(yreal, ypred):\n",
        "#   vn, fp, fn, vp = confusion_matrix(yreal, ypred).ravel()\n",
        "#   recall =vp/(vp + fn)\n",
        "#   especificidad = vn/(vn + fp)\n",
        "\n",
        "#   gmean = np.sqrt(recall * especificidad)\n",
        "#   return gmean\n",
        "\n",
        "# def mi_recall(yreal, ypred):\n",
        "#   vn, fp, fn, vp = confusion_matrix(yreal, ypred).ravel()\n",
        "#   recall =vp / (vp + fn)\n",
        "#   return recall"
      ]
    },
    {
      "cell_type": "code",
      "execution_count": null,
      "metadata": {
        "colab": {
          "base_uri": "https://localhost:8080/"
        },
        "id": "N8IGAMmqTwSd",
        "outputId": "bc3853d7-3955-4cf0-e9a8-497cc6f335cd"
      },
      "outputs": [
        {
          "output_type": "stream",
          "name": "stdout",
          "text": [
            "[[52  6]\n",
            " [ 7 39]]\n"
          ]
        }
      ],
      "source": [
        "pred_bin = pipeline.predict(X_val)\n",
        "cm = confusion_matrix(y_val, yhat)\n",
        "\n",
        "print(cm)"
      ]
    },
    {
      "cell_type": "code",
      "execution_count": null,
      "metadata": {
        "colab": {
          "base_uri": "https://localhost:8080/"
        },
        "id": "-HOU3XaEaHfQ",
        "outputId": "d1e7de1d-5d03-4c64-bb07-868cdba85dcf"
      },
      "outputs": [
        {
          "output_type": "stream",
          "name": "stdout",
          "text": [
            "(104,)\n",
            "58\n",
            "46\n"
          ]
        }
      ],
      "source": [
        "my0s = (y_val==0)\n",
        "my1s = (y_val==1)\n",
        "\n",
        "print(my0s.shape)\n",
        "print(sum(my0s))\n",
        "print(sum(my1s))"
      ]
    },
    {
      "cell_type": "code",
      "execution_count": null,
      "metadata": {
        "colab": {
          "base_uri": "https://localhost:8080/"
        },
        "id": "TbJ9YjIsbBGV",
        "outputId": "eb8c329f-bb10-4f18-bb76-615de10d1d9e"
      },
      "outputs": [
        {
          "output_type": "stream",
          "name": "stdout",
          "text": [
            "14     0\n",
            "586    0\n",
            "140    0\n",
            "492    0\n",
            "350    1\n",
            "Name: A15, dtype: int64\n",
            "14      True\n",
            "586     True\n",
            "140     True\n",
            "492     True\n",
            "350    False\n",
            "Name: A15, dtype: bool\n"
          ]
        }
      ],
      "source": [
        "print(y_val[0:5])\n",
        "print(my0s[0:5])"
      ]
    },
    {
      "cell_type": "code",
      "execution_count": null,
      "metadata": {
        "colab": {
          "base_uri": "https://localhost:8080/"
        },
        "id": "Tg_PpfM1bJqn",
        "outputId": "7f3a3cf2-502d-48a1-b95b-031a14c4f527"
      },
      "outputs": [
        {
          "output_type": "stream",
          "name": "stdout",
          "text": [
            "(58,)\n",
            "(46,)\n"
          ]
        }
      ],
      "source": [
        "pred0s  = pred_bin[my0s]\n",
        "pred1s  = pred_bin[my1s]\n",
        "print(pred0s.shape)   \n",
        "print(pred1s.shape)"
      ]
    },
    {
      "cell_type": "code",
      "execution_count": null,
      "metadata": {
        "colab": {
          "base_uri": "https://localhost:8080/"
        },
        "id": "zF7uTMdHcAr0",
        "outputId": "ae730f85-aeab-4143-ca8e-8d3619e74652"
      },
      "outputs": [
        {
          "output_type": "stream",
          "name": "stdout",
          "text": [
            "(46,)\n",
            "[1 1 1 0 1]\n"
          ]
        }
      ],
      "source": [
        "print(pred1s.shape)\n",
        "print(pred1s[0:5])  # En este caso, de las 5 primeras predicciones que debieron ser todas positivas,\n",
        "                       # solo las primera y la quinta son correctas, y los tres de en medio son FN.-------> revisar"
      ]
    },
    {
      "cell_type": "code",
      "execution_count": null,
      "metadata": {
        "colab": {
          "base_uri": "https://localhost:8080/"
        },
        "id": "SuE-dozHc5fz",
        "outputId": "c9a998d5-cdcd-4a50-d97d-627275bac8a6"
      },
      "outputs": [
        {
          "output_type": "stream",
          "name": "stdout",
          "text": [
            "(58,)\n",
            "(46,)\n"
          ]
        }
      ],
      "source": [
        "r0 = np.random.uniform(-0.5,0.5, size=pred0s.shape[0])    # Generamos aleatorios uniforme para el eje x\n",
        "                                                          # de longitud el total de 0-TRUEs en X_val, entre\n",
        "                                                          # algún intervalo deseado, que aquí usamos (-0.5, +0.5)\n",
        "\n",
        "r1 = np.random.uniform(0.7,1.3, size=pred1s.shape[0])     # El análogo para 1-TRUEs de X_val. Pero para que aparezcan\n",
        "                                                          # cercanos uno al otro, seleccionemos ahora el intervalo (+0.7, +1.3)\n",
        "\n",
        "print(r0.shape)\n",
        "#print(r0[0:5])\n",
        "print(r1.shape)\n",
        "#print(r1[0:5])"
      ]
    },
    {
      "cell_type": "code",
      "execution_count": null,
      "metadata": {
        "colab": {
          "base_uri": "https://localhost:8080/",
          "height": 213
        },
        "id": "j8O2U4nudE5t",
        "outputId": "66b76b6c-6d4f-451b-9cd8-419ae332dd1f"
      },
      "outputs": [
        {
          "output_type": "display_data",
          "data": {
            "text/plain": [
              "<Figure size 576x216 with 1 Axes>"
            ],
            "image/png": "[encoded data removed]"
          },
          "metadata": {}
        }
      ],
      "source": [
        "plt.scatter(x=r0, y=pred0s)   # En teoría todos estos debieran ser menores a 0.5.\n",
        "plt.scatter(x=r1, y=pred1s)   # Y todos estos debieran ser mayores a 0.5.\n",
        "\n",
        "plt.hlines(0.5, -0.35, 1.35, color='g', linestyles='dashed')   # el primer valor es la constante para \"y\" y los otros 2 son \n",
        "                                                               # donde inicia y termina en el eje horizontal.\n",
        "plt.show()"
      ]
    },
    {
      "cell_type": "code",
      "execution_count": null,
      "metadata": {
        "colab": {
          "base_uri": "https://localhost:8080/"
        },
        "id": "K9G_GeCFdhX8",
        "outputId": "12e8e5f9-7f48-4a0b-c7b2-c5f1f0f88497"
      },
      "outputs": [
        {
          "output_type": "stream",
          "name": "stdout",
          "text": [
            "[[52  6]\n",
            " [ 7 39]]\n",
            "real-0: [0.50000, 0.05769]\n",
            "real-1: [0.06731, 0.37500]\n"
          ]
        }
      ],
      "source": [
        "# Cuando hacemos nuestras predicciones y obtenemos por ejemplo la matriz de confusión,\n",
        "# de manera predeterminada se está considerando que 0.5 es el umbral para las clases negativa y positiva.\n",
        "\n",
        "pred_bin = pipeline.predict(X_val)\n",
        "cm = confusion_matrix(y_val, yhat)    # los renglones son los reales y las columnas las predicciones.\n",
        "print(cm)\n",
        "\n",
        "tt = np.sum(cm)\n",
        "print('real-0: [%.5f, %.5f]' % (cm[0,0]/tt, cm[0,1]/tt))\n",
        "print('real-1: [%.5f, %.5f]' % (cm[1,0]/tt, cm[1,1]/tt))"
      ]
    },
    {
      "cell_type": "code",
      "execution_count": null,
      "metadata": {
        "colab": {
          "base_uri": "https://localhost:8080/"
        },
        "id": "FyaW35-oeLvl",
        "outputId": "9b14bc74-6086-41ce-bb71-50a06f70683c"
      },
      "outputs": [
        {
          "output_type": "stream",
          "name": "stdout",
          "text": [
            "TP_rate-f1-score:0.99522\n",
            "FP_rate:0.99522\n"
          ]
        }
      ],
      "source": [
        "TPrate = (cm[0,0]*cm[0,0])/((cm[0,0]*cm[0,0])+(cm[1,0]+cm[0,1]))\n",
        "FPrate = (cm[0,0]*cm[0,0])/((cm[0,0]*cm[0,0])+(cm[1,0]+cm[0,1]))\n",
        "print('TP_rate-f1-score:%.5f' % TPrate)\n",
        "print('FP_rate:%.5f' % FPrate)\n",
        "\n",
        "# f1score = (2*vp)/((2*vp) + (fp + fn))\n"
      ]
    },
    {
      "cell_type": "code",
      "execution_count": null,
      "metadata": {
        "colab": {
          "base_uri": "https://localhost:8080/",
          "height": 257
        },
        "id": "Vn61wBRsSZCQ",
        "outputId": "c73ced8a-87d2-4e8e-affc-f17b2638d8e3"
      },
      "outputs": [
        {
          "output_type": "display_data",
          "data": {
            "text/plain": [
              "<Figure size 576x216 with 1 Axes>"
            ],
            "image/png": "[encoded data removed]"
          },
          "metadata": {}
        }
      ],
      "source": [
        "metrics.RocCurveDisplay.from_estimator(pipeline, X_val, y_val)\n",
        "plt.plot([0,0,1,0],[0,1,1,0], 'y--')\n",
        "plt.hlines(TPrate, 0, FPrate, colors='r', linestyles='dotted')  # Se calcula TPrate y FPrate con base a threshold=0.5\n",
        "plt.vlines(FPrate, 0, TPrate, colors='r', linestyles='dotted')  # Pero el mejor umbral para que ambos errores estén lo más equilibrados\n",
        "plt.show()                                                      # es el que se calcula con el círculo centrado en (0,1)."
      ]
    },
    {
      "cell_type": "code",
      "execution_count": null,
      "metadata": {
        "colab": {
          "base_uri": "https://localhost:8080/"
        },
        "id": "9A95MZdDlFhJ",
        "outputId": "41799ed4-cd0c-44f4-e419-3e5a55b3cacf"
      },
      "outputs": [
        {
          "output_type": "execute_result",
          "data": {
            "text/plain": [
              "0.8578739476415638"
            ]
          },
          "metadata": {},
          "execution_count": 85
        }
      ],
      "source": [
        "roc_auc_score(y_val, yhat, average='macro', sample_weight=None, max_fpr=0.5)"
      ]
    },
    {
      "cell_type": "code",
      "execution_count": null,
      "metadata": {
        "colab": {
          "base_uri": "https://localhost:8080/"
        },
        "id": "G3zVcEU3rfz5",
        "outputId": "6aa30056-7d74-4f30-9761-73b1a089d555"
      },
      "outputs": [
        {
          "output_type": "stream",
          "name": "stdout",
          "text": [
            "0.8571428571428571\n"
          ]
        }
      ],
      "source": [
        "vn, fp, fn, vp = confusion_matrix(y_val, yhat).ravel()\n",
        "f1_score = (2*vp)/((2*vp) + (fp + fn))\n",
        "print (f1_score)"
      ]
    },
    {
      "cell_type": "code",
      "execution_count": null,
      "metadata": {
        "colab": {
          "base_uri": "https://localhost:8080/",
          "height": 491
        },
        "id": "Mq0f4N-Csg13",
        "outputId": "23f4d82c-f269-4966-bac4-ffb939979a1e"
      },
      "outputs": [
        {
          "output_type": "error",
          "ename": "AttributeError",
          "evalue": "ignored",
          "traceback": [
            "\u001b[0;31m---------------------------------------------------------------------------\u001b[0m",
            "\u001b[0;31mAttributeError\u001b[0m                            Traceback (most recent call last)",
            "\u001b[0;32m<ipython-input-89-3aeab34c58c9>\u001b[0m in \u001b[0;36m<module>\u001b[0;34m\u001b[0m\n\u001b[1;32m      2\u001b[0m \u001b[0;34m\u001b[0m\u001b[0m\n\u001b[1;32m      3\u001b[0m \u001b[0;31m#obtenemos las predicciones en formato probabilístico  de 1 y 0 para cada observación en el conjunto de validación.\u001b[0m\u001b[0;34m\u001b[0m\u001b[0;34m\u001b[0m\u001b[0;34m\u001b[0m\u001b[0m\n\u001b[0;32m----> 4\u001b[0;31m \u001b[0myhat\u001b[0m \u001b[0;34m=\u001b[0m \u001b[0mpipeline\u001b[0m\u001b[0;34m.\u001b[0m\u001b[0mpredict_proba\u001b[0m\u001b[0;34m(\u001b[0m\u001b[0mX_val\u001b[0m\u001b[0;34m)\u001b[0m\u001b[0;34m\u001b[0m\u001b[0;34m\u001b[0m\u001b[0m\n\u001b[0m\u001b[1;32m      5\u001b[0m \u001b[0myhat\u001b[0m \u001b[0;34m=\u001b[0m \u001b[0myhat\u001b[0m\u001b[0;34m[\u001b[0m\u001b[0;34m:\u001b[0m\u001b[0;34m,\u001b[0m \u001b[0;36m1\u001b[0m\u001b[0;34m]\u001b[0m\u001b[0;34m\u001b[0m\u001b[0;34m\u001b[0m\u001b[0m\n\u001b[1;32m      6\u001b[0m \u001b[0;34m\u001b[0m\u001b[0m\n",
            "\u001b[0;32m/usr/local/lib/python3.7/dist-packages/sklearn/utils/metaestimators.py\u001b[0m in \u001b[0;36m__get__\u001b[0;34m(self, obj, owner)\u001b[0m\n\u001b[1;32m    107\u001b[0m             \u001b[0;31m# delegate only on instances, not the classes.\u001b[0m\u001b[0;34m\u001b[0m\u001b[0;34m\u001b[0m\u001b[0;34m\u001b[0m\u001b[0m\n\u001b[1;32m    108\u001b[0m             \u001b[0;31m# this is to allow access to the docstrings.\u001b[0m\u001b[0;34m\u001b[0m\u001b[0;34m\u001b[0m\u001b[0;34m\u001b[0m\u001b[0m\n\u001b[0;32m--> 109\u001b[0;31m             \u001b[0;32mif\u001b[0m \u001b[0;32mnot\u001b[0m \u001b[0mself\u001b[0m\u001b[0;34m.\u001b[0m\u001b[0mcheck\u001b[0m\u001b[0;34m(\u001b[0m\u001b[0mobj\u001b[0m\u001b[0;34m)\u001b[0m\u001b[0;34m:\u001b[0m\u001b[0;34m\u001b[0m\u001b[0;34m\u001b[0m\u001b[0m\n\u001b[0m\u001b[1;32m    110\u001b[0m                 \u001b[0;32mraise\u001b[0m \u001b[0mattr_err\u001b[0m\u001b[0;34m\u001b[0m\u001b[0;34m\u001b[0m\u001b[0m\n\u001b[1;32m    111\u001b[0m \u001b[0;34m\u001b[0m\u001b[0m\n",
            "\u001b[0;32m/usr/local/lib/python3.7/dist-packages/sklearn/pipeline.py\u001b[0m in \u001b[0;36mcheck\u001b[0;34m(self)\u001b[0m\n\u001b[1;32m     43\u001b[0m     \u001b[0;32mdef\u001b[0m \u001b[0mcheck\u001b[0m\u001b[0;34m(\u001b[0m\u001b[0mself\u001b[0m\u001b[0;34m)\u001b[0m\u001b[0;34m:\u001b[0m\u001b[0;34m\u001b[0m\u001b[0;34m\u001b[0m\u001b[0m\n\u001b[1;32m     44\u001b[0m         \u001b[0;31m# raise original `AttributeError` if `attr` does not exist\u001b[0m\u001b[0;34m\u001b[0m\u001b[0;34m\u001b[0m\u001b[0;34m\u001b[0m\u001b[0m\n\u001b[0;32m---> 45\u001b[0;31m         \u001b[0mgetattr\u001b[0m\u001b[0;34m(\u001b[0m\u001b[0mself\u001b[0m\u001b[0;34m.\u001b[0m\u001b[0m_final_estimator\u001b[0m\u001b[0;34m,\u001b[0m \u001b[0mattr\u001b[0m\u001b[0;34m)\u001b[0m\u001b[0;34m\u001b[0m\u001b[0;34m\u001b[0m\u001b[0m\n\u001b[0m\u001b[1;32m     46\u001b[0m         \u001b[0;32mreturn\u001b[0m \u001b[0;32mTrue\u001b[0m\u001b[0;34m\u001b[0m\u001b[0;34m\u001b[0m\u001b[0m\n\u001b[1;32m     47\u001b[0m \u001b[0;34m\u001b[0m\u001b[0m\n",
            "\u001b[0;32m/usr/local/lib/python3.7/dist-packages/sklearn/utils/metaestimators.py\u001b[0m in \u001b[0;36m__get__\u001b[0;34m(self, obj, owner)\u001b[0m\n\u001b[1;32m    107\u001b[0m             \u001b[0;31m# delegate only on instances, not the classes.\u001b[0m\u001b[0;34m\u001b[0m\u001b[0;34m\u001b[0m\u001b[0;34m\u001b[0m\u001b[0m\n\u001b[1;32m    108\u001b[0m             \u001b[0;31m# this is to allow access to the docstrings.\u001b[0m\u001b[0;34m\u001b[0m\u001b[0;34m\u001b[0m\u001b[0;34m\u001b[0m\u001b[0m\n\u001b[0;32m--> 109\u001b[0;31m             \u001b[0;32mif\u001b[0m \u001b[0;32mnot\u001b[0m \u001b[0mself\u001b[0m\u001b[0;34m.\u001b[0m\u001b[0mcheck\u001b[0m\u001b[0;34m(\u001b[0m\u001b[0mobj\u001b[0m\u001b[0;34m)\u001b[0m\u001b[0;34m:\u001b[0m\u001b[0;34m\u001b[0m\u001b[0;34m\u001b[0m\u001b[0m\n\u001b[0m\u001b[1;32m    110\u001b[0m                 \u001b[0;32mraise\u001b[0m \u001b[0mattr_err\u001b[0m\u001b[0;34m\u001b[0m\u001b[0;34m\u001b[0m\u001b[0m\n\u001b[1;32m    111\u001b[0m \u001b[0;34m\u001b[0m\u001b[0m\n",
            "\u001b[0;32m/usr/local/lib/python3.7/dist-packages/sklearn/svm/_base.py\u001b[0m in \u001b[0;36m_check_proba\u001b[0;34m(self)\u001b[0m\n\u001b[1;32m    799\u001b[0m         \u001b[0;32mif\u001b[0m \u001b[0;32mnot\u001b[0m \u001b[0mself\u001b[0m\u001b[0;34m.\u001b[0m\u001b[0mprobability\u001b[0m\u001b[0;34m:\u001b[0m\u001b[0;34m\u001b[0m\u001b[0;34m\u001b[0m\u001b[0m\n\u001b[1;32m    800\u001b[0m             raise AttributeError(\n\u001b[0;32m--> 801\u001b[0;31m                 \u001b[0;34m\"predict_proba is not available when  probability=False\"\u001b[0m\u001b[0;34m\u001b[0m\u001b[0;34m\u001b[0m\u001b[0m\n\u001b[0m\u001b[1;32m    802\u001b[0m             )\n\u001b[1;32m    803\u001b[0m         \u001b[0;32mif\u001b[0m \u001b[0mself\u001b[0m\u001b[0;34m.\u001b[0m\u001b[0m_impl\u001b[0m \u001b[0;32mnot\u001b[0m \u001b[0;32min\u001b[0m \u001b[0;34m(\u001b[0m\u001b[0;34m\"c_svc\"\u001b[0m\u001b[0;34m,\u001b[0m \u001b[0;34m\"nu_svc\"\u001b[0m\u001b[0;34m)\u001b[0m\u001b[0;34m:\u001b[0m\u001b[0;34m\u001b[0m\u001b[0;34m\u001b[0m\u001b[0m\n",
            "\u001b[0;31mAttributeError\u001b[0m: predict_proba is not available when  probability=False"
          ]
        }
      ],
      "source": [
        "#Encontrar el valor del mejor umbral de predicción del modelo que maximice el valor de la métrica g-mean.\n",
        "\n",
        "#obtenemos las predicciones en formato probabilístico  de 1 y 0 para cada observación en el conjunto de validación.\n",
        "yhat = pipeline.predict_proba(X_val)\n",
        "yhat = yhat[:, 1]\n",
        "\n",
        "#realizamos nuestras predicciones a la clase 1 o 0, con base al mejor umbral encontrado.\n",
        "pred_bin = np.where(yhat > best_thresh, 1, 0)\n",
        "pred_bin_05 = pipeline.predict(X_val)\n",
        "\n",
        "\n",
        "print('casos donde FP y FN son igualmente de costosos: \\n')\n",
        "print('predicciones binarias con threshold=0.5: \\n', confusion_matrix(y_val, pred_bin_05))\n",
        "\n",
        "print('predicciones binarias con threshold optimizado: \\n', confusion_matrix(y_val, pred_bin))\n",
        "\n",
        "print('predicciones probabilisticas con threshold optimizado: \\n', confusion_matrix(y_val, yhat))\n"
      ]
    },
    {
      "cell_type": "code",
      "execution_count": null,
      "metadata": {
        "colab": {
          "base_uri": "https://localhost:8080/"
        },
        "id": "zKMf8w3x0FdG",
        "outputId": "d547ecff-8de9-457a-86c8-16a5f68feffe"
      },
      "outputs": [
        {
          "data": {
            "text/plain": [
              "array([2, 1, 0])"
            ]
          },
          "execution_count": 55,
          "metadata": {},
          "output_type": "execute_result"
        }
      ],
      "source": [
        "thresholds"
      ]
    },
    {
      "cell_type": "code",
      "execution_count": null,
      "metadata": {
        "id": "glVakRtiRxRU"
      },
      "outputs": [],
      "source": [
        "# vn, fp, fn, vp = confusion_matrix(y_val, yhat).ravel() \n",
        "# TPrate = (2*vp)/((2*vp) + (fp + fn))\n",
        "# FPrate = fp/(vn+fp)\n",
        "# print('TP_rate-f1score:%.5f' % TPrate)\n",
        "# print('FP_rate:%.5f' % FPrate)"
      ]
    },
    {
      "cell_type": "markdown",
      "metadata": {
        "id": "rtsPsI9Vz-DN"
      },
      "source": [
        ":### **9.  Encontrar el valor del mejor umbral de predicción del modelo que maximice el valor de la métrica g-mean.**"
      ]
    },
    {
      "cell_type": "code",
      "execution_count": null,
      "metadata": {
        "colab": {
          "base_uri": "https://localhost:8080/",
          "height": 230
        },
        "id": "BrqQq4tU0DYo",
        "outputId": "bd9e8ad4-58e8-4a0b-a4d6-20ef2ef4cc80"
      },
      "outputs": [
        {
          "name": "stdout",
          "output_type": "stream",
          "text": [
            "Best Threshold=1.000000, G-Mean=0.872\n"
          ]
        },
        {
          "data": {
            "image/png": "[encoded data removed]",
            "text/plain": [
              "<Figure size 576x216 with 1 Axes>"
            ]
          },
          "metadata": {},
          "output_type": "display_data"
        }
      ],
      "source": [
        "from sklearn.metrics import roc_curve\n",
        "\n",
        "# calculate roc curves\n",
        "fpr, tpr, thresholds = roc_curve(y_val, yhat)\n",
        "\n",
        "# calculate g-mean for each threshold\n",
        "gmeans = np.sqrt(tpr * (1-fpr))\n",
        "\n",
        "# locate the index of the largest g-mean\n",
        "ix = np.argmax(gmeans)\n",
        "print('Best Threshold=%f, G-Mean=%.3f' % (thresholds[ix], gmeans[ix]))\n",
        "\n",
        "# plot the roc curve for the model\n",
        "pyplot.plot([0,1], [0,1], linestyle='--', label='No Skill')\n",
        "pyplot.plot(fpr, tpr, marker='.', label='Logistic')\n",
        "# plot the point that corresponds to the maximum g-mean\n",
        "pyplot.scatter(fpr[ix], tpr[ix], marker='o', color='black', label='Best')\n",
        "# show the plot\n",
        "pyplot.show()"
      ]
    },
    {
      "cell_type": "markdown",
      "metadata": {
        "id": "_vrC_n9U0EZe"
      },
      "source": [
        "### **10. Incluye tus conclusiones finales de la actividad.**"
      ]
    },
    {
      "cell_type": "markdown",
      "source": [
        "Con esto podemos identificar todas las posibles variantes que podríamos manejar entre modelos, diferentes aspectos, parámetros, entre los clasificadores, probamos realizar las clasificaciones con los estratificadores, tal vez el proceso más simple para poder ir clasificando nuestra información, pudimos ver que si bien puede demostrar un comportamiento bueno, puede ser bajo en sus métricas (esto lo confirmamos con los resultados del F1 score obtenidos)\n",
        "continuamos realizando métricas ahora con SVM, si bien este modelo nos permite crear un análisis realizando una separación de datos mucho más precisas, identificamos que nuestro modelo mejoró considerablemente ya que de rondar por debajo del 50% se logró llevar por arriba del 85% y que a su vez mejoró considerablemente el resto de nuestras métricas como el accuracy, la precisión y el recall.\n",
        "Tras completar esta comparativa, ahora realizamos un análisis de “Área bajo la curva” o **AUC** por sus siglas en inglés utilizando la recepción operativa de características **ROC** por sus siglas en inglés, esta nos permitirá comprender el desempeño de nuestro modelo y entre más se acerque a 1 será más eficiente.\n",
        "Durante el proceso de graficación pudimos observar como nuestro resultado del modelo en F1 nos arrojó 85.71% de eficiencia mientras que el Score de UAC nos dio el 85.78% como resumen especular que el modelo es lo suficientemente capaz de poder estratificar correctamente los casos que podamos plantearle a nuestro modelo.\n",
        "\n",
        "*Como complemento, tenemos que saber que cuando un valor de AUC se encuentra por debajo del .5 significa que nuestro modelo no es capaz de clasificar o que no tenga la capacidad de ser separado correctamente, es decir que no podrá saber distinguir entre una correcta clasificación o una clasificación incorrecta, lo que por obvias razones nos llevará a decisiones incorrectas*\n"
      ],
      "metadata": {
        "id": "TFeu_JRvpxXr"
      }
    },
    {
      "cell_type": "code",
      "execution_count": null,
      "metadata": {
        "id": "8BS3OPNm0JFv"
      },
      "outputs": [],
      "source": [
        "None"
      ]
    },
    {
      "cell_type": "markdown",
      "source": [
        "*Referencias:*\n",
        "<BR>\n",
        "*Sheehy, P., Navarro, D., Silvers, R., Keyes, V., Dixon, D., & Picard, D. (2002). The Black Belt Memory Jogger: A Pocket Guide for Six Sigma Success (1st ed.). Goal/QPC.*\n",
        "<BR>\n",
        "*aman.ai | redirecting to homepage. . . (2022). Retrieved November 5, 2022, from https://Https://aman.ai/primers/si/interview/*\n",
        "<BR>\n",
        "*Minitab. (n.d.). Accuracy and precision in measurement systems. MinitabRetrieved November 6, 2022, from https://support.minitab.com/en-us/minitab/20/help-and-how-to/quality-and-process-improvement/measurement-system-analysis/supporting-topics/basics/accuracy-and-precision/*\n",
        "<BR>\n",
        "Sklearn.svm.SVC. (2007). scikit-learn. Retrieved November 6, 2022, from https://scikit-learn.org/stable/modules/generated/sklearn.svm.SVC.html\n",
        "<BR>\n",
        "Google. (2022). Machine Learning. 2022,Nov 06, de Classifications. Sitio web: https://developers.google.com/machine-learning/crash-course/classification/precision-and-recall\n",
        "<BR>\n",
        "Sarang Narkhede. (2018). Understanding UAC - ROC Curve. 2022,Nov 06, de Understanding UAC - ROC Curve. Sitio web: https://towardsdatascience.com/understanding-auc-roc-curve-68b2303cc9c5\n"
      ],
      "metadata": {
        "id": "PeEfV7dNp2jO"
      }
    },
    {
      "cell_type": "markdown",
      "metadata": {
        "id": "gNv1pJkh6QJd"
      },
      "source": [
        "### **-- FIN DE ACTIVIDAD DE LA SEMANA 8**"
      ]
    }
  ],
  "metadata": {
    "colab": {
      "collapsed_sections": [],
      "provenance": [],
      "include_colab_link": true
    },
    "kernelspec": {
      "display_name": "Python 3",
      "name": "python3"
    },
    "language_info": {
      "name": "python"
    }
  },
  "nbformat": 4,
  "nbformat_minor": 0
}