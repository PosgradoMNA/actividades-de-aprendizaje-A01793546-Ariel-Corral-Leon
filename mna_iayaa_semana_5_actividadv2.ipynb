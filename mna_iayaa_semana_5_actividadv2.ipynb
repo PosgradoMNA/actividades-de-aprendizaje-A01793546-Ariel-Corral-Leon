{
  "nbformat": 4,
  "nbformat_minor": 0,
  "metadata": {
    "colab": {
      "provenance": [],
      "collapsed_sections": [],
      "toc_visible": true,
      "include_colab_link": true
    },
    "kernelspec": {
      "name": "python3",
      "display_name": "Python 3"
    },
    "language_info": {
      "name": "python"
    }
  },
  "cells": [
    {
      "cell_type": "markdown",
      "metadata": {
        "id": "view-in-github",
        "colab_type": "text"
      },
      "source": [
        "<a href=\"https://colab.research.google.com/github/PosgradoMNA/actividades-de-aprendizaje-A01793546-Ariel-Corral-Leon/blob/main/mna_iayaa_semana_5_actividadv2.ipynb\" target=\"_parent\"><img src=\"https://colab.research.google.com/assets/colab-badge.svg\" alt=\"Open In Colab\"/></a>"
      ]
    },
    {
      "cell_type": "markdown",
      "source": [
        "![tec.jpeg](data:image/jpeg;base64,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)\n",
        "\n",
        "#**Maestría en Inteligencia Artificial Aplicada**\n",
        "##**Curso: Inteligencia Artificial y Aprendizaje Automático**\n",
        "###Tecnológico de Monterrey\n",
        "###Prof Luis Eduardo Falcón Morales\n",
        "\n",
        "### **Semana 5: Actividad clases no balanceadas**\n",
        "####**Clases no balanceadas**\n",
        "\n",
        "### Alumno: Jose Ariel Corral Leon\n",
        "### Matricula: A01793546\n"
      ],
      "metadata": {
        "id": "4Krv9Y-6FT8D"
      }
    },
    {
      "cell_type": "markdown",
      "source": [
        "El obejtivo de cada uno de los ejercicios de esta actividad es que te familiarices con las funciones y la manera de ir construyendo un modelo. Así que no te preocupes si por el momento no se obtienen grandes resultados en cuanto al desempeño se refiere, en las próximas semanas iremos yendo en esta dirección al tener más modelos con qué comparar.\n",
        "\n",
        "**Recuerda que solamente debes modificar e incluir tu código en las secciones que se te indican explíticamente. Por lo demás, debes dejar todo sin modificar, de lo contrario te restará puntos.**"
      ],
      "metadata": {
        "id": "jmgjvCGqbi2i"
      }
    },
    {
      "cell_type": "code",
      "source": [
        "import pandas as pd\n",
        "import numpy as np\n",
        "import matplotlib.pyplot as plt \n",
        "import seaborn as sns \n",
        "\n",
        "from sklearn.datasets import make_classification\n",
        "\n",
        "from sklearn.model_selection import train_test_split\n",
        "from sklearn.linear_model import LogisticRegression\n",
        "from sklearn.metrics import confusion_matrix\n",
        "from sklearn.metrics import recall_score         \n",
        "\n",
        "from sklearn.metrics import classification_report, make_scorer\n",
        "from imblearn.metrics import geometric_mean_score, classification_report_imbalanced\n",
        "from sklearn.model_selection import  cross_validate,  RepeatedStratifiedKFold "
      ],
      "metadata": {
        "id": "kKmbt9_Ji4TM"
      },
      "execution_count": null,
      "outputs": []
    },
    {
      "cell_type": "markdown",
      "source": [
        "Definamos una función que nos ayude a generar los datos desbalanceados de nuestros problemas."
      ],
      "metadata": {
        "id": "ZdsJ3xMQmDvM"
      }
    },
    {
      "cell_type": "code",
      "source": [
        "# Generando los conjuntos desbalanceados:\n",
        "# n: total de registros a generar\n",
        "# p0: proporción de registros de la clase mayoritaria (valor 0)\n",
        "# p1: proporción de registros de la clase minoritaria (valor 1)\n",
        "\n",
        "# Estrictamente solo necesitamos conocer una de las proporciones, ya que la otra\n",
        "# se obtiene con el complemento; pero estaremos indicando ambas para tener de \n",
        "# manera clara la partición de las dos clase.\n",
        "\n",
        "def mis_conjuntos(n, p0, p1):\n",
        "\n",
        "   X, y = make_classification(\n",
        "       n_samples=n,             # Se generan \"n\" registros donde cada factor tiene una distribución gaussiana con varianza 1.\n",
        "       n_classes=2,             # El conjunto de datos generado constará de dos clases diferentes.\n",
        "       n_features=2,            # Habrá 2 variables de entrada (factores o variables independientes)\n",
        "       n_redundant=0,           # No hay factores que sean redundantes, i.e., que uno sea combinación lineal de otros factores.\n",
        "       n_clusters_per_class=1,  # Cada clase se agrupa alrededor de un centro.\n",
        "       weights=[p0, p1],        # [proporción_clase_negativa(0), proporción_clase_positiva(1)]\n",
        "       flip_y=0.0 ,             # Porcentaje de datos mal etiquetados.\n",
        "       class_sep=0.1,           # Valor que indican la distancia entre clases. Más grande, mayor distancia.\n",
        "       random_state=0)\n",
        "   \n",
        "   return X,y\n"
      ],
      "metadata": {
        "id": "EWshJAUPMa9-"
      },
      "execution_count": null,
      "outputs": []
    },
    {
      "cell_type": "markdown",
      "source": [
        "##**Ejercicio - 1: Matriz de confusión**"
      ],
      "metadata": {
        "id": "e-4t1vdF7bGP"
      }
    },
    {
      "cell_type": "markdown",
      "source": [
        "Estaremos requiriendo el despliegue de la matriz de confusión con la información de verdaderos positivos y negativos, así como de los falsos positivos y negativos. \n",
        "\n",
        "\n",
        "\n",
        "1.   Define una función llamada \"mi_mc\" cuya salida sea el despliegue una matriz de confusión con la información como se indica en la imagen dada a continuación. Los argumentos de entrada de dicha función serán los arreglos unidimensionales de las observaciones reales \"yreal\" y las predicciones del modelo \"ypred\". Para colorearla de acuerdo a los valores numéricos de cada celda, utiliza el mapa de calor \"heatmap\" de seaborn, con la paleta de colores llamada 'Spectral'.  \n",
        "\n",
        "NOTA: Los valores numéricos y colores en la matriz de salida obviamente variarán de acuerdo a los datos de entrada de cada ejercicio.\n",
        "\n",
        "2.   Define una función llamada \"mi_recall\" que regrese el valor del recall o exhaustividad. Los argumentos de entrada de dicha función serán los arreglos unidimensionales de las observaciones reales \"yreal\" y las predicciones del modelo \"ypred\". Utiliza la función confusion_matrix para obtener los verdaderos y falsos positivos o negativos necesarios para calcular el recall."
      ],
      "metadata": {
        "id": "u6wkqzf-mWpK"
      }
    },
    {
      "cell_type": "markdown",
      "source": [
        "![image.png](data:image/png;base64,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)"
      ],
      "metadata": {
        "id": "lHisldgs2xnN"
      }
    },
    {
      "cell_type": "markdown",
      "source": [
        "Puedes revisar la documentación de la función \"confusion_matrix\" de scikit-learn para saber cómo obtener los valores numéricos de los verdaderos y falsos positivos y negativos:\n",
        "\n",
        "https://scikit-learn.org/stable/modules/generated/sklearn.metrics.confusion_matrix.html\n",
        "\n",
        "\n",
        "Y para el heatmap de seaborn:\n",
        "\n",
        "https://seaborn.pydata.org/generated/seaborn.heatmap.html\n",
        "\n"
      ],
      "metadata": {
        "id": "yprkF9xlyuJ2"
      }
    },
    {
      "cell_type": "markdown",
      "source": [
        "Referencias:\n",
        "<br>*Comprensión de la Matriz de confusion Y Como Implementarla en Python. (2020, May 15). DataSource.ai. https://www.datasource.ai/es/data-science-articles/comprension-de-la-matriz-de-confusion-y-como-implementarla-en-python*\n",
        "\n",
        "<br>*Sklearn.metrics.confusion_matrix. (n.d.). scikit-learn. Retrieved October 12, 2022, from https://scikit-learn.org/stable/modules/generated/sklearn.metrics.confusion_matrix.html*\n",
        "\n",
        "<br>*Seaborn.heatmap — Seaborn 0.11.2 documentation. (n.d.). seaborn: statistical data visualization — seaborn 0.11.2 documentation. https://seaborn.pydata.org/generated/seaborn.heatmap.html*\n",
        "\n",
        "<br>Vínculos: <br>\n",
        "https://www.datasource.ai/es/data-science-articles/comprension-de-la-matriz-de-confusion-y-como-implementarla-en-python"
      ],
      "metadata": {
        "id": "wshJ1lwjo-q5"
      }
    },
    {
      "cell_type": "code",
      "source": [
        "###############################################################################\n",
        "###############################################################################\n",
        "# INICIA LA SECCIÓN PARA AGREGAR CÓDIGO.\n",
        "\n",
        "# Ejercicio 1.1\n",
        "# Sustituye \"None\" por las líneas de código que definan la función con la\n",
        "# información que se te indica en el Ejercicio 1. \n",
        "# Se esperarían entre 10 y 14 líneas de código.\n",
        "\n",
        "\n",
        "def mi_cm(yreal, ypred):\n",
        "  \n",
        "  #fórmula: sklearn.metrics.confusion_matrix(y_true, y_pred, *, labels=None, sample_weight=None, normalize=None)\n",
        "  cm = confusion_matrix(yreal, ypred) \n",
        "  prim_renglon = [\"Verdaderos Negativos\", \"Falsos Positivos\", \"Falsos Negativos\", \"Verdaderos Positivos\"] \n",
        "  seg_renglon = ['( VN )', '( FP )', '( FN )', ' (VP) ']\n",
        "  ter_renglon = ['{0:0.0f}'.format(value) for value in cm.flatten()]\n",
        "  cuarto_renglon = ['{0:.1%}'.format(value) for value in cm.flatten()/np.sum(cm)]\n",
        "  labels = [f'{v1}\\n{v2}\\n{v3}\\n{v4}' for v1, v2, v3, v4 in zip(prim_renglon, seg_renglon, ter_renglon, cuarto_renglon)]\n",
        "  labels = np.asanyarray(labels).reshape(2,2)\n",
        "  plt.figure(figsize=(6,4))\n",
        "  Hmap = sns.heatmap(cm, annot=labels, fmt=\"\", linewidths=.5, cmap='Spectral', cbar=False)\n",
        "  Hmap.set(ylabel= 'Etiquetas Reales', xlabel = 'Etiquetas de Predicción')\n",
        "  plt.show()\n",
        "   \n",
        "  \n",
        "  #ConfMat = confusion_matrix(yreal, ypred)\n",
        "  #sns.set(rc = {'figure.figsize':(5,5)})\n",
        "  #sns.heatmap(ConfMat, cmap = \"Spectral\", linewidths=.5, annot= True)\n",
        "  #sns.set(xlabel='X-Eje del X', ylabel='Y-Eje del Y')\n",
        "  #return ConfMat\n",
        "\n",
        "\n",
        "# Ejercicio 1.2\n",
        "# Sustituye \"None\" por las líneas de código que definan la función mi_recall\n",
        "# como se te indica en las instrucciones. \n",
        "# Se esperarían unas 3 líneas de código\n",
        "\n",
        "def mi_recall(yreal, ypred):\n",
        "    \n",
        "  recall = recall_score(yreal, ypred)\n",
        "  \n",
        "  return recall\n",
        "\n",
        "\n",
        "# TERMINA LA SECCIÓN PARA AGREGAR CÓDIGO.\n",
        "###############################################################################\n",
        "###############################################################################\n",
        "\n"
      ],
      "metadata": {
        "id": "W41Ot0fBmRws"
      },
      "execution_count": null,
      "outputs": []
    },
    {
      "cell_type": "markdown",
      "source": [
        "A manera de prueba de la función recién definida verifiquemos su salida con los siguientes arreglos unidimensionales ficticios:"
      ],
      "metadata": {
        "id": "uDcKD8ROv9En"
      }
    },
    {
      "cell_type": "code",
      "source": [
        "yreal = np.array([1, 1, 1, 1, 1, 1, 1, 0, 0, 0])\n",
        "ypred = np.array([1, 1, 1, 1, 0, 0, 0, 0, 0, 1])\n",
        "\n",
        "mi_cm(yreal, ypred)\n",
        "\n",
        "print(\"Valor del recall: %.4f\" % mi_recall(yreal, ypred))"
      ],
      "metadata": {
        "id": "5fOyAeWk05Z5",
        "colab": {
          "base_uri": "https://localhost:8080/",
          "height": 297
        },
        "outputId": "5d6ca634-8bd2-4a38-dee4-933bb5f9f487"
      },
      "execution_count": null,
      "outputs": [
        {
          "output_type": "display_data",
          "data": {
            "text/plain": [
              "<Figure size 432x288 with 1 Axes>"
            ],
            "image/png": "[encoded data removed]"
          },
          "metadata": {
            "needs_background": "light"
          }
        },
        {
          "output_type": "stream",
          "name": "stdout",
          "text": [
            "Valor del recall: 0.5714\n"
          ]
        }
      ]
    },
    {
      "cell_type": "markdown",
      "source": [
        "### Generemos una distribución de clases binaria de 85% de clase negativa y 15% de la clase positiva con 1,000 registros y con partición en entrenamiento y validación de 80% y 20%, respectivamente:"
      ],
      "metadata": {
        "id": "-fUSHKroBvDx"
      }
    },
    {
      "cell_type": "code",
      "source": [
        "X,y = mis_conjuntos(1000, 0.85, 0.15)\n",
        "X_train, X_val, y_train, y_val = train_test_split(X, y, train_size=0.80, random_state=10)\n",
        "\n",
        "df = pd.DataFrame(X, columns=['x1','x2'])\n",
        "df['y'] = y\n",
        "\n",
        "plt.figure(figsize=(8,6))\n",
        "sns.scatterplot(data=df, x='x1', y='x2', hue='y');"
      ],
      "metadata": {
        "id": "ShR7Wld0koqX"
      },
      "execution_count": null,
      "outputs": []
    },
    {
      "cell_type": "markdown",
      "source": [
        "Como lo hemos comentado, verifiquemos que si entrenamos y generamos el modelo sin ningún tipo de ajuste sobre el desbalanceo de las clases el resultado no será satisfactorio: "
      ],
      "metadata": {
        "id": "nVDzWfvS7t4i"
      }
    },
    {
      "cell_type": "code",
      "source": [
        "modelo = LogisticRegression().fit(X_train, y_train)  \n",
        "\n",
        "print('Exactitud con datos de Validación: %.1f%%' % (100*modelo.score(X_val,y_val)))\n",
        "mi_cm(y_val, modelo.predict(X_val))\n",
        "print(\"Valor del recall: %.4f\" % mi_recall(y_val, modelo.predict(X_val)))"
      ],
      "metadata": {
        "id": "J8g8r9zx7xKY"
      },
      "execution_count": null,
      "outputs": []
    },
    {
      "cell_type": "markdown",
      "source": [
        "##**Ejercicio - 2: Balanceo con ponderación de las clases**"
      ],
      "metadata": {
        "id": "HF74HpQyStYI"
      }
    },
    {
      "cell_type": "markdown",
      "source": [
        "Es importante entender la manera en que se balancean los pesos de cada clase durante el proceso de optimización en el entrenamiento.\n",
        "\n",
        "Comentamos que en particular la librería scickit-learn balancea las clases de acuerdo al valor \"balanced\" del argumento \"class_weight\" en la función LogisticRegression de acuerdo a una relación inversa de su distibución y como lo explicamos en el Jupiter-Notebook de esta semana. \n",
        "\n",
        "El objetivo de este ejercicio será que implementes la fórmula equivalente a la utilizada con argumento \"balanced\" de \"class_weight\". Revisa nuevamente el Jupyter-Notebook de esta semana y la documentación correspondiente:\n",
        "\n",
        "https://scikit-learn.org/stable/modules/generated/sklearn.linear_model.LogisticRegression.html \n",
        "\n",
        "Primero ejecutemos el modelo con el argumento \"balanced\" para que obtener los resultados a los que deberás llegar:"
      ],
      "metadata": {
        "id": "Msif1jTNDv4G"
      }
    },
    {
      "cell_type": "code",
      "source": [
        "modelo = LogisticRegression(class_weight='balanced', \n",
        "                            random_state=0).fit(X_train, y_train)\n",
        "\n",
        "yhat = modelo.predict(X_val)\n",
        "\n",
        "print('Exactitud con datos de Validación: %.1f%%' % (100*modelo.score(X_val,y_val)))\n",
        "mi_cm(y_val, yhat)\n",
        "print(\"Valor del recall: %.4f\" % mi_recall(y_val, modelo.predict(X_val)))"
      ],
      "metadata": {
        "id": "ekVLUChHjUOz"
      },
      "execution_count": null,
      "outputs": []
    },
    {
      "cell_type": "markdown",
      "source": [
        "The “balanced” mode uses the values of y to automatically adjust weights inversely proportional to class frequencies in the input data as n_samples / (n_classes * np.bincount(y))."
      ],
      "metadata": {
        "id": "_NKogLS_GU-S"
      }
    },
    {
      "cell_type": "markdown",
      "source": [
        "Ejercicio 2:\n",
        "\n",
        "1.   Define los pesos del argumento \"class_weight\" de la función LogisticRegression() de scikit-learn, de acuerdo a como se definen con la opción \"balanced\" y la cual se comenta en la documentación que se define usando los valores de \"y\" de los datos de entrada para ajustar los pesos de manera inversamente proporcional a las frecuencias de cada clase.\n",
        "\n",
        "2.   Asigna los pesos definidos a la función LogisticRegression() de scikit-learn a través de su argumento \"class_weight\"."
      ],
      "metadata": {
        "id": "bgMafHLTE1nz"
      }
    },
    {
      "cell_type": "code",
      "source": [
        "###############################################################################\n",
        "###############################################################################\n",
        "# INICIA LA SECCIÓN PARA AGREGAR CÓDIGO.\n",
        "\n",
        "# Ejercicio 2.1\n",
        "# Sustituye \"None\" por las expresiones de los pesos que balanceen ambas\n",
        "# clases de la misma manera que hace el argumento \"balanced\" en \"class_weight\"\n",
        "# de la función LogisticRegression() de scikit-learn.\n",
        "# Recuerda que solo debes incluir tu código en lugar de \"None\" y no puedes\n",
        "# modificar el resto del código.\n",
        "\n",
        "# Agrega aquí tus líneas de código. \n",
        "# Se esperan de 3 a 8 líneas de código.\n",
        "\n",
        "None\n",
        "\n",
        "# Ponderación asignada a la clase negativa:\n",
        "w0 = None\n",
        "\n",
        "\n",
        "# Ponderación asignada a la clase positiva:\n",
        "w1 = None \n",
        "\n",
        "\n",
        "\n",
        "# Ejercicios 2.2\n",
        "# Asigna los pesos definidos a cada clase en el argumento \"class_weight\":\n",
        "modeloW = LogisticRegression(class_weight = None , \n",
        "                             random_state=0)\n",
        "\n",
        "\n",
        "\n",
        "# TERMINA LA SECCIÓN PARA AGREGAR CÓDIGO.\n",
        "###############################################################################\n",
        "###############################################################################\n"
      ],
      "metadata": {
        "id": "acU9NTXpid98"
      },
      "execution_count": null,
      "outputs": []
    },
    {
      "cell_type": "code",
      "source": [
        "# Imprimimos los valores de los pesos obtenidos:\n",
        "print('w0 = ', w0)\n",
        "print('w1 = ', w1)\n",
        "\n",
        "# Entrenamos y calculamos las predicciones con el conjunto de validación:\n",
        "modelo.fit(X_train, y_train)\n",
        "yhat = modelo.predict(X_val)\n",
        "\n",
        "\n",
        "# E imprimimos la exactitud, recall y matriz de confusión para verificar los resultados:\n",
        "print('Exactitud con datos de Validación: %.1f%%' % (100*modelo.score(X_val,y_val)))\n",
        "mi_cm(y_val, yhat)\n",
        "print(\"Valor del recall: %.4f\" % mi_recall(y_val, modelo.predict(X_val)))"
      ],
      "metadata": {
        "id": "tRh4-eOrVdSH"
      },
      "execution_count": null,
      "outputs": []
    },
    {
      "cell_type": "markdown",
      "source": [
        "##**Ejercicio - 3: métrica $G{\\text-}mean$**"
      ],
      "metadata": {
        "id": "3oxGLtH86NxE"
      }
    },
    {
      "cell_type": "markdown",
      "source": [
        "El siguiente ejercicio es independiente del anterior.\n",
        "\n",
        "\n",
        "Primeramente importamos lo necesario y definimos un nuevo conjunto de datos con 7,000 registros y una distribución de clases de $90\\%$ y $10\\%$."
      ],
      "metadata": {
        "id": "4HIvW_fuKitA"
      }
    },
    {
      "cell_type": "code",
      "source": [
        "from sklearn.model_selection import GridSearchCV\n",
        "from sklearn.dummy import DummyClassifier \n",
        "\n",
        "X,y = mis_conjuntos(7000, 0.90, 0.10)\n",
        "\n",
        "X_train, X_val, y_train, y_val = train_test_split(X, y, train_size=0.80, random_state=10)\n",
        "\n",
        "df = pd.DataFrame(X, columns=['x1','x2'])\n",
        "df['y'] = y\n",
        "\n",
        "plt.figure(figsize=(8,6))\n",
        "sns.scatterplot(data=df, x='x1', y='x2', hue='y');"
      ],
      "metadata": {
        "id": "1lqvL47d6K43"
      },
      "execution_count": null,
      "outputs": []
    },
    {
      "cell_type": "markdown",
      "source": [
        "En este ejercicio se requiere que definas una función que calcule la métrica $G{\\text-}mean$ que será utilizada para obtener desempeños mínimos del modelo con el clasificador Dummy, utilizando ahora la estrategia \"uniform\". En esta ocasión no utilizamos la estrategia \"stratified\" ya que debido al gran desbalanceo de las clases, no se obtendría un buen desempeño con ella (puedes intentarlo para que veas los resultados).\n",
        "\n",
        "Puedes usar la función \"confusion_matrix()\" de scikit-learn para obtener los verdaderos y falsos negativos y positivos correspondientes.\n",
        "\n",
        "Ejercicio 3:\n",
        "\n",
        "1.   Define la función $G{\\text-}mean$ que nos regrese el valor de dicha métrica.  Los argumentos de entrada de dicha función serán los arreglos unidimensionales de las observaciones reales \"yreal\" y las predicciones del modelo \"ypred\". \n",
        " \n",
        "\n",
        "Puedes usar también la función ravel() de Numpy con la función \"confusion_matrix()\", si así lo deseas:\n",
        "\n",
        "https://numpy.org/doc/stable/reference/generated/numpy.ravel.ht"
      ],
      "metadata": {
        "id": "dSvZB79oA6SE"
      }
    },
    {
      "cell_type": "code",
      "source": [
        "def mi_gmean(yreal, ypred):\n",
        "\n",
        "     ##########################################################################\n",
        "     ##########################################################################\n",
        "     # INICIA LA SECCIÓN PARA AGREGAR CÓDIGO.\n",
        "     # Ejercicio 3\n",
        "     # Incluye las líneas de código que calculen el valor de la métrica G-mean.\n",
        "     # Sustituye None por tus líneas de código. \n",
        "     # Se esperan en promedio unas 4 líneas de código.\n",
        "\n",
        "     None\n",
        "\n",
        "     gmean = None\n",
        "\n",
        "     return gmean\n",
        "\n",
        "     # TERMINA LA SECCIÓN PARA AGREGAR CÓDIGO.\n",
        "     #########################################################################\n",
        "    "
      ],
      "metadata": {
        "id": "6fdM_hfxLqnb"
      },
      "execution_count": null,
      "outputs": []
    },
    {
      "cell_type": "code",
      "source": [
        "# Ahora obtengamos los resultados:\n",
        "\n",
        "modeloDummy = DummyClassifier(strategy='uniform', random_state=11)  \n",
        "\n",
        "modeloDummy.fit(X_train, y_train)  \n",
        "yhat = modeloDummy.predict(X_val)    \n",
        "\n",
        "print('Matriz de confusión del modelo Dummy con la estrategia Uniform:')      \n",
        "print(mi_cm(y_val, yhat))\n",
        "\n",
        "gmean = mi_gmean(y_val, yhat)\n",
        "\n",
        "print('Valor de Gmean a superar: %.4f' % gmean)\n",
        "print(\"Valor del recall a superar: %.4f\" % mi_recall(y_val, yhat))"
      ],
      "metadata": {
        "id": "QbUqqtv188rF"
      },
      "execution_count": null,
      "outputs": []
    },
    {
      "cell_type": "markdown",
      "source": [
        "El siguiente ejercicio utiliza el mismo conjunto de datos y utilizaremos este valor de $G{\\text-}mean$ como valor de partida."
      ],
      "metadata": {
        "id": "UOfWLNy8TMks"
      }
    },
    {
      "cell_type": "markdown",
      "source": [
        "##**Ejercicio - 4: definiendo los modelos de submuestreo y sobremuestreo a implementar**"
      ],
      "metadata": {
        "id": "0CBqCS2vVdKs"
      }
    },
    {
      "cell_type": "markdown",
      "source": [
        "En este ejercicio utilizaremos solamente 4 modelos en total de submuestreo y sobremuestreo: RandomOversampling, TomekLinks, SMOTE y SMOTEENN.\n",
        "\n",
        "\n"
      ],
      "metadata": {
        "id": "i7I8oh1xXxl0"
      }
    },
    {
      "cell_type": "code",
      "source": [
        "from imblearn.under_sampling import TomekLinks\n",
        "from imblearn.over_sampling import SMOTE\n",
        "from imblearn.combine import SMOTEENN\n",
        "from imblearn.over_sampling import RandomOverSampler\n",
        "\n",
        "from sklearn.model_selection import cross_val_score \n",
        "from imblearn.pipeline import make_pipeline"
      ],
      "metadata": {
        "id": "vlMfqDjKVvNd"
      },
      "execution_count": null,
      "outputs": []
    },
    {
      "cell_type": "markdown",
      "source": [
        "Ejercicio 4:\n",
        "\n",
        "1.   Define una lista con los nombres y métodos de submuestreo y sobremuestreo que se indican a continuación y en este orden: Random-Oversampling, Tomek-links, SMOTE y SMOTEEN.\n",
        "\n",
        "\n"
      ],
      "metadata": {
        "id": "soN_B9ztdSN_"
      }
    },
    {
      "cell_type": "code",
      "source": [
        "##########################################################################\n",
        "##########################################################################\n",
        "# INICIA LA SECCIÓN PARA AGREGAR CÓDIGO.\n",
        "# Ejercicio 4.1\n",
        "# Incluye las líneas de código para incluir las funciones de submuestreo o \n",
        "# sobremustreo indicada, así como sus nombres.\n",
        "# Sustituye None por tus líneas de código. \n",
        "# Se esperan dos líneas de código en cada None.\n",
        "\n",
        "def get_models_underoversampling():\n",
        "  modelos, nombres = list(), list()\n",
        "\n",
        "  # técnica y nombre: RandOver\n",
        "  None\n",
        "\n",
        "  # técnica y nombre: TomekLinks\n",
        "  None\n",
        "\n",
        "  # técnica y nombre: SMOTE\n",
        "  None\n",
        "\n",
        "  # técnica y nombre: SMOTEENN\n",
        "  None\n",
        "\n",
        "\n",
        "  return modelos, nombres\n",
        "\n",
        "# TERMINA LA SECCIÓN PARA AGREGAR CÓDIGO.\n",
        "#########################################################################"
      ],
      "metadata": {
        "id": "_YNQDVgHeO3d"
      },
      "execution_count": null,
      "outputs": []
    },
    {
      "cell_type": "markdown",
      "source": [
        "##**Ejercicio - 5: Entrenamiento con modelos sub y sobre muestreo**\n",
        "\n"
      ],
      "metadata": {
        "id": "pZlU75Z1gspD"
      }
    },
    {
      "cell_type": "markdown",
      "source": [
        "En este caso usaremos la métrica $G{\\text-}mean$ y $recall$ para compararlos. \n",
        "\n",
        "Además, aplicaremos validación cruzada.\n",
        "\n",
        "Deberás incluir las líneas de código necesarias para llevar a cabo el entrenamiento del modelo de regresión lineal con cada una de las cuatro técnicas de subentrenamiento y sobreentrenamiento que incluiste previamente. \n",
        "\n",
        "En el entrenamiento deberás utilizar las métricas $accuracy$ y las $G{\\text-}mean$  y $recall$ que definiste previamente como \"mi_gmean\" y \"mi_recall\". \n",
        "\n",
        "Además, deberás utilizar la función \"cross_validate()\". Puedes apoyarte en el JupyterNotebook de esta semana.\n"
      ],
      "metadata": {
        "id": "6AJpcD2DeBtw"
      }
    },
    {
      "cell_type": "markdown",
      "source": [
        "1.   Define la lista de las métricas a utilizar: accuracy, gmean y recall, donde gmean y recall deben ser las funciones que tú definiste previamente.\n",
        "\n",
        "2.   Realiza el entrenamiento con la función \"cross_validate()\" de scikit-learn.\n",
        "\n",
        "3.   Agrega el resultado y nombre de cada modelo entrenado a la lista correspondiente."
      ],
      "metadata": {
        "id": "Ee8mGmTziZu7"
      }
    },
    {
      "cell_type": "markdown",
      "source": [
        "Puedes consutlar la siguiente documentación:\n",
        "\n",
        "https://scikit-learn.org/stable/modules/generated/sklearn.metrics.make_scorer.html"
      ],
      "metadata": {
        "id": "Seouc7yQW8es"
      }
    },
    {
      "cell_type": "code",
      "source": [
        "modelosOU, nombres = get_models_underoversampling()       \n",
        "resultados = list()\n",
        "\n",
        "for i in range(len(modelosOU)):\n",
        "\n",
        "  model = LogisticRegression(class_weight='balanced')    \n",
        "  kfold = RepeatedStratifiedKFold(n_splits=5, n_repeats=3) \n",
        "  pipe = make_pipeline((modelosOU[i]), (model))\n",
        "\n",
        "\n",
        "  #########################################################################\n",
        "  #########################################################################\n",
        "  # INICIA LA SECCIÓN PARA AGREGAR CÓDIGO.\n",
        "  # Ejercicio 5\n",
        "  # Utiliza las métricas Accuracy, mi_Gmean y mi_Recall para entrenar\n",
        "  # el modelo con los conjuntos \"X\" y \"y\" y cv=kfold. Guarda los\n",
        "  # resultados y nombres en las variables correspondientes.\n",
        "  # Sustituye \"None\" por tus líneas de código dentro de esta región.\n",
        "  # Se espera 1 línea de código en cada None.\n",
        "\n",
        "  # Ejercicio 5.1:  \n",
        "  mismetricas = None\n",
        "\n",
        "  # Ejercicio 5.2:\n",
        "  resultadosOU = None\n",
        "\n",
        "  # Ejercicio 5.3:\n",
        "  # agregando resultados a la lista:\n",
        "  None \n",
        "\n",
        "  \n",
        "  # TERMINA LA SECCIÓN PARA AGREGAR CÓDIGO.\n",
        "  #########################################################################\n",
        "\n",
        "\n",
        "\n",
        "\n",
        "\n",
        "  print('%s:\\nmean Accuracy: %.3f (%.4f)\\nmean Recall: %.3f (%.4f)\\nGmean: %.3f (%.4f)\\n' % (nombres[i],\n",
        "                                                                          np.mean(resultadosOU['test_accuracy']),\n",
        "                                                                          np.std(resultadosOU['test_accuracy']), \n",
        "                                                                          np.mean(resultadosOU['test_recall']),\n",
        "                                                                          np.std(resultadosOU['test_recall']),\n",
        "                                                                          np.mean(resultadosOU['test_gmean']),\n",
        "                                                                          np.std(resultadosOU['test_gmean']),  \n",
        "                                                                          ))\n"
      ],
      "metadata": {
        "id": "t_awixRTVvEi"
      },
      "execution_count": null,
      "outputs": []
    },
    {
      "cell_type": "markdown",
      "source": [
        "Por la variabilidad de la validación cruzada puedes obtener resultados algo diferentes en cada ejecución. Y como comentamos previamente, por el momento la mejora puede ser mínima. \n"
      ],
      "metadata": {
        "id": "gmK7glMqjVAH"
      }
    },
    {
      "cell_type": "markdown",
      "source": [
        "##**Ejercicio - 6: Diagramas de caja**"
      ],
      "metadata": {
        "id": "IOAp20JNmMeM"
      }
    },
    {
      "cell_type": "markdown",
      "source": [
        "\n",
        "Finalmente incluye los diagramas de caja (boxplots) de los cuatro modelos entrenados. En general se obtuvieron mejores resultados con la métrica $recall$, por lo que se graficarán estos resultados para los conjuntos de validación.\n",
        "\n",
        "NOTA: \"cross_validate()\" le llama en general \"test\" a los resultados obtenidos con el conjunto de validación."
      ],
      "metadata": {
        "id": "X4fhJSQ3mFsD"
      }
    },
    {
      "cell_type": "code",
      "source": [
        "sns.set(rc={'figure.figsize':(8,4)})\n",
        "\n",
        "#########################################################################\n",
        "#########################################################################\n",
        "# INICIA LA SECCIÓN PARA AGREGAR CÓDIGO.\n",
        "# Ejercicio 6\n",
        "# Incluir el diagrama de caja de cada modelo de los resultados obtenidos \n",
        "# con la métrica Recall.\n",
        "# Sustituye None por las líneas de código.\n",
        "# Se esperan unas 5 líneas de código aproximadamente.\n",
        "\n",
        "None\n",
        "\n",
        "# TERMINA LA SECCIÓN PARA AGREGAR CÓDIGO.\n",
        "#########################################################################\n",
        "\n",
        "plt.show()"
      ],
      "metadata": {
        "id": "ZFFW6rxXWLnr"
      },
      "execution_count": null,
      "outputs": []
    },
    {
      "cell_type": "code",
      "source": [
        "print(classification_report(y_val, yhat))\n",
        "\n",
        "print(classification_report_imbalanced(y_val,yhat))"
      ],
      "metadata": {
        "id": "g80st--rWLls"
      },
      "execution_count": null,
      "outputs": []
    },
    {
      "cell_type": "markdown",
      "source": [
        "##**Ejercicio - 7: CONCLUSIONES FINALES:**"
      ],
      "metadata": {
        "id": "iQwgT8X7lRlI"
      }
    },
    {
      "cell_type": "markdown",
      "source": [
        "Incluye tus conclusiones finales de esta activiadad.\n",
        "\n",
        "INICIA LA SECCIÓN PARA AGREGAR TEXTO:\n",
        "\n",
        "None"
      ],
      "metadata": {
        "id": "SEWonlkQs3pO"
      }
    },
    {
      "cell_type": "markdown",
      "source": [
        "###**Fin de los ejercicios de la semana 5**"
      ],
      "metadata": {
        "id": "pMjJQ193WezD"
      }
    }
  ]
}